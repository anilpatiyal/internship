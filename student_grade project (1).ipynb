{
 "cells": [
  {
   "cell_type": "code",
   "execution_count": null,
   "id": "ca78b01a",
   "metadata": {},
   "outputs": [],
   "source": [
    "import numpy as np\n",
    "import pandas as pd\n",
    "import matplotlib.pyplot as plt\n",
    "import seaborn as sns\n",
    "import warnings\n",
    "warnings.filterwarnings(\"ignore\")"
   ]
  },
  {
   "cell_type": "code",
   "execution_count": null,
   "id": "358b0dac",
   "metadata": {},
   "outputs": [],
   "source": [
    "#url of the dataset\n",
    "url=\"https://raw.githubusercontent.com/FlipRoboTechnologies/ML-Datasets/main/Grades/Grades.csv\"\n",
    "df=pd.read_csv(url)\n",
    "df"
   ]
  },
  {
   "cell_type": "markdown",
   "id": "a04aabeb",
   "metadata": {},
   "source": [
    "# Exploratory Data Analysis (EDA)"
   ]
  },
  {
   "cell_type": "code",
   "execution_count": null,
   "id": "46528416",
   "metadata": {},
   "outputs": [],
   "source": [
    "df.shape"
   ]
  },
  {
   "cell_type": "markdown",
   "id": "ae1c5654",
   "metadata": {},
   "source": [
    "The Dataset contain 571 rows and 43 columns"
   ]
  },
  {
   "cell_type": "code",
   "execution_count": null,
   "id": "77ccd483",
   "metadata": {},
   "outputs": [],
   "source": [
    "df.columns"
   ]
  },
  {
   "cell_type": "code",
   "execution_count": null,
   "id": "c4efc496",
   "metadata": {},
   "outputs": [],
   "source": [
    "#checking the datatypes of columns\n",
    "df.dtypes"
   ]
  },
  {
   "cell_type": "markdown",
   "id": "1040dde0",
   "metadata": {},
   "source": [
    "Here only 1 numerical columns are present as float64 and 42 object or string in dataset"
   ]
  },
  {
   "cell_type": "code",
   "execution_count": null,
   "id": "56fe732f",
   "metadata": {},
   "outputs": [],
   "source": [
    "df.head()"
   ]
  },
  {
   "cell_type": "code",
   "execution_count": null,
   "id": "fba3da89",
   "metadata": {},
   "outputs": [],
   "source": [
    "df.tail(15)"
   ]
  },
  {
   "cell_type": "markdown",
   "id": "d3165583",
   "metadata": {},
   "source": [
    "Here we can find few NaN value present in table like 565 rows and many entry as NaN"
   ]
  },
  {
   "cell_type": "markdown",
   "id": "44679b0d",
   "metadata": {},
   "source": [
    "# np.nan,None,NaN,others"
   ]
  },
  {
   "cell_type": "code",
   "execution_count": null,
   "id": "baf3bfd8",
   "metadata": {},
   "outputs": [],
   "source": [
    "#Checking the null value in the dataset\n",
    "df.isnull().sum()"
   ]
  },
  {
   "cell_type": "code",
   "execution_count": null,
   "id": "e9eea3a5",
   "metadata": {},
   "outputs": [],
   "source": [
    "# checking the total value present in dataset \n",
    "df.isnull().sum().sum()"
   ]
  },
  {
   "cell_type": "code",
   "execution_count": null,
   "id": "7f8aebeb",
   "metadata": {},
   "outputs": [],
   "source": [
    "df.info()"
   ]
  },
  {
   "cell_type": "code",
   "execution_count": null,
   "id": "bcbf7665",
   "metadata": {},
   "outputs": [],
   "source": [
    "#lets visualize it using heatmap\n",
    "sns.heatmap(df.isnull())"
   ]
  },
  {
   "cell_type": "markdown",
   "id": "4b41bc4a",
   "metadata": {},
   "source": [
    "As we can find 425 null values and limited data set of 571 rows we cannot drop this much of data lets check "
   ]
  },
  {
   "cell_type": "code",
   "execution_count": null,
   "id": "68cbab16",
   "metadata": {},
   "outputs": [],
   "source": [
    "df"
   ]
  },
  {
   "cell_type": "code",
   "execution_count": null,
   "id": "635f80d5",
   "metadata": {},
   "outputs": [],
   "source": [
    "rows_to_drop=[44,60,91,137,142,143,281,282,288,565]\n",
    "\n",
    "df.drop(rows_to_drop,inplace = True)\n",
    "df.shape"
   ]
  },
  {
   "cell_type": "code",
   "execution_count": null,
   "id": "d3d29d47",
   "metadata": {},
   "outputs": [],
   "source": [
    "# checking the unique value \n",
    "df[\"CGPA\"].unique()"
   ]
  },
  {
   "cell_type": "code",
   "execution_count": null,
   "id": "69bf9486",
   "metadata": {},
   "outputs": [],
   "source": [
    "# checking the unique value count\n",
    "df[\"CGPA\"].nunique()"
   ]
  },
  {
   "cell_type": "code",
   "execution_count": null,
   "id": "4b2dce8d",
   "metadata": {},
   "outputs": [],
   "source": [
    "#Checking the value count of each variabe in the table\n",
    "\n",
    "for i in df:\n",
    "    print(df[i].value_counts())\n",
    "    print(\"\\n\")"
   ]
  },
  {
   "cell_type": "markdown",
   "id": "cc4757e6",
   "metadata": {},
   "source": [
    "Can also drop Seat No. column as it not such importance to the CGPA with grades and also has same unique count as total no. of entry"
   ]
  },
  {
   "cell_type": "code",
   "execution_count": null,
   "id": "72035a6c",
   "metadata": {},
   "outputs": [],
   "source": [
    "df.drop(\"Seat No.\",axis=1,inplace=True)"
   ]
  },
  {
   "cell_type": "markdown",
   "id": "fb3e0c87",
   "metadata": {},
   "source": [
    "After lets fill the Missing value with simple imputer"
   ]
  },
  {
   "cell_type": "markdown",
   "id": "747db418",
   "metadata": {},
   "source": [
    "# Feature Engineering "
   ]
  },
  {
   "cell_type": "code",
   "execution_count": null,
   "id": "f07be1c0",
   "metadata": {},
   "outputs": [],
   "source": [
    "from sklearn.impute import SimpleImputer\n",
    "imp=SimpleImputer(missing_values=np.nan,strategy=\"most_frequent\")\n",
    "\n",
    "for i in df:\n",
    "    df[i]=imp.fit_transform(df[i].values.reshape(-1,1))\n",
    "    \n",
    "df"
   ]
  },
  {
   "cell_type": "code",
   "execution_count": null,
   "id": "7a3a8d6d",
   "metadata": {},
   "outputs": [],
   "source": [
    "df.isnull().sum().sum()"
   ]
  },
  {
   "cell_type": "code",
   "execution_count": null,
   "id": "305d3743",
   "metadata": {},
   "outputs": [],
   "source": [
    "#checking number of unique values in Glass dataset\n",
    "df.nunique().to_frame(\"No. of unique value\")"
   ]
  },
  {
   "cell_type": "code",
   "execution_count": null,
   "id": "0c866640",
   "metadata": {},
   "outputs": [],
   "source": [
    "df.dtypes"
   ]
  },
  {
   "cell_type": "markdown",
   "id": "42afda15",
   "metadata": {},
   "source": [
    "As the problem of this data set is to predict CGPA after scoring grade in particular subject as the problem solution is in numerical data float 64 which require Regression model to predict CGPA query so to convert object into numerical data using label encoder "
   ]
  },
  {
   "cell_type": "code",
   "execution_count": null,
   "id": "52b096d1",
   "metadata": {},
   "outputs": [],
   "source": [
    "from sklearn.preprocessing import LabelEncoder\n",
    "LE=LabelEncoder()\n",
    "\n",
    "for i in df:\n",
    "    if df[i].dtypes==\"object\":\n",
    "        df[i]=LE.fit_transform(df[i].values.reshape(-1,1))\n",
    "        \n",
    "        \n",
    "df"
   ]
  },
  {
   "cell_type": "markdown",
   "id": "d870a1a8",
   "metadata": {},
   "source": [
    "# Description of Dataset"
   ]
  },
  {
   "cell_type": "code",
   "execution_count": null,
   "id": "36b7043c",
   "metadata": {},
   "outputs": [],
   "source": [
    "# Statistical summary of numerical columns\n",
    "df.describe()"
   ]
  },
  {
   "cell_type": "markdown",
   "id": "09ad61b6",
   "metadata": {},
   "source": [
    "We can find min ,max ,IQR mean median stastistical summary of Target column as other features are generally classification as data specified is Grades"
   ]
  },
  {
   "cell_type": "code",
   "execution_count": null,
   "id": "ef89614d",
   "metadata": {},
   "outputs": [],
   "source": [
    "plt.figure(figsize=(22,10))\n",
    "sns.heatmap(df.describe(),annot=True,fmt=\"0.2f\",linewidth=0.2,linecolor=\"black\",cmap=\"Spectral\")\n",
    "plt.xlabel(\"Features Names\",fontsize=14)\n",
    "plt.ylabel(\"Descriptive Stats\",fontsize=14)\n",
    "plt.title(\"Descriptive Graph\",fontsize=20)\n",
    "plt.show()"
   ]
  },
  {
   "cell_type": "markdown",
   "id": "1e5db861",
   "metadata": {},
   "source": [
    "# Data Visualization"
   ]
  },
  {
   "cell_type": "markdown",
   "id": "5d5a9dcf",
   "metadata": {},
   "source": [
    "# Univariate Analysis"
   ]
  },
  {
   "cell_type": "code",
   "execution_count": null,
   "id": "ee564d6d",
   "metadata": {},
   "outputs": [],
   "source": [
    "#Visualize the number of label target as \n",
    "\n",
    "sns.countplot(x='CGPA',data=df)\n"
   ]
  },
  {
   "cell_type": "code",
   "execution_count": null,
   "id": "8df4ce3f",
   "metadata": {},
   "outputs": [],
   "source": [
    "# Checking the count of each feature and target variable\n",
    "\n",
    "for i in df:\n",
    "    plt.figure(figsize=(12,3),facecolor=\"white\")\n",
    "    sns.countplot(x=i,data=df)\n",
    "plt.show()"
   ]
  },
  {
   "cell_type": "code",
   "execution_count": null,
   "id": "71012471",
   "metadata": {},
   "outputs": [],
   "source": [
    "#Checking the data Distribution\n",
    "\n",
    "# Lets check how the data has been distributed in numerical column\n",
    "\n",
    "plt.figure(figsize=(35,30),facecolor=\"white\")\n",
    "plotnum=1\n",
    "for col in df:\n",
    "    if plotnum<=43:\n",
    "        plt.subplot(9,5,plotnum)\n",
    "        sns.distplot(df[col],color=\"m\")\n",
    "        plt.xlabel(col,fontsize = 10)\n",
    "        plt.yticks(rotation=0, fontsize = 10)\n",
    "    plotnum+=1\n",
    "plt.show()"
   ]
  },
  {
   "cell_type": "markdown",
   "id": "7b9d8448",
   "metadata": {},
   "source": [
    "# Bivariate Analysis"
   ]
  },
  {
   "cell_type": "code",
   "execution_count": null,
   "id": "6fd9c54f",
   "metadata": {},
   "outputs": [],
   "source": [
    "for i in  df.columns:\n",
    "    plt.figure(figsize=(4,2),facecolor=\"white\")\n",
    "    sns.lmplot(x=i ,y=\"CGPA\", data=df, palette=\"colorblind\")\n",
    "    plt.xlabel(i)\n",
    "    plt.ylabel(\"CGPA\")\n",
    "plt.show()"
   ]
  },
  {
   "cell_type": "code",
   "execution_count": null,
   "id": "67a39cd1",
   "metadata": {},
   "outputs": [],
   "source": [
    "for i in  df.columns:\n",
    "    plt.figure(figsize=(3,2),facecolor=\"white\")\n",
    "    sns.lmplot(x=\"CGPA\" ,y=i, data=df, palette=\"colorblind\")\n",
    "    plt.xlabel(\"CGPA\")\n",
    "    plt.ylabel(i)\n",
    "plt.show()"
   ]
  },
  {
   "cell_type": "markdown",
   "id": "8dc6fbcb",
   "metadata": {},
   "source": [
    "From the both plot we can observe as Grade decrease from F,D to A+ leads to increase in CGPA score or vice versa "
   ]
  },
  {
   "cell_type": "code",
   "execution_count": null,
   "id": "411b8a97",
   "metadata": {},
   "outputs": [],
   "source": [
    "plt.figure(figsize=(20,25))\n",
    "p=1\n",
    "for i in df:\n",
    "    if p<=42:\n",
    "        plt.subplot(11,4,p)\n",
    "        sns.regplot(x=\"CGPA\",y=i, data=df,color=\"r\")\n",
    "        plt.xlabel(\"CGPA\")\n",
    "        plt.ylabel(i)\n",
    "    p+=1\n",
    "    \n",
    "plt.show()"
   ]
  },
  {
   "cell_type": "code",
   "execution_count": null,
   "id": "ed4dc014",
   "metadata": {},
   "outputs": [],
   "source": [
    "plt.figure(figsize=(20,25))\n",
    "p=1\n",
    "for i in df:\n",
    "    if p<=42:\n",
    "        plt.subplot(11,4,p)\n",
    "        sns.scatterplot(x=\"CGPA\",y=i, data=df,color=\"r\")\n",
    "        plt.xlabel(\"CGPA\")\n",
    "        plt.ylabel(i)\n",
    "    p+=1\n",
    "    \n",
    "plt.show()"
   ]
  },
  {
   "cell_type": "code",
   "execution_count": null,
   "id": "5e6549e3",
   "metadata": {},
   "outputs": [],
   "source": [
    "#Comparing CGPA Score  with other columns using barplot plot to find any relationship \n",
    "plt.figure(figsize=(20,25))\n",
    "p=1\n",
    "for i in df.columns:\n",
    "    if p<=42:\n",
    "        plt.subplot(11,4,p)\n",
    "        sns.barplot(x=i,y=\"CGPA\", data =df,color='b')\n",
    "        plt.xlabel(i)\n",
    "        plt.ylabel(\"CGPA Score\")\n",
    "    p+=1\n",
    "plt.show()"
   ]
  },
  {
   "cell_type": "markdown",
   "id": "104339bd",
   "metadata": {},
   "source": [
    "Grade wise CGPA Score"
   ]
  },
  {
   "cell_type": "code",
   "execution_count": null,
   "id": "29e956ce",
   "metadata": {},
   "outputs": [],
   "source": [
    "#Comparing CGPA Score with other columns using histplot plot to find any relationship \n",
    "plt.figure(figsize=(20,25))\n",
    "p=1\n",
    "for i in df.columns:\n",
    "    if p<=42:\n",
    "        plt.subplot(11,4,p)\n",
    "        sns.histplot(x=i,y=\"CGPA\", data =df,color='m')\n",
    "        plt.xlabel(i)\n",
    "        plt.ylabel(\"CGPA score\")\n",
    "    p+=1\n",
    "plt.show()"
   ]
  },
  {
   "cell_type": "markdown",
   "id": "b099d7a3",
   "metadata": {},
   "source": [
    "# Multivariate Analysis"
   ]
  },
  {
   "cell_type": "code",
   "execution_count": null,
   "id": "e371d322",
   "metadata": {},
   "outputs": [],
   "source": [
    "#sns.pairplot(data=df)"
   ]
  },
  {
   "cell_type": "markdown",
   "id": "53af8d4b",
   "metadata": {},
   "source": [
    "# Checking for outliers"
   ]
  },
  {
   "cell_type": "code",
   "execution_count": null,
   "id": "b5d863c2",
   "metadata": {},
   "outputs": [],
   "source": [
    "#lets check the outliers by plotting boxplot.\n",
    "\n",
    "plt.figure(figsize=(10,15),facecolor=\"red\")\n",
    "plotnumber=1\n",
    "for col in df.columns:\n",
    "    if plotnumber<=43:\n",
    "        plt.subplot(11,4,plotnumber)\n",
    "        sns.boxplot(y=df[col], palette = \"Set2_r\")\n",
    "        plt.xlabel(col, fontsize = 5)\n",
    "        plt.yticks(rotation=2, fontsize =2)\n",
    "    plotnumber+=1\n",
    "    \n",
    "plt.tight_layout()\n",
    "plt.show()"
   ]
  },
  {
   "cell_type": "code",
   "execution_count": null,
   "id": "192ea740",
   "metadata": {},
   "outputs": [],
   "source": [
    "#lets check the outliers by plotting boxplot.\n",
    "\n",
    "\n",
    "plotnumber=1\n",
    "for col in df.columns:\n",
    "    if plotnumber<=43:\n",
    "        plt.subplot(11,4,plotnumber)\n",
    "        sns.boxplot(y=df[col], palette = \"Set2_r\")\n",
    "        plt.xlabel(col, fontsize = 5)\n",
    "        plt.yticks(rotation=2, fontsize =2)\n",
    "    plotnumber+=1\n",
    "    \n",
    "\n",
    "plt.show()"
   ]
  },
  {
   "cell_type": "code",
   "execution_count": null,
   "id": "5da18cdc",
   "metadata": {},
   "outputs": [],
   "source": [
    "df.describe()"
   ]
  },
  {
   "cell_type": "code",
   "execution_count": null,
   "id": "2f576bce",
   "metadata": {},
   "outputs": [],
   "source": [
    "# As we can seen there is outliers present in all columns except Mg\n",
    "\n",
    "from scipy.stats import zscore\n",
    "out_features=df.iloc[:,:]\n",
    "z=np.abs(zscore(out_features))\n",
    "z\n"
   ]
  },
  {
   "cell_type": "code",
   "execution_count": null,
   "id": "0728c3be",
   "metadata": {},
   "outputs": [],
   "source": [
    "#threshold z>3\n",
    "np.where(z>3)"
   ]
  },
  {
   "cell_type": "code",
   "execution_count": null,
   "id": "66fa5b76",
   "metadata": {},
   "outputs": [],
   "source": [
    "z.iloc[180,11]"
   ]
  },
  {
   "cell_type": "code",
   "execution_count": null,
   "id": "fb737490",
   "metadata": {},
   "outputs": [],
   "source": [
    "z.iloc[560,36]"
   ]
  },
  {
   "cell_type": "code",
   "execution_count": null,
   "id": "180d0653",
   "metadata": {},
   "outputs": [],
   "source": [
    "df1=df[(z<3).all(axis=1)]"
   ]
  },
  {
   "cell_type": "code",
   "execution_count": null,
   "id": "85053e59",
   "metadata": {},
   "outputs": [],
   "source": [
    "df1.shape"
   ]
  },
  {
   "cell_type": "code",
   "execution_count": null,
   "id": "cfe1fe7a",
   "metadata": {},
   "outputs": [],
   "source": [
    "print(\"Old Data Frame:\",df.shape[0])\n",
    "print(\"New Data Frame:\",df1.shape[0])"
   ]
  },
  {
   "cell_type": "code",
   "execution_count": null,
   "id": "07f1a99c",
   "metadata": {},
   "outputs": [],
   "source": [
    "print(\"The loss of data in percentage\",((df.shape[0]-df1.shape[0])/df.shape[0])*100)"
   ]
  },
  {
   "cell_type": "markdown",
   "id": "7c08fbd6",
   "metadata": {},
   "source": [
    "# Checking for Skewness"
   ]
  },
  {
   "cell_type": "code",
   "execution_count": null,
   "id": "131ba463",
   "metadata": {},
   "outputs": [],
   "source": [
    "df1.skew()"
   ]
  },
  {
   "cell_type": "code",
   "execution_count": null,
   "id": "e556c4a5",
   "metadata": {},
   "outputs": [],
   "source": [
    "# AS there is not much skewdness presents\n",
    "#df1[\"CS-406\"]= np.cbrt(df1[\"CS-406\"])"
   ]
  },
  {
   "cell_type": "code",
   "execution_count": null,
   "id": "0ca1b61b",
   "metadata": {},
   "outputs": [],
   "source": [
    "plt.figure(figsize=(10,15),facecolor=\"red\")\n",
    "plotnumber=1\n",
    "\n",
    "for column in df1:\n",
    "    if plotnumber<=42:\n",
    "        plt.subplot(11,4,plotnumber)\n",
    "        sns.distplot(df1[column],color='green')\n",
    "        plt.xlabel(column,fontsize=10)\n",
    "    plotnumber+=1\n",
    "plt.tight_layout()\n",
    "plt.show()"
   ]
  },
  {
   "cell_type": "markdown",
   "id": "7e30ac34",
   "metadata": {},
   "source": [
    "# Correlation b/w target variable and independent variable"
   ]
  },
  {
   "cell_type": "markdown",
   "id": "41f9e062",
   "metadata": {},
   "source": [
    "# Multicollinearity"
   ]
  },
  {
   "cell_type": "code",
   "execution_count": null,
   "id": "5e5668cf",
   "metadata": {},
   "outputs": [],
   "source": [
    "cor=df1.corr()\n",
    "cor"
   ]
  },
  {
   "cell_type": "code",
   "execution_count": null,
   "id": "812b2e2e",
   "metadata": {},
   "outputs": [],
   "source": [
    "#Visualizing the correlation marix by using  heatmap\n",
    "\n",
    "plt.figure(figsize=(26,14))\n",
    "sns.heatmap(cor,annot=True,fmt=\"0.2f\",linewidth = 0.2,linecolor=\"black\", cmap=\"Spectral\")\n",
    "plt.xlabel(\"Figure\",fontsize=14)\n",
    "plt.ylabel(\"Features_Name\", fontsize=14)\n",
    "plt.title(\"Descriptive Graph\", fontsize=20)\n",
    "plt.show()"
   ]
  },
  {
   "cell_type": "code",
   "execution_count": null,
   "id": "36cc6882",
   "metadata": {},
   "outputs": [],
   "source": [
    "cor[\"CGPA\"].sort_values(ascending=False)"
   ]
  },
  {
   "cell_type": "markdown",
   "id": "e9e0e6bf",
   "metadata": {},
   "source": [
    "# Visualizing the correlation between label and features using bar plot"
   ]
  },
  {
   "cell_type": "code",
   "execution_count": null,
   "id": "b3c60a45",
   "metadata": {},
   "outputs": [],
   "source": [
    "#Visualizing the correlation between label and features using bar plot\n",
    "\n",
    "plt.figure(figsize=(22,7))\n",
    "cor[\"CGPA\"].sort_values(ascending=False).drop([\"CGPA\"]).plot(kind='bar',color='b')\n",
    "plt.xlabel(\"Feature\",fontsize=15)\n",
    "plt.ylabel(\"Target\",fontsize=15)\n",
    "plt.title(\"Visualizing the correlation between label and features using bar plot\")\n",
    "plt.show()\n"
   ]
  },
  {
   "cell_type": "markdown",
   "id": "45745ccc",
   "metadata": {},
   "source": [
    "This plot shows that thi cs-414 subject grades is best to produce high score in CGPA "
   ]
  },
  {
   "cell_type": "markdown",
   "id": "d75072c5",
   "metadata": {},
   "source": [
    "# Separating features and label"
   ]
  },
  {
   "cell_type": "code",
   "execution_count": null,
   "id": "13cbc44a",
   "metadata": {},
   "outputs": [],
   "source": [
    "x= df1.iloc[:,0:42]\n",
    "y=df1.iloc[:,-1]"
   ]
  },
  {
   "cell_type": "code",
   "execution_count": null,
   "id": "4a20fd00",
   "metadata": {},
   "outputs": [],
   "source": [
    "x"
   ]
  },
  {
   "cell_type": "markdown",
   "id": "1c32cd73",
   "metadata": {},
   "source": [
    "No Need For Feature standard scaling as all the Features are already standardized and belong from categorical ordinal data type "
   ]
  },
  {
   "cell_type": "code",
   "execution_count": null,
   "id": "458b93d3",
   "metadata": {},
   "outputs": [],
   "source": [
    "y"
   ]
  },
  {
   "cell_type": "markdown",
   "id": "495ed572",
   "metadata": {},
   "source": [
    "# Checking Variance Inflation Factor(VIF)"
   ]
  },
  {
   "cell_type": "code",
   "execution_count": null,
   "id": "37421793",
   "metadata": {},
   "outputs": [],
   "source": [
    "# Finding variance inflation factor in each scaled column\n",
    "\n",
    "from statsmodels.stats.outliers_influence import variance_inflation_factor\n",
    "vif=pd.DataFrame()\n",
    "vif[\"VIF values\"]=[variance_inflation_factor(x.values, i) for i in range(len(x.columns))]\n",
    "vif[\"Features\"]=x.columns\n",
    "\n",
    "vif"
   ]
  },
  {
   "cell_type": "markdown",
   "id": "cbe7169d",
   "metadata": {},
   "source": [
    "As VIF value is in range 8-12 aprrox in all columns there is no out label categories found in particular and limited rows so no features to drop from this step"
   ]
  },
  {
   "cell_type": "code",
   "execution_count": null,
   "id": "f2a5d915",
   "metadata": {},
   "outputs": [],
   "source": [
    "y.value_counts()"
   ]
  },
  {
   "cell_type": "markdown",
   "id": "2792a323",
   "metadata": {},
   "source": [
    "No need to remove oversampling as unique counts is almost equal to total rows"
   ]
  },
  {
   "cell_type": "markdown",
   "id": "bc96489a",
   "metadata": {},
   "source": [
    "# Modelling"
   ]
  },
  {
   "cell_type": "code",
   "execution_count": null,
   "id": "131eba09",
   "metadata": {},
   "outputs": [],
   "source": [
    "# Finding the best random state\n",
    "\n",
    "from sklearn.model_selection import train_test_split\n",
    "from sklearn.metrics import mean_absolute_error,mean_squared_error,r2_score\n",
    "from sklearn.ensemble import GradientBoostingRegressor\n",
    "from sklearn.linear_model import LinearRegression"
   ]
  },
  {
   "cell_type": "code",
   "execution_count": null,
   "id": "dde3f24d",
   "metadata": {},
   "outputs": [],
   "source": [
    "# finding the best Random State\n",
    "\n",
    "maxAccu=0\n",
    "maxRS=0\n",
    "\n",
    "for i in range(0,200):\n",
    "    x_train,x_test,y_train,y_test = train_test_split(x,y,test_size=.20,random_state=i)\n",
    "    lr=LinearRegression()\n",
    "    lr.fit(x_train,y_train)\n",
    "    pred=lr.predict(x_test)\n",
    "    acc=r2_score(y_test,pred)\n",
    "    if acc>maxAccu:\n",
    "        maxAccu=acc\n",
    "        maxRs=i\n",
    "        \n",
    "print(\"Maximum r2 score is\" , maxAccu,\"on Random_state\", maxRs)"
   ]
  },
  {
   "cell_type": "code",
   "execution_count": null,
   "id": "e9d2ff0f",
   "metadata": {},
   "outputs": [],
   "source": [
    "x_train,x_test,y_train,y_test = train_test_split(x,y,test_size=.20,random_state=maxRS)"
   ]
  },
  {
   "cell_type": "code",
   "execution_count": null,
   "id": "daff1843",
   "metadata": {},
   "outputs": [],
   "source": [
    "from sklearn.linear_model import LinearRegression\n",
    "from sklearn.ensemble import RandomForestRegressor\n",
    "from sklearn.tree import DecisionTreeRegressor\n",
    "from sklearn.neighbors import KNeighborsRegressor as KNN\n",
    "from sklearn.linear_model import Lasso,Ridge\n"
   ]
  },
  {
   "cell_type": "code",
   "execution_count": null,
   "id": "6ab98c23",
   "metadata": {},
   "outputs": [],
   "source": [
    "LR = LinearRegression()\n",
    "LR.fit(x_train,y_train)\n",
    "predLR=LR.predict(x_test)\n",
    "pred_train=LR.predict(x_train)\n",
    "print(LR)\n",
    "print(\"R2_score:\",r2_score(y_test,predLR))\n",
    "print(\"R2 score on Training data:\",r2_score(y_train,pred_train)*100)\n",
    "print(\"Mean Absolute Error:\",mean_absolute_error(y_test,predLR))\n",
    "print(\"Mean Squared Error:\",mean_squared_error(y_test,predLR))\n",
    "print(\"Root Mean Squared Error:\",np.sqrt(mean_squared_error(y_test,predLR)))"
   ]
  },
  {
   "cell_type": "markdown",
   "id": "8a3a585b",
   "metadata": {},
   "source": [
    "As the model performed with 100  r2_score is best performance with 4.20 mse lets check with other model techniques"
   ]
  },
  {
   "cell_type": "code",
   "execution_count": null,
   "id": "793915bb",
   "metadata": {},
   "outputs": [],
   "source": [
    "plt.figure(figsize=(10,6))\n",
    "plt.scatter(x=predLR,y=y_test,color=\"r\")\n",
    "plt.plot(predLR,predLR,color=\"b\")\n",
    "plt.xlabel(\"Actual\",fontsize=14)\n",
    "plt.ylabel(\"Predicted\",fontsize=14)\n",
    "plt.title(\"Linear Regression\",fontsize=18)\n",
    "plt.show()"
   ]
  },
  {
   "cell_type": "code",
   "execution_count": null,
   "id": "9cf77769",
   "metadata": {},
   "outputs": [],
   "source": [
    "RFR=RandomForestRegressor()\n",
    "RFR.fit(x_train,y_train)\n",
    "predRFR=RFR.predict(x_test)\n",
    "pred_train=RFR.predict(x_train)\n",
    "print(RFR)\n",
    "print(\"R2_score:\",r2_score(y_test,predRFR))\n",
    "print(\"R2 score on Training data:\",r2_score(y_train,pred_train)*100)\n",
    "print(\"Mean Absolute Error:\",mean_absolute_error(y_test,predRFR))\n",
    "print(\"Mean Squared Error:\",mean_squared_error(y_test,predRFR))\n",
    "print(\"Root Mean Squared Error:\",np.sqrt(mean_squared_error(y_test,predRFR)))"
   ]
  },
  {
   "cell_type": "code",
   "execution_count": null,
   "id": "68c77707",
   "metadata": {},
   "outputs": [],
   "source": [
    "knn=KNN()\n",
    "knn.fit(x_train,y_train)\n",
    "predknn=knn.predict(x_test)\n",
    "predtrain=knn.predict(x_train)\n",
    "print(knn)\n",
    "print(\"R2_score:\",r2_score(y_test,predknn))\n",
    "print(\"R2 score on Training data:\",r2_score(y_train,predtrain)*100)\n",
    "print(\"Mean Absolute Error:\",mean_absolute_error(y_test,predknn))\n",
    "print(\"Mean Squared Error:\",mean_squared_error(y_test,predknn))\n",
    "print(\"Root Mean Squared Error:\",np.sqrt(mean_squared_error(y_test,predknn)))"
   ]
  },
  {
   "cell_type": "code",
   "execution_count": null,
   "id": "2e79f7a4",
   "metadata": {},
   "outputs": [],
   "source": [
    "GBR= GradientBoostingRegressor()\n",
    "GBR.fit(x_train,y_train)\n",
    "predGBR=GBR.predict(x_test)\n",
    "pred_train=GBR.predict(x_train)\n",
    "print(GBR)\n",
    "print(\"R2_score:\",r2_score(y_test,predGBR))\n",
    "print(\"R2 score on Training data:\",r2_score(y_train,pred_train)*100)\n",
    "print(\"Mean Absolute Error:\",mean_absolute_error(y_test,predGBR))\n",
    "print(\"Mean Squared Error:\",mean_squared_error(y_test,predGBR))\n",
    "print(\"Root Mean Squared Error:\",np.sqrt(mean_squared_error(y_test,predGBR)))"
   ]
  },
  {
   "cell_type": "code",
   "execution_count": null,
   "id": "77d38cd3",
   "metadata": {},
   "outputs": [],
   "source": [
    "lasso=Lasso()\n",
    "lasso.fit(x_train,y_train)\n",
    "predlasso=lasso.predict(x_test)\n",
    "predtrain=lasso.predict(x_train)\n",
    "print(lasso)\n",
    "print(\"R2_score:\",r2_score(y_test,predlasso))\n",
    "print(\"R2 score on Training data:\",r2_score(y_train,predtrain)*100)\n",
    "print(\"Mean Absolute Error:\",mean_absolute_error(y_test,predlasso))\n",
    "print(\"Mean Squared Error:\",mean_squared_error(y_test,predlasso))\n",
    "print(\"Root Mean Squared Error:\",np.sqrt(mean_squared_error(y_test,predlasso)))"
   ]
  },
  {
   "cell_type": "code",
   "execution_count": null,
   "id": "cbb78afe",
   "metadata": {},
   "outputs": [],
   "source": [
    "rd=Ridge()\n",
    "rd.fit(x_train,y_train)\n",
    "predrd=rd.predict(x_test)\n",
    "predtrain=rd.predict(x_train)\n",
    "print(rd)\n",
    "print(\"R2_score:\",r2_score(y_test,predrd))\n",
    "print(\"R2 score on Training data:\",r2_score(y_train,predtrain)*100)\n",
    "print(\"Mean Absolute Error:\",mean_absolute_error(y_test,predrd))\n",
    "print(\"Mean Squared Error:\",mean_squared_error(y_test,predrd))\n",
    "print(\"Root Mean Squared Error:\",np.sqrt(mean_squared_error(y_test,predrd)))"
   ]
  },
  {
   "cell_type": "code",
   "execution_count": null,
   "id": "1f93cb89",
   "metadata": {},
   "outputs": [],
   "source": [
    "from sklearn.tree import DecisionTreeRegressor\n",
    "dtr=DecisionTreeRegressor()\n",
    "dtr.fit(x_train,y_train)\n",
    "preddtr=dtr.predict(x_test)\n",
    "predtrain=dtr.predict(x_train)\n",
    "print(dtr)\n",
    "print(\"R2_score:\",r2_score(y_test,preddtr))\n",
    "print(\"R2 score on Training data:\",r2_score(y_train,predtrain)*100)\n",
    "print(\"Mean Absolute Error:\",mean_absolute_error(y_test,preddtr))\n",
    "print(\"Mean Squared Error:\",mean_squared_error(y_test,preddtr))\n",
    "print(\"Root Mean Squared Error:\",np.sqrt(mean_squared_error(y_test,preddtr)))"
   ]
  },
  {
   "cell_type": "code",
   "execution_count": null,
   "id": "a40ebdc9",
   "metadata": {},
   "outputs": [],
   "source": [
    "from sklearn.svm import SVR\n",
    "svr=SVR()\n",
    "svr.fit(x_train,y_train)\n",
    "predsvr=svr.predict(x_test)\n",
    "predtrain=svr.predict(x_train)\n",
    "print(svr)\n",
    "print(\"R2_score:\",r2_score(y_test,predsvr))\n",
    "print(\"R2 score on Training data:\",r2_score(y_train,predtrain)*100)\n",
    "print(\"Mean Absolute Error:\",mean_absolute_error(y_test,predsvr))\n",
    "print(\"Mean Squared Error:\",mean_squared_error(y_test,predsvr))\n",
    "print(\"Root Mean Squared Error:\",np.sqrt(mean_squared_error(y_test,predsvr)))"
   ]
  },
  {
   "cell_type": "code",
   "execution_count": null,
   "id": "86bedfec",
   "metadata": {},
   "outputs": [],
   "source": [
    "#Checking accuracy for ExtraTreesRegressor\n",
    "from sklearn.ensemble import ExtraTreesRegressor\n",
    "ET=ExtraTreesRegressor()\n",
    "ET.fit(x_train,y_train)\n",
    "predET= ET.predict(x_test)\n",
    "predtrain=ET.predict(x_train)\n",
    "print(ET)\n",
    "print(\"R2_score:\",r2_score(y_test,predET))\n",
    "print(\"R2 score on Training data:\",r2_score(y_train,predtrain)*100)\n",
    "print(\"Mean Absolute Error:\",mean_absolute_error(y_test,predET))\n",
    "print(\"Mean Squared Error:\",mean_squared_error(y_test,predET))\n",
    "print(\"Root Mean Squared Error:\",np.sqrt(mean_squared_error(y_test,predET)))"
   ]
  },
  {
   "cell_type": "code",
   "execution_count": null,
   "id": "fdf16d01",
   "metadata": {},
   "outputs": [],
   "source": [
    "#Checking accuracy for BaggingRegressor\n",
    "from sklearn.ensemble import BaggingRegressor\n",
    "BR=BaggingRegressor()\n",
    "BR.fit(x_train,y_train)\n",
    "predBR= BR.predict(x_test)\n",
    "predtrain=BR.predict(x_train)\n",
    "print(BR)\n",
    "print(\"R2_score:\",r2_score(y_test,predBR))\n",
    "print(\"R2 score on Training data:\",r2_score(y_train,predtrain)*100)\n",
    "print(\"Mean Absolute Error:\",mean_absolute_error(y_test,predBR))\n",
    "print(\"Mean Squared Error:\",mean_squared_error(y_test,predBR))\n",
    "print(\"Root Mean Squared Error:\",np.sqrt(mean_squared_error(y_test,predBR)))\n"
   ]
  },
  {
   "cell_type": "code",
   "execution_count": null,
   "id": "6e50bae4",
   "metadata": {},
   "outputs": [],
   "source": [
    "#Checking accuracy for AdaBoostRegressor\n",
    "from sklearn.ensemble import AdaBoostRegressor\n",
    "ABR=AdaBoostRegressor()\n",
    "ABR.fit(x_train,y_train)\n",
    "predABR= ABR.predict(x_test)\n",
    "predtrain=ABR.predict(x_train)\n",
    "print(ABR)\n",
    "print(\"R2_score:\",r2_score(y_test,predABR))\n",
    "print(\"R2 score on Training data:\",r2_score(y_train,predtrain)*100)\n",
    "print(\"Mean Absolute Error:\",mean_absolute_error(y_test,predABR))\n",
    "print(\"Mean Squared Error:\",mean_squared_error(y_test,predABR))\n",
    "print(\"Root Mean Squared Error:\",np.sqrt(mean_squared_error(y_test,predABR)))"
   ]
  },
  {
   "cell_type": "markdown",
   "id": "bd935e68",
   "metadata": {},
   "source": [
    "\n",
    "All the model showing high coefficient of determination except KNN,lasso,SVR  .The Best model performance shown by Random Forest Regressor, Gradient Boosting Regressor ExtraTreesRegressor with least Error, 2.LR model is showing great result but MSE is on higher side of Mean Squared Error so also not consider for prediction on unseen dataset\n"
   ]
  },
  {
   "cell_type": "markdown",
   "id": "4b4dd066",
   "metadata": {},
   "source": [
    "# Spliting train test data using Cross validation score"
   ]
  },
  {
   "cell_type": "code",
   "execution_count": null,
   "id": "f85312df",
   "metadata": {},
   "outputs": [],
   "source": [
    "from sklearn.model_selection import cross_val_score"
   ]
  },
  {
   "cell_type": "code",
   "execution_count": null,
   "id": "370767c6",
   "metadata": {},
   "outputs": [],
   "source": [
    "#Checking cv score for Random Forest Regressor\n",
    "score= cross_val_score(RFR,x,y)\n",
    "print(score)\n",
    "print(score.mean())\n",
    "print(\"The difference between Accuracy score and Cross validation score: \",r2_score(y_test,predRFR)-score.mean())"
   ]
  },
  {
   "cell_type": "code",
   "execution_count": null,
   "id": "a33d85a7",
   "metadata": {},
   "outputs": [],
   "source": [
    "#Checking cv score for Extra Tree Regressor\n",
    "score1= cross_val_score(ET,x,y)\n",
    "print(score1)\n",
    "print(score1.mean())\n",
    "print(\"The difference between Accuracy score and Cross validation score: \",r2_score(y_test,predET)-score1.mean())"
   ]
  },
  {
   "cell_type": "code",
   "execution_count": null,
   "id": "2aa04231",
   "metadata": {},
   "outputs": [],
   "source": [
    "#checking  CV for GBR\n",
    "score2=cross_val_score(GBR,x,y)\n",
    "print(score2)\n",
    "print(score2.mean())\n",
    "print(\"Difference between Accuracy score and Cross validation score is :\",r2_score(y_test,predGBR)-score2.mean())"
   ]
  },
  {
   "cell_type": "code",
   "execution_count": null,
   "id": "ca0e375b",
   "metadata": {},
   "outputs": [],
   "source": [
    "#checking  CV for Decision Tree Regressor\n",
    "score3=cross_val_score(dtr,x,y)\n",
    "print(score3)\n",
    "print(score3.mean())\n",
    "print(\"Difference between Accuracy score and Cross validation score is :\",r2_score(y_test,preddtr)-score3.mean())"
   ]
  },
  {
   "cell_type": "code",
   "execution_count": null,
   "id": "47355a22",
   "metadata": {},
   "outputs": [],
   "source": [
    "#checking  CV for linear Regressor\n",
    "score4=cross_val_score(LR,x,y)\n",
    "print(score4)\n",
    "print(score4.mean())\n",
    "print(\"Difference between Accuracy score and Cross validation score is :\",r2_score(y_test,predLR)-score4.mean())"
   ]
  },
  {
   "cell_type": "code",
   "execution_count": null,
   "id": "f35dabc5",
   "metadata": {},
   "outputs": [],
   "source": [
    "#checking  CV for ridge Regressor\n",
    "score5=cross_val_score(rd,x,y)\n",
    "print(score5)\n",
    "print(score5.mean())\n",
    "print(\"Difference between Accuracy score and Cross validation score is :\",r2_score(y_test,predrd)-score5.mean())"
   ]
  },
  {
   "cell_type": "code",
   "execution_count": null,
   "id": "3b74687c",
   "metadata": {},
   "outputs": [],
   "source": [
    "#checking  CV for Ababoosting Regressor\n",
    "score6=cross_val_score(ABR,x,y)\n",
    "print(score6)\n",
    "print(score6.mean())\n",
    "print(\"Difference between Accuracy score and Cross validation score is :\",r2_score(y_test,predABR)-score6.mean())"
   ]
  },
  {
   "cell_type": "code",
   "execution_count": null,
   "id": "e5dfb224",
   "metadata": {},
   "outputs": [],
   "source": [
    "#checking  CV for Bagging Regressor\n",
    "score7=cross_val_score(BR,x,y)\n",
    "print(score7)\n",
    "print(score7.mean())\n",
    "print(\"Difference between Accuracy score and Cross validation score is :\",r2_score(y_test,predBR)-score7.mean())"
   ]
  },
  {
   "cell_type": "markdown",
   "id": "065afb5f",
   "metadata": {},
   "source": [
    "The Best cross validation result is shown by linear regression and all other regressor model technique as least biasness and high variance data sample provided for training the model with high performance on unseen data"
   ]
  },
  {
   "cell_type": "markdown",
   "id": "a04d4556",
   "metadata": {},
   "source": [
    "# Hyper Parameter Tuning"
   ]
  },
  {
   "cell_type": "code",
   "execution_count": null,
   "id": "917e7bd8",
   "metadata": {},
   "outputs": [],
   "source": [
    "from sklearn.model_selection import GridSearchCV"
   ]
  },
  {
   "cell_type": "code",
   "execution_count": null,
   "id": "5e74c6eb",
   "metadata": {},
   "outputs": [],
   "source": [
    "parameters = {\"fit_intercept\" :[True, False],\n",
    "              \"copy_X\" :[True, False],\n",
    "              \"n_jobs\" : [None,1,-1],\n",
    "              \"positive\" :[True, False]}      "
   ]
  },
  {
   "cell_type": "code",
   "execution_count": null,
   "id": "0400de81",
   "metadata": {},
   "outputs": [],
   "source": [
    "GCV= GridSearchCV(LinearRegression(),parameters, cv = 5)"
   ]
  },
  {
   "cell_type": "code",
   "execution_count": null,
   "id": "9bc6c2e1",
   "metadata": {},
   "outputs": [],
   "source": [
    "GCV.fit(x_train,y_train)"
   ]
  },
  {
   "cell_type": "code",
   "execution_count": null,
   "id": "1a90041e",
   "metadata": {},
   "outputs": [],
   "source": [
    "GCV.best_params_"
   ]
  },
  {
   "cell_type": "code",
   "execution_count": null,
   "id": "ee819ab2",
   "metadata": {},
   "outputs": [],
   "source": [
    "model_lr=LinearRegression(fit_intercept=True, copy_X = True, n_jobs=None, positive=False)\n",
    "model_lr.fit(x_train,y_train)\n",
    "prediLR=model_lr.predict(x_test)\n",
    "preditrain=model_lr.predict(x_train)\n",
    "print(model_lr)\n",
    "print(\"R2 score: \",r2_score(y_test,prediLR))\n",
    "print(\"R2 score on training dataset: \",r2_score(y_train,preditrain))\n",
    "print(\"Mean Squared Error: \",mean_squared_error(y_test,prediLR))\n",
    "print(\"Mean Absolute Error:\",mean_absolute_error(y_test,prediLR))\n",
    "print(\"Root Mean Squared Error:\",np.sqrt(mean_squared_error(y_test,prediLR)))  "
   ]
  },
  {
   "cell_type": "markdown",
   "id": "1a93fc0f",
   "metadata": {},
   "source": [
    "# Saving the model"
   ]
  },
  {
   "cell_type": "code",
   "execution_count": null,
   "id": "ca351bae",
   "metadata": {},
   "outputs": [],
   "source": [
    "import pickle\n",
    "filename1=\"student_grade1.pkl\"\n",
    "pickle.dump(model_lr,open(filename1,\"wb\")) "
   ]
  },
  {
   "cell_type": "code",
   "execution_count": null,
   "id": "6ebd7a8f",
   "metadata": {},
   "outputs": [],
   "source": [
    "load_model1=pickle.load(open(\"student_grade1.pkl\",\"rb\"))\n",
    "result1=load_model1.score(x_test,y_test)\n",
    "print(result1*100)"
   ]
  },
  {
   "cell_type": "code",
   "execution_count": null,
   "id": "643cb51e",
   "metadata": {},
   "outputs": [],
   "source": [
    "conclusion1 =pd.DataFrame([load_model1.predict(x_test)[:],y_test[:]],index=[\"Predicted\",\"Original\"])\n",
    "conclusion1"
   ]
  },
  {
   "cell_type": "code",
   "execution_count": null,
   "id": "a400056c",
   "metadata": {},
   "outputs": [],
   "source": [
    "#Checking for ExtraTrees Regressor parameters\n",
    "\n",
    "parameters2 = {\"criterion\" : [\"squared_error\",\"absolute_error\",\"friedman_mse\",\"poisson\"],\n",
    "             \"random_state\" : [10,50,1000],\n",
    "             \"max_depth\" : [None,10,20],\n",
    "             \"n_jobs\" : [-2,-1,1],\n",
    "             \"n_estimators\" : [50,100,200,300]}\n",
    "\n",
    "GCV2= GridSearchCV(ExtraTreesRegressor(),parameters2, cv = 5)"
   ]
  },
  {
   "cell_type": "code",
   "execution_count": null,
   "id": "c515e1a1",
   "metadata": {},
   "outputs": [],
   "source": [
    "GCV2.fit(x_train,y_train)"
   ]
  },
  {
   "cell_type": "code",
   "execution_count": null,
   "id": "e41a8a61",
   "metadata": {},
   "outputs": [],
   "source": [
    "GCV2.best_params_"
   ]
  },
  {
   "cell_type": "code",
   "execution_count": null,
   "id": "ace04364",
   "metadata": {},
   "outputs": [],
   "source": [
    "# Again checking the parameter given by Grid search CV for Extra Trees Regressor\n",
    "\n",
    "final_model=ExtraTreesRegressor(criterion=\"squared_error\",random_state=1000,max_depth= None,n_jobs=-2,n_estimators=200)\n",
    "final_model.fit(x_train,y_train)\n",
    "prediET=final_model.predict(x_test)\n",
    "preditrain=final_model.predict(x_train)\n",
    "print(final_model)\n",
    "print(\"R2_score:\",r2_score(y_test,prediET))\n",
    "print(\"R2 score on Training data:\",r2_score(y_train,preditrain)*100)\n",
    "print(\"Mean Absolute Error:\",mean_absolute_error(y_test,prediET))\n",
    "print(\"Mean Squared Error:\",mean_squared_error(y_test,prediET))\n",
    "print(\"Root Mean Squared Error:\",np.sqrt(mean_squared_error(y_test,prediET)))"
   ]
  },
  {
   "cell_type": "markdown",
   "id": "6e5959f4",
   "metadata": {},
   "source": [
    "# Saving the model"
   ]
  },
  {
   "cell_type": "code",
   "execution_count": null,
   "id": "e51e69e2",
   "metadata": {},
   "outputs": [],
   "source": [
    "import pickle\n",
    "filename=\"student_grade.pkl\"\n",
    "pickle.dump(final_model,open(filename,\"wb\"))# saved model"
   ]
  },
  {
   "cell_type": "code",
   "execution_count": null,
   "id": "35c25618",
   "metadata": {},
   "outputs": [],
   "source": [
    "import pickle\n",
    "load_model=pickle.load(open(\"student_grade.pkl\",\"rb\"))\n",
    "result=load_model.score(x_test,y_test)\n",
    "print(result*100)"
   ]
  },
  {
   "cell_type": "code",
   "execution_count": null,
   "id": "b6646337",
   "metadata": {},
   "outputs": [],
   "source": [
    "conclusion =pd.DataFrame([load_model.predict(x_test)[:],y_test[:]],index=[\"Predicted\",\"Original\"])\n",
    "conclusion"
   ]
  },
  {
   "cell_type": "code",
   "execution_count": null,
   "id": "9af8220d",
   "metadata": {},
   "outputs": [],
   "source": []
  }
 ],
 "metadata": {
  "kernelspec": {
   "display_name": "Python 3 (ipykernel)",
   "language": "python",
   "name": "python3"
  },
  "language_info": {
   "codemirror_mode": {
    "name": "ipython",
    "version": 3
   },
   "file_extension": ".py",
   "mimetype": "text/x-python",
   "name": "python",
   "nbconvert_exporter": "python",
   "pygments_lexer": "ipython3",
   "version": "3.11.3"
  }
 },
 "nbformat": 4,
 "nbformat_minor": 5
}
