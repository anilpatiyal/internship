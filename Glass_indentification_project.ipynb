{
 "cells": [
  {
   "cell_type": "code",
   "execution_count": null,
   "id": "42d3b01d",
   "metadata": {},
   "outputs": [],
   "source": [
    "import numpy as np\n",
    "import pandas as pd\n",
    "import matplotlib.pyplot as plt\n",
    "import seaborn as sns\n",
    "import warnings\n",
    "warnings.filterwarnings(\"ignore\")"
   ]
  },
  {
   "cell_type": "code",
   "execution_count": null,
   "id": "a46c75f3",
   "metadata": {},
   "outputs": [],
   "source": [
    "#url of the dataset\n",
    "url=\"https://raw.githubusercontent.com/FlipRoboTechnologies/ML-Datasets/main/Glass%20Identification/Glass%20Identification.csv\"\n",
    "\n",
    "# Column names for the dataset\n",
    "column_names = ['Id','RI', 'Na', 'Mg', 'Al', 'Si', 'K', 'Ca', 'Ba', 'Fe', 'Type']\n",
    "\n",
    "df=pd.read_csv(url,names=column_names,index_col=\"Id\")\n",
    "df"
   ]
  },
  {
   "cell_type": "markdown",
   "id": "ee8723ed",
   "metadata": {},
   "source": [
    "# Exploratory Data Analysis (EDA)"
   ]
  },
  {
   "cell_type": "code",
   "execution_count": null,
   "id": "63982ba9",
   "metadata": {},
   "outputs": [],
   "source": [
    "df.shape"
   ]
  },
  {
   "cell_type": "markdown",
   "id": "d1009883",
   "metadata": {},
   "source": [
    "The Glass Dataset contains 214 rows and 10 columns"
   ]
  },
  {
   "cell_type": "code",
   "execution_count": null,
   "id": "4101021a",
   "metadata": {},
   "outputs": [],
   "source": [
    "df.columns"
   ]
  },
  {
   "cell_type": "code",
   "execution_count": null,
   "id": "87e6b483",
   "metadata": {},
   "outputs": [],
   "source": [
    "#checking the datatypes of columns\n",
    "df.dtypes"
   ]
  },
  {
   "cell_type": "markdown",
   "id": "8d4caba6",
   "metadata": {},
   "source": [
    " Here only numerical columns are present as (float64,int64) in dataset"
   ]
  },
  {
   "cell_type": "code",
   "execution_count": null,
   "id": "34cd9373",
   "metadata": {},
   "outputs": [],
   "source": [
    "df.head()"
   ]
  },
  {
   "cell_type": "code",
   "execution_count": null,
   "id": "340afab0",
   "metadata": {},
   "outputs": [],
   "source": [
    "df.tail(15)"
   ]
  },
  {
   "cell_type": "markdown",
   "id": "7196b406",
   "metadata": {},
   "source": [
    "# np.nan,None,NaN,others"
   ]
  },
  {
   "cell_type": "code",
   "execution_count": null,
   "id": "8d116d9a",
   "metadata": {},
   "outputs": [],
   "source": [
    "#Checking the null value in the dataset\n",
    "df.isnull().sum()"
   ]
  },
  {
   "cell_type": "code",
   "execution_count": null,
   "id": "339b0e76",
   "metadata": {},
   "outputs": [],
   "source": [
    "df.isnull().sum().sum()"
   ]
  },
  {
   "cell_type": "code",
   "execution_count": null,
   "id": "8e8e23cb",
   "metadata": {},
   "outputs": [],
   "source": [
    "df.info()"
   ]
  },
  {
   "cell_type": "markdown",
   "id": "a65a53f9",
   "metadata": {},
   "source": [
    "Here from the above we get information that there is no null value present and all the features in the data type is float and int basically numerical dtypes and memory used is 18.4 kb "
   ]
  },
  {
   "cell_type": "code",
   "execution_count": null,
   "id": "f0732d76",
   "metadata": {},
   "outputs": [],
   "source": [
    "#lets visualize it using heatmap\n",
    "sns.heatmap(df.isnull())"
   ]
  },
  {
   "cell_type": "markdown",
   "id": "0d171b97",
   "metadata": {},
   "source": [
    "we have now enough evidence that there is no null value present in the dataset"
   ]
  },
  {
   "cell_type": "code",
   "execution_count": null,
   "id": "fd0270be",
   "metadata": {},
   "outputs": [],
   "source": [
    "# checking the unique value \n",
    "df[\"Type\"].unique()"
   ]
  },
  {
   "cell_type": "code",
   "execution_count": null,
   "id": "df0683e7",
   "metadata": {},
   "outputs": [],
   "source": [
    "df[\"Type\"].nunique()"
   ]
  },
  {
   "cell_type": "markdown",
   "id": "03d988e4",
   "metadata": {},
   "source": [
    " The problem statement instruction is that the dataset can be divided into window glass (classes 1-4) and non-window glass (classes 5-7).\n",
    "    \n",
    "1- building_windows_float_processed\n",
    "2- building_windows_non_float_processed\n",
    "3- vehicle_windows_float_processed\n",
    "4- vehicle_windows_non_float_processed (none in this database)\n",
    "5- containers\n",
    "6- tableware\n",
    "7- headlamps\n",
    "\n"
   ]
  },
  {
   "cell_type": "code",
   "execution_count": null,
   "id": "97bf32b8",
   "metadata": {},
   "outputs": [],
   "source": [
    "# Step 1: Create binary target variable\n",
    "df['Glass_type'] = df['Type'].apply(lambda x: 1 if x >= 4 else 0)"
   ]
  },
  {
   "cell_type": "markdown",
   "id": "757f41d8",
   "metadata": {},
   "source": [
    "Glass_type 1-4  now converted into categories 0  and 5-7 into categories 1"
   ]
  },
  {
   "cell_type": "code",
   "execution_count": null,
   "id": "d0790423",
   "metadata": {},
   "outputs": [],
   "source": [
    "df[\"Glass_type\"].nunique()"
   ]
  },
  {
   "cell_type": "code",
   "execution_count": null,
   "id": "e2124f2c",
   "metadata": {},
   "outputs": [],
   "source": [
    "#Checking the value count of each variabe in the table\n",
    "\n",
    "for i in df:\n",
    "    print(df[i].value_counts())\n",
    "    print(\"\\n\")"
   ]
  },
  {
   "cell_type": "markdown",
   "id": "69447fa1",
   "metadata": {},
   "source": [
    "From this above input found that there is biaseness pressent in the target column for 0 group and Iron and Barium has highest for features with 0.00 "
   ]
  },
  {
   "cell_type": "code",
   "execution_count": null,
   "id": "3bd95b3a",
   "metadata": {},
   "outputs": [],
   "source": [
    "df.dtypes.index"
   ]
  },
  {
   "cell_type": "code",
   "execution_count": null,
   "id": "7efc10d5",
   "metadata": {},
   "outputs": [],
   "source": [
    "# Dropping Type column from the table as there is same information provided in the Glass_type\n",
    "\n",
    "df.drop(\"Type\",axis=1,inplace=True)"
   ]
  },
  {
   "cell_type": "code",
   "execution_count": null,
   "id": "149f0b1e",
   "metadata": {},
   "outputs": [],
   "source": [
    "df.dtypes.index"
   ]
  },
  {
   "cell_type": "code",
   "execution_count": null,
   "id": "dfbceb63",
   "metadata": {},
   "outputs": [],
   "source": [
    "#checking number of unique values in Glass dataset\n",
    "df.nunique().to_frame(\"No. of unique value\")"
   ]
  },
  {
   "cell_type": "markdown",
   "id": "491d6e60",
   "metadata": {},
   "source": [
    "# Description of Dataset"
   ]
  },
  {
   "cell_type": "code",
   "execution_count": null,
   "id": "ac360811",
   "metadata": {},
   "outputs": [],
   "source": [
    "# Statistical summary of numerical columns\n",
    "df.describe()"
   ]
  },
  {
   "cell_type": "markdown",
   "id": "68d0f08c",
   "metadata": {},
   "source": [
    "Data distribution is uniform and outliers present in  ca column "
   ]
  },
  {
   "cell_type": "code",
   "execution_count": null,
   "id": "6b9fe977",
   "metadata": {},
   "outputs": [],
   "source": [
    "plt.figure(figsize=(22,10))\n",
    "sns.heatmap(df.describe(),annot=True,fmt=\"0.2f\",linewidth=0.2,linecolor=\"black\",cmap=\"Spectral\")\n",
    "plt.xlabel(\"Features Names\",fontsize=14)\n",
    "plt.ylabel(\"Descriptive Stats\",fontsize=14)\n",
    "plt.title(\"Descriptive Graph\",fontsize=20)\n",
    "plt.show()"
   ]
  },
  {
   "cell_type": "markdown",
   "id": "ef81a4e6",
   "metadata": {},
   "source": [
    "Si has high value present in this column compare to other so require standard scaler for scaling table"
   ]
  },
  {
   "cell_type": "markdown",
   "id": "6058548b",
   "metadata": {},
   "source": [
    "# Data Visualization"
   ]
  },
  {
   "cell_type": "markdown",
   "id": "82595048",
   "metadata": {},
   "source": [
    "# Univariate Analysis"
   ]
  },
  {
   "cell_type": "code",
   "execution_count": null,
   "id": "c7574d18",
   "metadata": {},
   "outputs": [],
   "source": [
    "#Visualize the number of label target as \n",
    "\n",
    "sns.countplot(x='Glass_type',data=df)\n",
    "print(df[\"Glass_type\"].value_counts())"
   ]
  },
  {
   "cell_type": "code",
   "execution_count": null,
   "id": "fa99a66b",
   "metadata": {},
   "outputs": [],
   "source": [
    "for i in df:\n",
    "    plt.figure(figsize=(12,3),facecolor=\"white\")\n",
    "    sns.countplot(x=i,data=df)\n",
    "plt.show()"
   ]
  },
  {
   "cell_type": "code",
   "execution_count": null,
   "id": "b9834503",
   "metadata": {},
   "outputs": [],
   "source": [
    "#Checking the data Distribution\n",
    "\n",
    "# Lets check how the data has been distributed in numerical column\n",
    "\n",
    "plt.figure(figsize=(10,6),facecolor=\"white\")\n",
    "plotnum=1\n",
    "for col in df:\n",
    "    if plotnum<=10:\n",
    "        plt.subplot(2,5,plotnum)\n",
    "        sns.distplot(df[col],color=\"m\")\n",
    "        plt.xlabel(col,fontsize = 10)\n",
    "        plt.yticks(rotation=0, fontsize = 10)\n",
    "    plotnum+=1\n",
    "plt.show()"
   ]
  },
  {
   "cell_type": "markdown",
   "id": "faee5480",
   "metadata": {},
   "source": [
    "Fe,Ba,Mg,k these features show inequality in count majorily"
   ]
  },
  {
   "cell_type": "markdown",
   "id": "55a0bbc2",
   "metadata": {},
   "source": [
    "# Bivariate Anlaysis"
   ]
  },
  {
   "cell_type": "code",
   "execution_count": null,
   "id": "086d2bf1",
   "metadata": {},
   "outputs": [],
   "source": [
    "sns.lmplot(x=\"Glass_type\",y=\"RI\",data=df,palette=\"colorblind\")"
   ]
  },
  {
   "cell_type": "code",
   "execution_count": null,
   "id": "234944aa",
   "metadata": {},
   "outputs": [],
   "source": [
    "#checking relationship using Bar Plot\n",
    "\n",
    "plt.figure(figsize=(20,25),facecolor=\"white\")\n",
    "p=1\n",
    "for i in df:\n",
    "    if p<=10:\n",
    "        plt.subplot(5,4,p)\n",
    "        sns.barplot(x=\"Glass_type\",y=i, data= df)\n",
    "        plt.xlabel(\"Glass Type\")\n",
    "        plt.ylabel(i)\n",
    "    p+=1\n",
    "plt.show()\n",
    "    \n"
   ]
  },
  {
   "cell_type": "code",
   "execution_count": null,
   "id": "f640fbc2",
   "metadata": {},
   "outputs": [],
   "source": [
    "plt.figure(figsize=(6,2),facecolor=\"white\")\n",
    "\n",
    "sns.lmplot(x=\"Na\",y=\"RI\",data=df,palette=\"colorblind\")\n",
    "plt.xlabel(\"Na\")\n",
    "plt.ylabel(\"RI\")"
   ]
  },
  {
   "cell_type": "code",
   "execution_count": null,
   "id": "0b5c1570",
   "metadata": {},
   "outputs": [],
   "source": [
    "#Comparing Glass_type and Na\n",
    "plt.title(\"Comparing Glass_type and Na\")\n",
    "sns.stripplot(x='Glass_type', y='Na',data =df)\n",
    "plt.show()"
   ]
  },
  {
   "cell_type": "code",
   "execution_count": null,
   "id": "a114210e",
   "metadata": {},
   "outputs": [],
   "source": [
    "plt.figure(figsize=(20,25),facecolor=\"white\")\n",
    "p=1\n",
    "for i in df:\n",
    "    if p<=10:\n",
    "        plt.subplot(5,4,p)\n",
    "        sns.stripplot(x=\"Glass_type\",y=i, data= df)\n",
    "        plt.xlabel(\"Glass Type\")\n",
    "        plt.ylabel(i)\n",
    "    p+=1\n",
    "plt.show()"
   ]
  },
  {
   "cell_type": "code",
   "execution_count": null,
   "id": "22fb7611",
   "metadata": {},
   "outputs": [],
   "source": [
    "plt.figure(figsize=(20,25),facecolor=\"white\")\n",
    "p=1\n",
    "for i in df:\n",
    "    if p<=10:\n",
    "        plt.subplot(5,4,p)\n",
    "        sns.scatterplot(x=\"Glass_type\",y=i, data= df)\n",
    "        plt.xlabel(\"Glass Type\")\n",
    "        plt.ylabel(i)\n",
    "    p+=1\n",
    "plt.show()"
   ]
  },
  {
   "cell_type": "code",
   "execution_count": null,
   "id": "5e2805b2",
   "metadata": {},
   "outputs": [],
   "source": [
    "#Comparing between Glass_type with Mg and Si\n",
    "plt.title(\"Comparing between Glass_type with Mg and Si\")\n",
    "sns.scatterplot(x=\"Mg\",y=\"Si\",data=df,hue=\"Glass_type\",palette=\"bright\")\n",
    "plt.show()"
   ]
  },
  {
   "cell_type": "code",
   "execution_count": null,
   "id": "a79c567c",
   "metadata": {},
   "outputs": [],
   "source": [
    "#Comparing between Glass_type with RI and Ca\n",
    "plt.title(\"Comparing between Glass_type with RI and Ca\")\n",
    "sns.scatterplot(x=\"RI\",y=\"Ca\",data=df,hue=\"Glass_type\",palette=\"bright\")\n",
    "plt.show()"
   ]
  },
  {
   "cell_type": "code",
   "execution_count": null,
   "id": "ca906e7f",
   "metadata": {},
   "outputs": [],
   "source": [
    "#Comparing between Glass_type with  Na and Si\n",
    "plt.title(\"Comparing between Glass_type with  Na and Si\")\n",
    "sns.scatterplot(x=\"Na\",y=\"Si\",data=df,hue=\"Glass_type\",palette=\"bright\")\n",
    "plt.show()"
   ]
  },
  {
   "cell_type": "markdown",
   "id": "afa5b8c2",
   "metadata": {},
   "source": [
    "Here we can analyse that high Mg value are good for 0 type and vice-versa ,for si"
   ]
  },
  {
   "cell_type": "code",
   "execution_count": null,
   "id": "63a369a3",
   "metadata": {},
   "outputs": [],
   "source": [
    "plt.figure(figsize=(20,25),facecolor=\"white\")\n",
    "p=1\n",
    "for i in df:\n",
    "    if p<=10:\n",
    "        plt.subplot(5,4,p)\n",
    "        sns.histplot(x=\"Glass_type\",y=i, data= df)\n",
    "        plt.xlabel(\"Glass Type\")\n",
    "        plt.ylabel(i)\n",
    "    p+=1\n",
    "plt.show()"
   ]
  },
  {
   "cell_type": "markdown",
   "id": "802f107a",
   "metadata": {},
   "source": [
    "# Multivariate Analysis"
   ]
  },
  {
   "cell_type": "code",
   "execution_count": null,
   "id": "893ad940",
   "metadata": {},
   "outputs": [],
   "source": [
    "sns.pairplot(data=df)"
   ]
  },
  {
   "cell_type": "markdown",
   "id": "693eaf4e",
   "metadata": {},
   "source": [
    "# Checking for outliers"
   ]
  },
  {
   "cell_type": "code",
   "execution_count": null,
   "id": "f4bf127b",
   "metadata": {},
   "outputs": [],
   "source": [
    "#lets check the outliers by plotting boxplot.\n",
    "\n",
    "\n",
    "plotnumber=1\n",
    "for col in df.columns:\n",
    "    if plotnumber<=12:\n",
    "        plt.subplot(2,5,plotnumber)\n",
    "        sns.boxplot(y=df[col], palette = \"Set2_r\")\n",
    "        plt.xlabel(col, fontsize = 5)\n",
    "        plt.yticks(rotation=2, fontsize =2)\n",
    "    plotnumber+=1\n",
    "    \n",
    "plt.tight_layout()\n",
    "plt.show()"
   ]
  },
  {
   "cell_type": "markdown",
   "id": "d056f22f",
   "metadata": {},
   "source": [
    "As we can seen there is outliers present in all columns except Mg"
   ]
  },
  {
   "cell_type": "code",
   "execution_count": null,
   "id": "f2ab7dec",
   "metadata": {},
   "outputs": [],
   "source": [
    "from scipy.stats import zscore\n",
    "out_features=df.iloc[:,:]\n",
    "z=np.abs(zscore(out_features))\n",
    "z"
   ]
  },
  {
   "cell_type": "code",
   "execution_count": null,
   "id": "282754e3",
   "metadata": {},
   "outputs": [],
   "source": [
    "#threshold z>3\n",
    "np.where(z>3)"
   ]
  },
  {
   "cell_type": "code",
   "execution_count": null,
   "id": "7dae8343",
   "metadata": {},
   "outputs": [],
   "source": [
    "z.iloc[105,6]"
   ]
  },
  {
   "cell_type": "code",
   "execution_count": null,
   "id": "fe4719f7",
   "metadata": {},
   "outputs": [],
   "source": [
    "z.iloc[106,0]"
   ]
  },
  {
   "cell_type": "code",
   "execution_count": null,
   "id": "c73cb04e",
   "metadata": {},
   "outputs": [],
   "source": [
    "df1=df[(z<3).all(axis=1)]"
   ]
  },
  {
   "cell_type": "code",
   "execution_count": null,
   "id": "3fcbacc1",
   "metadata": {},
   "outputs": [],
   "source": [
    "df1.shape"
   ]
  },
  {
   "cell_type": "code",
   "execution_count": null,
   "id": "56560dad",
   "metadata": {},
   "outputs": [],
   "source": [
    "print(\"Old Data Frame:\",df.shape[0])\n",
    "print(\"New Data Frame:\",df1.shape[0])"
   ]
  },
  {
   "cell_type": "code",
   "execution_count": null,
   "id": "8d324f83",
   "metadata": {},
   "outputs": [],
   "source": [
    "print(\"The loss of data in percentage\",((df.shape[0]-df1.shape[0])/df.shape[0])*100)"
   ]
  },
  {
   "cell_type": "markdown",
   "id": "bbe9db63",
   "metadata": {},
   "source": [
    "the loss of data is below 10% as the limited data set "
   ]
  },
  {
   "cell_type": "markdown",
   "id": "5b0c79bd",
   "metadata": {},
   "source": [
    "# Checking for Skewness"
   ]
  },
  {
   "cell_type": "code",
   "execution_count": null,
   "id": "42fe09a1",
   "metadata": {},
   "outputs": [],
   "source": [
    "df1.skew()"
   ]
  },
  {
   "cell_type": "markdown",
   "id": "e86c4305",
   "metadata": {},
   "source": [
    "Removing skewness using cube root method"
   ]
  },
  {
   "cell_type": "code",
   "execution_count": null,
   "id": "48bba1be",
   "metadata": {},
   "outputs": [],
   "source": [
    "df1[\"Mg\"]= np.cbrt(df1[\"Mg\"])\n",
    "df1[\"Ca\"]= np.cbrt(df1[\"Ca\"])\n",
    "df1[\"Ba\"]= np.cbrt(df1[\"Ba\"])\n",
    "df1[\"Fe\"]= np.cbrt(df1[\"Fe\"])"
   ]
  },
  {
   "cell_type": "code",
   "execution_count": null,
   "id": "540137ea",
   "metadata": {},
   "outputs": [],
   "source": [
    "df1.skew()"
   ]
  },
  {
   "cell_type": "code",
   "execution_count": null,
   "id": "70b29649",
   "metadata": {},
   "outputs": [],
   "source": [
    "plt.figure(figsize=(10,15),facecolor=\"red\")\n",
    "plotnumber=1\n",
    "\n",
    "for column in df1:\n",
    "    if plotnumber<=10:\n",
    "        plt.subplot(2,5,plotnumber)\n",
    "        sns.distplot(df1[column],color='green')\n",
    "        plt.xlabel(column,fontsize=10)\n",
    "    plotnumber+=1\n",
    "plt.show()"
   ]
  },
  {
   "cell_type": "markdown",
   "id": "ebb5bf3b",
   "metadata": {},
   "source": [
    "# Correlation b/w target variable and independent variable"
   ]
  },
  {
   "cell_type": "markdown",
   "id": "deea97c1",
   "metadata": {},
   "source": [
    "# Multicollinearity"
   ]
  },
  {
   "cell_type": "code",
   "execution_count": null,
   "id": "a8d3f008",
   "metadata": {},
   "outputs": [],
   "source": [
    "cor=df1.corr()\n",
    "cor"
   ]
  },
  {
   "cell_type": "code",
   "execution_count": null,
   "id": "98666a01",
   "metadata": {},
   "outputs": [],
   "source": [
    "#Visualizing the correlation marix by using  heatmap\n",
    "\n",
    "plt.figure(figsize=(26,14))\n",
    "sns.heatmap(cor,annot=True,fmt=\"0.2f\",linewidth = 0.2,linecolor=\"black\", cmap=\"Spectral\")\n",
    "plt.xlabel(\"Figure\",fontsize=14)\n",
    "plt.ylabel(\"Features_Name\", fontsize=14)\n",
    "plt.title(\"Descriptive Graph\", fontsize=20)\n",
    "plt.show()"
   ]
  },
  {
   "cell_type": "code",
   "execution_count": null,
   "id": "8e944998",
   "metadata": {},
   "outputs": [],
   "source": [
    "cor[\"Glass_type\"].sort_values(ascending=False)"
   ]
  },
  {
   "cell_type": "markdown",
   "id": "d607d8d1",
   "metadata": {},
   "source": [
    "# Visualizing the correlation between label and features using bar plot"
   ]
  },
  {
   "cell_type": "code",
   "execution_count": null,
   "id": "ee60ac74",
   "metadata": {},
   "outputs": [],
   "source": [
    "#Visualizing the correlation between label and features using bar plot\n",
    "\n",
    "plt.figure(figsize=(22,7))\n",
    "cor[\"Glass_type\"].sort_values(ascending=False).drop([\"Glass_type\"]).plot(kind='bar',color='b')\n",
    "plt.xlabel(\"Feature\",fontsize=15)\n",
    "plt.ylabel(\"Target\",fontsize=15)\n",
    "plt.title(\"Visualizing the correlation between label and features using bar plot\")\n",
    "plt.show()"
   ]
  },
  {
   "cell_type": "markdown",
   "id": "ce41a10f",
   "metadata": {},
   "source": [
    "The Graph represents positive relation with Al,Ba,Na,Si,Ca in descending order and negative correaltion k,Mg,Fe,RI in ascending order"
   ]
  },
  {
   "cell_type": "markdown",
   "id": "64446358",
   "metadata": {},
   "source": [
    "# Separating features and label"
   ]
  },
  {
   "cell_type": "code",
   "execution_count": null,
   "id": "aa42351d",
   "metadata": {},
   "outputs": [],
   "source": [
    "x= df1.iloc[:,0:9]\n",
    "y=df1.iloc[:,-1]"
   ]
  },
  {
   "cell_type": "code",
   "execution_count": null,
   "id": "32a5af6f",
   "metadata": {},
   "outputs": [],
   "source": [
    "x"
   ]
  },
  {
   "cell_type": "code",
   "execution_count": null,
   "id": "4d95fe81",
   "metadata": {},
   "outputs": [],
   "source": [
    "y"
   ]
  },
  {
   "cell_type": "markdown",
   "id": "cbfbc95e",
   "metadata": {},
   "source": [
    "# Feature Scaling using Standard Scalarization"
   ]
  },
  {
   "cell_type": "code",
   "execution_count": null,
   "id": "c2d93d8a",
   "metadata": {},
   "outputs": [],
   "source": [
    "from sklearn.preprocessing import StandardScaler\n",
    "scaler=StandardScaler()\n",
    "x=pd.DataFrame(scaler.fit_transform(x),columns=x.columns)\n",
    "x"
   ]
  },
  {
   "cell_type": "markdown",
   "id": "845bf327",
   "metadata": {},
   "source": [
    "# Checking Variance Inflation Factor(VIF)"
   ]
  },
  {
   "cell_type": "code",
   "execution_count": null,
   "id": "a8b0a56c",
   "metadata": {},
   "outputs": [],
   "source": [
    "# Finding variance inflation factor in each scaled column\n",
    "\n",
    "from statsmodels.stats.outliers_influence import variance_inflation_factor\n",
    "vif=pd.DataFrame()\n",
    "vif[\"VIF values\"]=[variance_inflation_factor(x.values, i) for i in range(len(x.columns))]\n",
    "vif[\"Features\"]=x.columns\n",
    "\n",
    "vif"
   ]
  },
  {
   "cell_type": "markdown",
   "id": "6e7d4cb1",
   "metadata": {},
   "source": [
    "As VIF value of Happiness rank Economy and dystopia is high compared to other Features but as the limited dataset cannot drop any feature for model building"
   ]
  },
  {
   "cell_type": "code",
   "execution_count": null,
   "id": "23c64821",
   "metadata": {},
   "outputs": [],
   "source": [
    "y.value_counts()"
   ]
  },
  {
   "cell_type": "markdown",
   "id": "9b304416",
   "metadata": {},
   "source": [
    "Here we can observe that the data for target column is not balanced or biasness is present"
   ]
  },
  {
   "cell_type": "markdown",
   "id": "687c6288",
   "metadata": {},
   "source": [
    "# Oversampling"
   ]
  },
  {
   "cell_type": "code",
   "execution_count": null,
   "id": "81f204d6",
   "metadata": {},
   "outputs": [],
   "source": [
    "from imblearn.over_sampling import SMOTE\n",
    "SM=SMOTE()\n",
    "x1,y1=SM.fit_resample(x,y)"
   ]
  },
  {
   "cell_type": "code",
   "execution_count": null,
   "id": "458b2e09",
   "metadata": {},
   "outputs": [],
   "source": [
    "x1.value_counts()"
   ]
  },
  {
   "cell_type": "code",
   "execution_count": null,
   "id": "a28770ad",
   "metadata": {},
   "outputs": [],
   "source": [
    "y1.value_counts()"
   ]
  },
  {
   "cell_type": "markdown",
   "id": "a1af30ff",
   "metadata": {},
   "source": [
    "# Modelling "
   ]
  },
  {
   "cell_type": "code",
   "execution_count": null,
   "id": "5db8c260",
   "metadata": {},
   "outputs": [],
   "source": [
    "#Finding the best random state\n",
    "from sklearn.model_selection import train_test_split\n",
    "from sklearn.ensemble import RandomForestClassifier\n",
    "from sklearn.metrics import accuracy_score\n",
    "\n",
    "maxAccu=0\n",
    "masRS=0\n",
    "\n",
    "for i in range(1,200):\n",
    "    x_train,x_test,y_train,y_test=train_test_split(x1,y1,test_size=0.2,random_state=i)\n",
    "    RFR = RandomForestClassifier()\n",
    "    RFR.fit(x_train,y_train)\n",
    "    predRFR=RFR.predict(x_test)\n",
    "    acc=accuracy_score(y_test,predRFR)\n",
    "    if acc>maxAccu:\n",
    "        maxAccu=acc\n",
    "        maxRS=i\n",
    "        \n",
    "print(\"Best accuracy is\",maxAccu,\"at random state\", maxRS)\n"
   ]
  },
  {
   "cell_type": "code",
   "execution_count": null,
   "id": "bab27e5f",
   "metadata": {},
   "outputs": [],
   "source": [
    "#Creating train test split \n",
    "\n",
    "x_train,x_test,y_train,y_test=train_test_split(x1,y1,test_size=0.20,random_state=maxRS)"
   ]
  },
  {
   "cell_type": "markdown",
   "id": "62591a58",
   "metadata": {},
   "source": [
    "# Classification Algorithms"
   ]
  },
  {
   "cell_type": "code",
   "execution_count": null,
   "id": "5c6f8055",
   "metadata": {},
   "outputs": [],
   "source": [
    "from sklearn.ensemble import RandomForestClassifier,ExtraTreesClassifier\n",
    "from sklearn.linear_model import LogisticRegression\n",
    "from sklearn.svm import SVC\n",
    "from sklearn.ensemble import GradientBoostingClassifier,AdaBoostClassifier, BaggingClassifier\n",
    "from sklearn.metrics import classification_report,confusion_matrix,roc_curve,accuracy_score\n",
    "from sklearn.model_selection import cross_val_score\n"
   ]
  },
  {
   "cell_type": "markdown",
   "id": "b422fb50",
   "metadata": {},
   "source": [
    "# RandomForestClassifier"
   ]
  },
  {
   "cell_type": "code",
   "execution_count": null,
   "id": "1f282176",
   "metadata": {},
   "outputs": [],
   "source": [
    "#Checking accuracy for RandomForestClassifier\n",
    "RFC= RandomForestClassifier()\n",
    "RFC.fit(x_train,y_train)\n",
    "predRFC= RFC.predict(x_test)\n",
    "print(accuracy_score(y_test,predRFC))\n",
    "print(confusion_matrix(y_test,predRFC))\n",
    "print(classification_report(y_test,predRFC))"
   ]
  },
  {
   "cell_type": "code",
   "execution_count": null,
   "id": "dafff41c",
   "metadata": {},
   "outputs": [],
   "source": [
    "#Graphical confusion matrix for RandomForestClassifier\n",
    "\n",
    "cm=confusion_matrix(y_test,predRFC)\n",
    "\n",
    "x_axis_label=[\"0\",\"1\"]\n",
    "y_axis_label=[\"0\",\"1\"]\n",
    "\n",
    "fig,ax=plt.subplots(figsize=(7,7))\n",
    "sns.heatmap(cm, annot= True,linewidths = 0.2, linecolor=\"black\",fmt=\".0f\",ax=ax,xticklabels=x_axis_label,yticklabels=y_axis_label)\n",
    "\n",
    "plt.xlabel(\"Predicted Label\")\n",
    "plt.ylabel(\"True Label\")\n",
    "plt.title(\"Confusion Matrix for RandomForestClassifier\")\n",
    "plt.show()"
   ]
  },
  {
   "cell_type": "markdown",
   "id": "23ad89e5",
   "metadata": {},
   "source": [
    "# LogisticRegression"
   ]
  },
  {
   "cell_type": "code",
   "execution_count": null,
   "id": "545506fc",
   "metadata": {},
   "outputs": [],
   "source": [
    "##Checking accuracy for LogisticRegression\n",
    "LR = LogisticRegression()\n",
    "LR.fit(x_train,y_train)\n",
    "predLR= LR.predict(x_test)\n",
    "print(accuracy_score(y_test,predLR))\n",
    "print(confusion_matrix(y_test,predLR))\n",
    "print(classification_report(y_test,predLR))"
   ]
  },
  {
   "cell_type": "markdown",
   "id": "5c3ccd93",
   "metadata": {},
   "source": [
    "# Support Vector Machine Classifier"
   ]
  },
  {
   "cell_type": "code",
   "execution_count": null,
   "id": "c91ed8e1",
   "metadata": {},
   "outputs": [],
   "source": [
    "#Checking accuracy for Support Vector Machine Classifier\n",
    "svc=SVC()\n",
    "svc.fit(x_train,y_train)\n",
    "predsvc= svc.predict(x_test)\n",
    "print(accuracy_score(y_test,predsvc))\n",
    "print(confusion_matrix(y_test,predsvc))\n",
    "print(classification_report(y_test,predsvc))\n"
   ]
  },
  {
   "cell_type": "markdown",
   "id": "71ad30da",
   "metadata": {},
   "source": [
    "# Gradient Boosting Classifier"
   ]
  },
  {
   "cell_type": "code",
   "execution_count": null,
   "id": "9b6375d4",
   "metadata": {},
   "outputs": [],
   "source": [
    "#Checking accuracy for Gradient Boosting Classifier\n",
    "GB=GradientBoostingClassifier()\n",
    "GB.fit(x_train,y_train)\n",
    "predGB= GB.predict(x_test)\n",
    "print(accuracy_score(y_test,predGB))\n",
    "print(confusion_matrix(y_test,predGB))\n",
    "print(classification_report(y_test,predGB))"
   ]
  },
  {
   "cell_type": "markdown",
   "id": "311618f1",
   "metadata": {},
   "source": [
    "# AdaBoostClassifier"
   ]
  },
  {
   "cell_type": "code",
   "execution_count": null,
   "id": "02a28b0e",
   "metadata": {},
   "outputs": [],
   "source": [
    "#Checking accuracy for AdaBoostClassifier\n",
    "ABC=AdaBoostClassifier()\n",
    "ABC.fit(x_train,y_train)\n",
    "predABC= ABC.predict(x_test)\n",
    "print(accuracy_score(y_test,predABC))\n",
    "print(confusion_matrix(y_test,predABC))\n",
    "print(classification_report(y_test,predABC))"
   ]
  },
  {
   "cell_type": "markdown",
   "id": "dfd66d36",
   "metadata": {},
   "source": [
    "# BaggingClassifier"
   ]
  },
  {
   "cell_type": "code",
   "execution_count": null,
   "id": "214e06c9",
   "metadata": {},
   "outputs": [],
   "source": [
    "#Checking accuracy for BaggingClassifier\n",
    "BC=BaggingClassifier()\n",
    "BC.fit(x_train,y_train)\n",
    "predBC= BC.predict(x_test)\n",
    "print(accuracy_score(y_test,predBC))\n",
    "print(confusion_matrix(y_test,predBC))\n",
    "print(classification_report(y_test,predBC))"
   ]
  },
  {
   "cell_type": "markdown",
   "id": "523b48de",
   "metadata": {},
   "source": [
    "# ExtraTreesClassifier"
   ]
  },
  {
   "cell_type": "code",
   "execution_count": null,
   "id": "75fffcf1",
   "metadata": {},
   "outputs": [],
   "source": [
    "#Checking accuracy for ExtraTreesClassifier\n",
    "\n",
    "ET=ExtraTreesClassifier()\n",
    "ET.fit(x_train,y_train)\n",
    "predET= ET.predict(x_test)\n",
    "print(accuracy_score(y_test,predET))\n",
    "print(confusion_matrix(y_test,predET))\n",
    "print(classification_report(y_test,predET))"
   ]
  },
  {
   "cell_type": "markdown",
   "id": "a86e960c",
   "metadata": {},
   "source": [
    "# Cross validation Score"
   ]
  },
  {
   "cell_type": "code",
   "execution_count": null,
   "id": "c4ae8390",
   "metadata": {},
   "outputs": [],
   "source": [
    "from sklearn.model_selection import cross_val_score "
   ]
  },
  {
   "cell_type": "code",
   "execution_count": null,
   "id": "0efdad3b",
   "metadata": {},
   "outputs": [],
   "source": [
    "#checking cv score for random forest\n",
    "\n",
    "score=cross_val_score(RFC,x1,y1)\n",
    "print(score)\n",
    "print(score.mean())\n",
    "print(\"Difference between Accuracy score and cross validation score is\", accuracy_score(y_test,predRFC)-score.mean())"
   ]
  },
  {
   "cell_type": "code",
   "execution_count": null,
   "id": "0279bf92",
   "metadata": {},
   "outputs": [],
   "source": [
    "#Checking cv score for Logistic classifier\n",
    "score1=cross_val_score(LR,x1,y1)\n",
    "print(score1)\n",
    "print(score1.mean())\n",
    "print(\"Difference between Accuracy score and Cross validation score is :\",accuracy_score(y_test,predLR)-score1.mean())"
   ]
  },
  {
   "cell_type": "code",
   "execution_count": null,
   "id": "d4b9b288",
   "metadata": {},
   "outputs": [],
   "source": [
    "#Checking cv score for Bagging Classifier\n",
    "score2=cross_val_score(BC,x1,y1)\n",
    "print(score2)\n",
    "print(score2.mean())\n",
    "print(\"Difference between Accuracy score and Cross validation score is :\", accuracy_score(y_test, predBC)-score2.mean())"
   ]
  },
  {
   "cell_type": "code",
   "execution_count": null,
   "id": "b255ffb4",
   "metadata": {},
   "outputs": [],
   "source": [
    "#Checking cv score for ExtraTrees classifier\n",
    "score3=cross_val_score(ET,x1,y1)\n",
    "print(score3)\n",
    "print(score3.mean())\n",
    "print(\"Difference between Accuracy score and Cross validation score is :\",accuracy_score(y_test,predET)-score3.mean())"
   ]
  },
  {
   "cell_type": "code",
   "execution_count": null,
   "id": "dcca3158",
   "metadata": {},
   "outputs": [],
   "source": [
    "# Checking cv score for GB classifier\n",
    "score4=cross_val_score(GB,x1,y1)\n",
    "print(score4)\n",
    "print(score4.mean())\n",
    "print(\"Difference between Accuracy score and Cross validation score is :\",accuracy_score(y_test,predGB)-score4.mean())"
   ]
  },
  {
   "cell_type": "code",
   "execution_count": null,
   "id": "8a4a49ce",
   "metadata": {},
   "outputs": [],
   "source": [
    "#Checking cv score for GB classifier\n",
    "score5=cross_val_score(svc,x1,y1)\n",
    "print(score5)\n",
    "print(score5.mean())\n",
    "print(\"Difference between Accuracy score and Cross validation score is :\",accuracy_score(y_test,predsvc)-score5.mean())"
   ]
  },
  {
   "cell_type": "markdown",
   "id": "9c46a68a",
   "metadata": {},
   "source": [
    "Overall ExtraTreeClassifier is perfroming best in cross validation "
   ]
  },
  {
   "cell_type": "markdown",
   "id": "961dbfdc",
   "metadata": {},
   "source": [
    "# Hyper Parameter Tuning"
   ]
  },
  {
   "cell_type": "code",
   "execution_count": null,
   "id": "8a64ee69",
   "metadata": {},
   "outputs": [],
   "source": [
    "# ExtraTreesClassifier\n",
    "from sklearn.model_selection import GridSearchCV"
   ]
  },
  {
   "cell_type": "code",
   "execution_count": null,
   "id": "a4a2f31a",
   "metadata": {},
   "outputs": [],
   "source": [
    "parameters = {\"criterion\" : [\"gini\",\"entropy\"],\n",
    "             \"random_state\" : [10,50,1000],\n",
    "             \"max_depth\" : [None,10,20],\n",
    "             \"n_jobs\" : [-2,-1,1],\n",
    "             \"n_estimators\" : [50,100,200,300]}"
   ]
  },
  {
   "cell_type": "code",
   "execution_count": null,
   "id": "6aa67344",
   "metadata": {},
   "outputs": [],
   "source": [
    "GCV= GridSearchCV(ExtraTreesClassifier(),parameters, cv = 5)"
   ]
  },
  {
   "cell_type": "code",
   "execution_count": null,
   "id": "3fe49066",
   "metadata": {},
   "outputs": [],
   "source": [
    "GCV.fit(x_train,y_train)"
   ]
  },
  {
   "cell_type": "code",
   "execution_count": null,
   "id": "8dcd3353",
   "metadata": {},
   "outputs": [],
   "source": [
    "GCV.best_params_"
   ]
  },
  {
   "cell_type": "code",
   "execution_count": null,
   "id": "6f2f3584",
   "metadata": {},
   "outputs": [],
   "source": [
    "ET_model=ExtraTreesClassifier(criterion = \"entropy\",max_depth = None, n_jobs =-2, n_estimators= 100, random_state= 50)\n",
    "ET_model.fit(x_train,y_train)\n",
    "pred=ET_model.predict(x_test)\n",
    "acc=accuracy_score(y_test,pred)\n",
    "print(acc*100)\n",
    "print(confusion_matrix(y_test,pred))\n",
    "print(classification_report(y_test,pred))"
   ]
  },
  {
   "cell_type": "code",
   "execution_count": null,
   "id": "b15fdf41",
   "metadata": {},
   "outputs": [],
   "source": [
    "ET_model=ExtraTreesClassifier(criterion = \"gini\",max_depth = None, n_jobs =-2, n_estimators= 50, random_state= 50)\n",
    "ET_model.fit(x_train,y_train)\n",
    "pred=ET_model.predict(x_test)\n",
    "acc=accuracy_score(y_test,pred)\n",
    "print(acc*100)\n",
    "print(confusion_matrix(y_test,pred))\n",
    "print(classification_report(y_test,pred))"
   ]
  },
  {
   "cell_type": "markdown",
   "id": "888f4ef1",
   "metadata": {},
   "source": [
    "# AUC ROC CURVE"
   ]
  },
  {
   "cell_type": "code",
   "execution_count": null,
   "id": "227340d5",
   "metadata": {},
   "outputs": [],
   "source": [
    "from sklearn.metrics import roc_curve\n",
    "\n",
    "import matplotlib.pyplot as plt\n",
    "\n",
    "from sklearn.metrics import roc_auc_score"
   ]
  },
  {
   "cell_type": "code",
   "execution_count": null,
   "id": "202c2e9f",
   "metadata": {},
   "outputs": [],
   "source": [
    "y_pred_prob = ET_model.predict_proba(x_test)[:, 1]"
   ]
  },
  {
   "cell_type": "code",
   "execution_count": null,
   "id": "b3a9f3f3",
   "metadata": {},
   "outputs": [],
   "source": [
    "y_pred_prob"
   ]
  },
  {
   "cell_type": "code",
   "execution_count": null,
   "id": "01d59204",
   "metadata": {},
   "outputs": [],
   "source": [
    "fpr,tpr,thresholds=roc_curve(y_test,y_pred_prob)"
   ]
  },
  {
   "cell_type": "code",
   "execution_count": null,
   "id": "d2822058",
   "metadata": {},
   "outputs": [],
   "source": [
    "fpr"
   ]
  },
  {
   "cell_type": "code",
   "execution_count": null,
   "id": "f05f0231",
   "metadata": {},
   "outputs": [],
   "source": [
    "fpr"
   ]
  },
  {
   "cell_type": "code",
   "execution_count": null,
   "id": "42f92c86",
   "metadata": {},
   "outputs": [],
   "source": [
    "thresholds"
   ]
  },
  {
   "cell_type": "code",
   "execution_count": null,
   "id": "f466a98b",
   "metadata": {},
   "outputs": [],
   "source": [
    "plt.plot([0,1],[0,1],\"k--\")\n",
    "plt.plot(fpr,tpr,label=\"ExtraTreeClassifier\")\n",
    "plt.xlabel(\"False postive rate\")\n",
    "plt.ylabel(\"True positive rate\")\n",
    "plt.title(\"confusion matrix\")\n",
    "plt.show()"
   ]
  },
  {
   "cell_type": "code",
   "execution_count": null,
   "id": "b3d23089",
   "metadata": {},
   "outputs": [],
   "source": [
    "auc_score=roc_auc_score(y_test,ET_model.predict(x_test))"
   ]
  },
  {
   "cell_type": "code",
   "execution_count": null,
   "id": "eb251dd1",
   "metadata": {},
   "outputs": [],
   "source": [
    "print(auc_score)"
   ]
  },
  {
   "cell_type": "markdown",
   "id": "75196dd1",
   "metadata": {},
   "source": [
    "# Saving the model"
   ]
  },
  {
   "cell_type": "code",
   "execution_count": null,
   "id": "ef6e75c3",
   "metadata": {},
   "outputs": [],
   "source": [
    "#Saving ET model using pickle\n",
    "import pickle\n",
    "filename=\"Glass_identification.pkl\"\n",
    "pickle.dump(ET_model,open(filename,\"wb\")) "
   ]
  },
  {
   "cell_type": "code",
   "execution_count": null,
   "id": "26dc1eb8",
   "metadata": {},
   "outputs": [],
   "source": [
    "load_model=pickle.load(open(\"Glass_identification.pkl\",\"rb\"))\n",
    "result=load_model.score(x_test,y_test)\n",
    "print(result*100)"
   ]
  },
  {
   "cell_type": "code",
   "execution_count": null,
   "id": "92f3bdee",
   "metadata": {},
   "outputs": [],
   "source": [
    "conclusion =pd.DataFrame([load_model.predict(x_test)[:],y_test[:]],index=[\"Predicted\",\"Original\"])\n",
    "conclusion"
   ]
  },
  {
   "cell_type": "code",
   "execution_count": null,
   "id": "8a13e41e",
   "metadata": {},
   "outputs": [],
   "source": []
  }
 ],
 "metadata": {
  "kernelspec": {
   "display_name": "Python 3 (ipykernel)",
   "language": "python",
   "name": "python3"
  },
  "language_info": {
   "codemirror_mode": {
    "name": "ipython",
    "version": 3
   },
   "file_extension": ".py",
   "mimetype": "text/x-python",
   "name": "python",
   "nbconvert_exporter": "python",
   "pygments_lexer": "ipython3",
   "version": "3.11.3"
  }
 },
 "nbformat": 4,
 "nbformat_minor": 5
}
