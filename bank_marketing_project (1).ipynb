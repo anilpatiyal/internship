{
 "cells": [
  {
   "cell_type": "code",
   "execution_count": null,
   "id": "8d2053bc",
   "metadata": {},
   "outputs": [],
   "source": [
    "import numpy as np\n",
    "import pandas as pd\n",
    "import matplotlib.pyplot as plt\n",
    "import seaborn as sns\n",
    "import warnings\n",
    "warnings.filterwarnings(\"ignore\")"
   ]
  },
  {
   "cell_type": "code",
   "execution_count": null,
   "id": "d765ad93",
   "metadata": {},
   "outputs": [],
   "source": [
    "#url of the dataset\n",
    "url=\"https://raw.githubusercontent.com/FlipRoboTechnologies/ML-Datasets/main/Bank%20Marketing/termdeposit_train.csv\"\n",
    "\n",
    "\n",
    "\n",
    "df=pd.read_csv(url)\n",
    "df"
   ]
  },
  {
   "cell_type": "markdown",
   "id": "94fe9156",
   "metadata": {},
   "source": [
    "# Exploratory Data Analysis (EDA)"
   ]
  },
  {
   "cell_type": "code",
   "execution_count": null,
   "id": "128b1119",
   "metadata": {},
   "outputs": [],
   "source": [
    "df.shape"
   ]
  },
  {
   "cell_type": "markdown",
   "id": "434015fd",
   "metadata": {},
   "source": [
    "The Bank Marketing  Dataset contains 31647 rows and 18 columns"
   ]
  },
  {
   "cell_type": "code",
   "execution_count": null,
   "id": "ed128125",
   "metadata": {},
   "outputs": [],
   "source": [
    "df.columns"
   ]
  },
  {
   "cell_type": "code",
   "execution_count": null,
   "id": "2850e815",
   "metadata": {},
   "outputs": [],
   "source": [
    "#checking the columns of dataset\n",
    "df.columns.tolist()"
   ]
  },
  {
   "cell_type": "code",
   "execution_count": null,
   "id": "c198ce0a",
   "metadata": {},
   "outputs": [],
   "source": [
    "#checking the datatypes of columns\n",
    "df.dtypes"
   ]
  },
  {
   "cell_type": "markdown",
   "id": "51d77141",
   "metadata": {},
   "source": [
    "Here there is 10 string columns and 8 numerical column in the dataset"
   ]
  },
  {
   "cell_type": "code",
   "execution_count": null,
   "id": "3072f970",
   "metadata": {},
   "outputs": [],
   "source": [
    "df.head()"
   ]
  },
  {
   "cell_type": "code",
   "execution_count": null,
   "id": "4a2ac367",
   "metadata": {},
   "outputs": [],
   "source": [
    "df.tail()"
   ]
  },
  {
   "cell_type": "markdown",
   "id": "5c8b9109",
   "metadata": {},
   "source": [
    "# np.nan,None,NaN,others"
   ]
  },
  {
   "cell_type": "code",
   "execution_count": null,
   "id": "1ac29333",
   "metadata": {},
   "outputs": [],
   "source": [
    "df.isnull().sum()"
   ]
  },
  {
   "cell_type": "markdown",
   "id": "d9980cf3",
   "metadata": {},
   "source": [
    "Here observed that there is no null value in the dataset and will further verify"
   ]
  },
  {
   "cell_type": "code",
   "execution_count": null,
   "id": "53460ed7",
   "metadata": {},
   "outputs": [],
   "source": [
    "df.isnull().sum().sum()"
   ]
  },
  {
   "cell_type": "code",
   "execution_count": null,
   "id": "b9439d82",
   "metadata": {},
   "outputs": [],
   "source": [
    "df.info()"
   ]
  },
  {
   "cell_type": "markdown",
   "id": "855971db",
   "metadata": {},
   "source": [
    "Here from the above we get information that there is no null value present and all the features in the data type is string and integer  and memory used is 4.3+MB "
   ]
  },
  {
   "cell_type": "code",
   "execution_count": null,
   "id": "ce77fa9d",
   "metadata": {},
   "outputs": [],
   "source": [
    "#lets visualize it using heatmap\n",
    "sns.heatmap(df.isnull())"
   ]
  },
  {
   "cell_type": "markdown",
   "id": "55995ea9",
   "metadata": {},
   "source": [
    "This heat map is evidence for no null value present in the dataset"
   ]
  },
  {
   "cell_type": "code",
   "execution_count": null,
   "id": "07a11742",
   "metadata": {},
   "outputs": [],
   "source": [
    "# checking the unique value \n",
    "df[\"subscribed\"].unique()"
   ]
  },
  {
   "cell_type": "code",
   "execution_count": null,
   "id": "89c7ba1b",
   "metadata": {},
   "outputs": [],
   "source": [
    "df[\"subscribed\"].nunique()"
   ]
  },
  {
   "cell_type": "code",
   "execution_count": null,
   "id": "9623b40f",
   "metadata": {},
   "outputs": [],
   "source": [
    "#Checking the value count of each variabe in the table\n",
    "\n",
    "for i in df:\n",
    "    print(df[i].value_counts())\n",
    "    print(\"\\n\")"
   ]
  },
  {
   "cell_type": "markdown",
   "id": "6036a7e2",
   "metadata": {},
   "source": [
    "From this above we get the summary of data set with unique value of all the features and target label here we can observed that subscribe is showing baiseness in the not subscribed "
   ]
  },
  {
   "cell_type": "code",
   "execution_count": null,
   "id": "f70ab849",
   "metadata": {},
   "outputs": [],
   "source": [
    "df.dtypes.index"
   ]
  },
  {
   "cell_type": "code",
   "execution_count": null,
   "id": "5ca9ee32",
   "metadata": {
    "scrolled": true
   },
   "outputs": [],
   "source": [
    "#checking number of unique values in bank marketing dataset\n",
    "df.nunique().to_frame(\"No. of unique value\")"
   ]
  },
  {
   "cell_type": "markdown",
   "id": "75881d8e",
   "metadata": {},
   "source": [
    "From this above we can observe that ID column is equal to length of the table as it has no input towards subscription so can drop this column"
   ]
  },
  {
   "cell_type": "code",
   "execution_count": null,
   "id": "da5cf75f",
   "metadata": {},
   "outputs": [],
   "source": [
    "df.drop(\"ID\",axis=1,inplace=True)"
   ]
  },
  {
   "cell_type": "code",
   "execution_count": null,
   "id": "8b33f1d1",
   "metadata": {},
   "outputs": [],
   "source": [
    "df.shape"
   ]
  },
  {
   "cell_type": "markdown",
   "id": "69fdd08b",
   "metadata": {},
   "source": [
    "# Feature Engineering "
   ]
  },
  {
   "cell_type": "code",
   "execution_count": null,
   "id": "b4d80221",
   "metadata": {},
   "outputs": [],
   "source": [
    "from sklearn.preprocessing import LabelEncoder\n",
    "LE=LabelEncoder()\n",
    "\n",
    "for i in df:\n",
    "    if df[i].dtypes==\"object\":\n",
    "        df[i]=LE.fit_transform(df[i].values.reshape(-1,1))\n",
    "        \n",
    "        \n",
    "df"
   ]
  },
  {
   "cell_type": "markdown",
   "id": "fef60874",
   "metadata": {},
   "source": [
    "# Description of Dataset"
   ]
  },
  {
   "cell_type": "code",
   "execution_count": null,
   "id": "ef8e8891",
   "metadata": {},
   "outputs": [],
   "source": [
    "# Statistical summary of numerical columns\n",
    "df.describe()"
   ]
  },
  {
   "cell_type": "markdown",
   "id": "6dde37ac",
   "metadata": {},
   "source": [
    "In balance, duration, pdays  mean > median represent positive skewdness or right tailed skewdness"
   ]
  },
  {
   "cell_type": "code",
   "execution_count": null,
   "id": "cdef175e",
   "metadata": {},
   "outputs": [],
   "source": [
    "plt.figure(figsize=(22,10))\n",
    "sns.heatmap(df.describe(),annot=True,fmt=\"0.2f\",linewidth=0.2,linecolor=\"black\",cmap=\"Spectral\")\n",
    "plt.xlabel(\"Features Names\",fontsize=14)\n",
    "plt.ylabel(\"Descriptive Stats\",fontsize=14)\n",
    "plt.title(\"Descriptive Graph\",fontsize=20)\n",
    "plt.show()"
   ]
  },
  {
   "cell_type": "markdown",
   "id": "06af321a",
   "metadata": {},
   "source": [
    "# Data Visualization"
   ]
  },
  {
   "cell_type": "markdown",
   "id": "b6d9aa4f",
   "metadata": {},
   "source": [
    "# Univariate Analysis"
   ]
  },
  {
   "cell_type": "code",
   "execution_count": null,
   "id": "5173f5cf",
   "metadata": {},
   "outputs": [],
   "source": [
    "#Visualize the number of label target as \n",
    "\n",
    "sns.countplot(x=\"subscribed\",data=df)\n"
   ]
  },
  {
   "cell_type": "markdown",
   "id": "104ac650",
   "metadata": {},
   "source": [
    "The dependent shows biased data towards not subscribed"
   ]
  },
  {
   "cell_type": "code",
   "execution_count": null,
   "id": "ed09d392",
   "metadata": {},
   "outputs": [],
   "source": [
    "# Checking the count of each feature and target variable\n",
    "\n",
    "for i in df:\n",
    "    plt.figure(figsize=(12,3),facecolor=\"white\")\n",
    "    sns.countplot(x=i,data=df)\n",
    "plt.show()"
   ]
  },
  {
   "cell_type": "code",
   "execution_count": null,
   "id": "e2406cde",
   "metadata": {},
   "outputs": [],
   "source": [
    "#Checking the data Distribution\n",
    "\n",
    "# Lets check how the data has been distributed in numerical column\n",
    "\n",
    "plt.figure(figsize=(35,30),facecolor=\"white\")\n",
    "plotnum=1\n",
    "for col in df:\n",
    "    if plotnum<=17:\n",
    "        plt.subplot(5,4,plotnum)\n",
    "        sns.distplot(df[col],color=\"m\")\n",
    "        plt.xlabel(col,fontsize = 10)\n",
    "        plt.yticks(rotation=0, fontsize = 10)\n",
    "    plotnum+=1\n",
    "plt.show()"
   ]
  },
  {
   "cell_type": "markdown",
   "id": "6549d7f8",
   "metadata": {},
   "source": [
    "# Bivariate Analysis"
   ]
  },
  {
   "cell_type": "code",
   "execution_count": null,
   "id": "2ff5d232",
   "metadata": {},
   "outputs": [],
   "source": [
    "for i in  df.columns:\n",
    "    plt.figure(figsize=(4,2),facecolor=\"white\")\n",
    "    sns.lmplot(x=i ,y=\"subscribed\", data=df, palette=\"colorblind\")\n",
    "    plt.xlabel(i)\n",
    "    plt.ylabel(\"Subscribed\")\n",
    "plt.show()"
   ]
  },
  {
   "cell_type": "code",
   "execution_count": null,
   "id": "9f90d0da",
   "metadata": {},
   "outputs": [],
   "source": [
    "for i in  df.columns:\n",
    "    plt.figure(figsize=(3,2),facecolor=\"white\")\n",
    "    sns.lmplot(x=\"subscribed\" ,y=i, data=df, palette=\"colorblind\")\n",
    "    plt.xlabel(\"Subscribed\")\n",
    "    plt.ylabel(i)\n",
    "plt.show()"
   ]
  },
  {
   "cell_type": "code",
   "execution_count": null,
   "id": "5d1953c1",
   "metadata": {},
   "outputs": [],
   "source": [
    "#Comparing subscribed  with other columns using reg plot to find any relationship \n",
    "plt.figure(figsize=(20,25))\n",
    "p=1\n",
    "for i in df.columns:\n",
    "    if p<=17:\n",
    "        plt.subplot(5,4,p)\n",
    "        sns.regplot(x=i,y=\"subscribed\", data =df,color='b')\n",
    "        plt.xlabel(i)\n",
    "        plt.ylabel(\"Subscribed\")\n",
    "    p+=1\n",
    "plt.show()"
   ]
  },
  {
   "cell_type": "code",
   "execution_count": null,
   "id": "e30371ec",
   "metadata": {
    "scrolled": true
   },
   "outputs": [],
   "source": [
    "#Comparing subscribed  with other columns using barplot plot to find any relationship \n",
    "plt.figure(figsize=(20,25))\n",
    "p=1\n",
    "for i in df.columns:\n",
    "    if p<=17:\n",
    "        plt.subplot(5,4,p)\n",
    "        sns.barplot(x=i,y=\"subscribed\", data =df,color='b')\n",
    "        plt.xlabel(i)\n",
    "        plt.ylabel(\"Subscribed\")\n",
    "    p+=1\n",
    "plt.show()"
   ]
  },
  {
   "cell_type": "markdown",
   "id": "518b0ff6",
   "metadata": {},
   "source": [
    "Barplot shows the distribution of categorial variable basically so all the graph which are readable are categorical or ordinal variabe  "
   ]
  },
  {
   "cell_type": "code",
   "execution_count": null,
   "id": "acee557c",
   "metadata": {},
   "outputs": [],
   "source": [
    "#Comparing subscribed  with other columns using scatter plot to find any relationship \n",
    "plt.figure(figsize=(20,25))\n",
    "p=1\n",
    "for i in df.columns:\n",
    "    if p<=17:\n",
    "        plt.subplot(5,4,p)\n",
    "        sns.scatterplot(x=i,y=\"subscribed\", data =df,color='b')\n",
    "        plt.xlabel(i)\n",
    "        plt.ylabel(\"Subscribed\")\n",
    "    p+=1\n",
    "plt.show()"
   ]
  },
  {
   "cell_type": "code",
   "execution_count": null,
   "id": "8d02a942",
   "metadata": {},
   "outputs": [],
   "source": [
    "#comparing balance,job and subscribed\n",
    "plt.title(\"Comparing balance job and subscribed\")\n",
    "sns.scatterplot(x='balance', y='job',hue=\"subscribed\",data =df)\n",
    "plt.show()"
   ]
  },
  {
   "cell_type": "code",
   "execution_count": null,
   "id": "57a17d6e",
   "metadata": {},
   "outputs": [],
   "source": [
    "#comparing balance,job and subscribed\n",
    "plt.title(\"Comparing balance job and subscribed\")\n",
    "sns.stripplot(x='marital', y='job',hue=\"subscribed\",data =df)\n",
    "plt.show()"
   ]
  },
  {
   "cell_type": "code",
   "execution_count": null,
   "id": "85a88305",
   "metadata": {},
   "outputs": [],
   "source": [
    "#comparing balance marital and subscribed\n",
    "plt.title(\"Comparing  balance marital and subscribed\")\n",
    "sns.scatterplot(x='balance', y='marital',hue=\"subscribed\",data =df)\n",
    "plt.show()"
   ]
  },
  {
   "cell_type": "code",
   "execution_count": null,
   "id": "e4f5c67d",
   "metadata": {},
   "outputs": [],
   "source": [
    "#comparing job and age with subscribed\n",
    "plt.title(\"Comparing job age and subscribed\")\n",
    "sns.stripplot(x='job', y='age',hue=\"subscribed\",data =df)\n",
    "plt.show()"
   ]
  },
  {
   "cell_type": "code",
   "execution_count": null,
   "id": "255e6176",
   "metadata": {},
   "outputs": [],
   "source": [
    "#comparing job and age with subscribed\n",
    "plt.title(\"Comparing job age and default\")\n",
    "sns.stripplot(x='job', y='age',hue=\"default\",data =df)\n",
    "plt.show()"
   ]
  },
  {
   "cell_type": "markdown",
   "id": "b366ef89",
   "metadata": {},
   "source": [
    "As we can observe from all the plots that there is non-uniformity in subscribe column and also there is density variation in 0-1 in relation to all the independent variation\n",
    "otherwise each categories of features has subscribed for fixed loan so there is opportunity in each segment for fixed deposit we have overcome the oversampling table using SMOTE in later part of project "
   ]
  },
  {
   "cell_type": "code",
   "execution_count": null,
   "id": "a3db2254",
   "metadata": {},
   "outputs": [],
   "source": [
    "#Comparing job month and subscribed\n",
    "plt.title(\"Comparing job month and subscribed\")\n",
    "sns.scatterplot(x=\"job\",y=\"month\",data=df,hue=\"subscribed\",palette=\"bright\")\n",
    "plt.show()"
   ]
  },
  {
   "cell_type": "markdown",
   "id": "3fe63ccc",
   "metadata": {},
   "source": [
    "# Mutlivariate Analysis"
   ]
  },
  {
   "cell_type": "code",
   "execution_count": null,
   "id": "37a0c966",
   "metadata": {},
   "outputs": [],
   "source": [
    "sns.pairplot(data=df)"
   ]
  },
  {
   "cell_type": "code",
   "execution_count": null,
   "id": "c2572c48",
   "metadata": {},
   "outputs": [],
   "source": [
    "sns.pairplot(data=df,hue = \"subscribed\")"
   ]
  },
  {
   "cell_type": "code",
   "execution_count": null,
   "id": "d8e368a4",
   "metadata": {},
   "outputs": [],
   "source": [
    "#lets check the outliers by plotting boxplot.\n",
    "\n",
    "\n",
    "plotnumber=1\n",
    "for col in df.columns:\n",
    "    if plotnumber<=17:\n",
    "        plt.subplot(3,6,plotnumber)\n",
    "        sns.boxplot(y=df[col], palette = \"Set2_r\")\n",
    "        plt.xlabel(col, fontsize = 5)\n",
    "        plt.yticks(rotation=2, fontsize =2)\n",
    "    plotnumber+=1\n",
    "    \n",
    "plt.tight_layout()\n",
    "plt.show()"
   ]
  },
  {
   "cell_type": "markdown",
   "id": "f122624f",
   "metadata": {},
   "source": [
    "As we can seen there is outliers present in all columns except day, job, martial, education housing, contact, day, month feature  in the dataset"
   ]
  },
  {
   "cell_type": "code",
   "execution_count": null,
   "id": "39309880",
   "metadata": {},
   "outputs": [],
   "source": [
    "from scipy.stats import zscore\n",
    "out_features=df.iloc[:,:]\n",
    "z=np.abs(zscore(out_features))\n",
    "z"
   ]
  },
  {
   "cell_type": "code",
   "execution_count": null,
   "id": "d73b21e3",
   "metadata": {},
   "outputs": [],
   "source": [
    "#threshold z>3\n",
    "np.where(z>3)"
   ]
  },
  {
   "cell_type": "code",
   "execution_count": null,
   "id": "c860947d",
   "metadata": {},
   "outputs": [],
   "source": [
    "z.iloc[10,4]"
   ]
  },
  {
   "cell_type": "code",
   "execution_count": null,
   "id": "42d022df",
   "metadata": {},
   "outputs": [],
   "source": [
    "z.iloc[26,5]"
   ]
  },
  {
   "cell_type": "code",
   "execution_count": null,
   "id": "c7c307ac",
   "metadata": {},
   "outputs": [],
   "source": [
    "df1=df[(z<3).all(axis=1)]"
   ]
  },
  {
   "cell_type": "code",
   "execution_count": null,
   "id": "0323a3aa",
   "metadata": {},
   "outputs": [],
   "source": [
    "df1.shape"
   ]
  },
  {
   "cell_type": "code",
   "execution_count": null,
   "id": "743008f5",
   "metadata": {},
   "outputs": [],
   "source": [
    "print(\"Old Data Frame:\",df.shape[0])\n",
    "print(\"New Data Frame:\",df1.shape[0])"
   ]
  },
  {
   "cell_type": "code",
   "execution_count": null,
   "id": "27202393",
   "metadata": {},
   "outputs": [],
   "source": [
    "print(\"The loss of data in percentage\",((df.shape[0]-df1.shape[0])/df.shape[0])*100)"
   ]
  },
  {
   "cell_type": "markdown",
   "id": "8273bfab",
   "metadata": {},
   "source": [
    "the loss of data is above 10% with 31647 rows ideal dataset to remove outliers for training model"
   ]
  },
  {
   "cell_type": "code",
   "execution_count": null,
   "id": "e65c1082",
   "metadata": {},
   "outputs": [],
   "source": [
    "df1.info()"
   ]
  },
  {
   "cell_type": "code",
   "execution_count": null,
   "id": "cc6c4153",
   "metadata": {},
   "outputs": [],
   "source": [
    "df1.skew()"
   ]
  },
  {
   "cell_type": "markdown",
   "id": "13421c45",
   "metadata": {},
   "source": [
    "# correlation between target variable and independent variables"
   ]
  },
  {
   "cell_type": "markdown",
   "id": "2e53d760",
   "metadata": {},
   "source": [
    "# Multicollinearity"
   ]
  },
  {
   "cell_type": "code",
   "execution_count": null,
   "id": "ce50dd5b",
   "metadata": {},
   "outputs": [],
   "source": [
    "cor=df1.corr()"
   ]
  },
  {
   "cell_type": "code",
   "execution_count": null,
   "id": "a3266828",
   "metadata": {},
   "outputs": [],
   "source": [
    "#Visualizing the correlation marix by using  heatmap\n",
    "\n",
    "plt.figure(figsize=(26,14))\n",
    "sns.heatmap(cor,annot=True,fmt=\"0.2f\",linewidth = 0.2,linecolor=\"black\", cmap=\"Blues_r\")\n",
    "plt.xlabel(\"Figure\",fontsize=14)\n",
    "plt.ylabel(\"Features_Name\", fontsize=14)\n",
    "plt.title(\"Descriptive Graph\", fontsize=20)\n",
    "plt.show()"
   ]
  },
  {
   "cell_type": "markdown",
   "id": "19233170",
   "metadata": {},
   "source": [
    "0 - no relation,0.3 to +0.3 less corelation, greater thab -0.5 to +0.5 moderate corelation, greater than -0.7 to +0.7 is high correlation"
   ]
  },
  {
   "cell_type": "markdown",
   "id": "795710cb",
   "metadata": {},
   "source": [
    "default variable show no linear relation with target varible and with any other independent variable so its ideal to drop this column"
   ]
  },
  {
   "cell_type": "code",
   "execution_count": null,
   "id": "f37ba09c",
   "metadata": {},
   "outputs": [],
   "source": [
    "df1.drop(\"default\",inplace=True,axis=1)"
   ]
  },
  {
   "cell_type": "code",
   "execution_count": null,
   "id": "e6bd9f0e",
   "metadata": {},
   "outputs": [],
   "source": [
    "#Checking for Skewness"
   ]
  },
  {
   "cell_type": "code",
   "execution_count": null,
   "id": "1aaa96aa",
   "metadata": {},
   "outputs": [],
   "source": [
    "df1.skew()"
   ]
  },
  {
   "cell_type": "code",
   "execution_count": null,
   "id": "38dfd727",
   "metadata": {},
   "outputs": [],
   "source": [
    "#Checking the data Distribution\n",
    "\n",
    "# Lets check how the data has been distributed in numerical column\n",
    "\n",
    "plt.figure(figsize=(35,30),facecolor=\"white\")\n",
    "plotnum=1\n",
    "for col in df1:\n",
    "    if plotnum<=17:\n",
    "        plt.subplot(5,4,plotnum)\n",
    "        sns.distplot(df1[col],color=\"b\")\n",
    "        plt.xlabel(col,fontsize = 10)\n",
    "        plt.yticks(rotation=0, fontsize = 10)\n",
    "    plotnum+=1\n",
    "plt.show()"
   ]
  },
  {
   "cell_type": "markdown",
   "id": "9fa8a785",
   "metadata": {},
   "source": [
    "Distribution plot represents that data distributed in this variable are evenly example age job age martial education month day housing and duration has right skewness present and low variance and high biased present in all other features to overcome  this performing oversampling technique in dataset "
   ]
  },
  {
   "cell_type": "code",
   "execution_count": null,
   "id": "bd114786",
   "metadata": {},
   "outputs": [],
   "source": [
    "cor['subscribed'].sort_values(ascending=False)"
   ]
  },
  {
   "cell_type": "markdown",
   "id": "a9607c44",
   "metadata": {},
   "source": [
    "shows positive and negative corelationship with target"
   ]
  },
  {
   "cell_type": "markdown",
   "id": "a89d742f",
   "metadata": {},
   "source": [
    "# Visualizing the correlation between label and features using bar plot"
   ]
  },
  {
   "cell_type": "code",
   "execution_count": null,
   "id": "2bf05bcc",
   "metadata": {},
   "outputs": [],
   "source": [
    "#Visualizing the correlation between label and features using bar plot\n",
    "\n",
    "plt.figure(figsize=(22,7))\n",
    "cor[\"subscribed\"].sort_values(ascending=False).drop([\"subscribed\"]).plot(kind='bar',color='b')\n",
    "plt.xlabel(\"Feature\",fontsize=15)\n",
    "plt.ylabel(\"Target\",fontsize=15)\n",
    "plt.title(\"Visualizing the correlation between label and features using bar plot\")\n",
    "plt.show()"
   ]
  },
  {
   "cell_type": "markdown",
   "id": "a0ffe44d",
   "metadata": {},
   "source": [
    "Separating features and label"
   ]
  },
  {
   "cell_type": "code",
   "execution_count": null,
   "id": "68e49e8a",
   "metadata": {},
   "outputs": [],
   "source": [
    "x= df1.iloc[:,0:15]\n",
    "y=df1.iloc[:,-1]\n",
    "\n",
    "print(x)\n",
    "print(y)"
   ]
  },
  {
   "cell_type": "markdown",
   "id": "64e9bf6a",
   "metadata": {},
   "source": [
    "# Feature Scaling using Standard Scalarization"
   ]
  },
  {
   "cell_type": "code",
   "execution_count": null,
   "id": "456a74e6",
   "metadata": {},
   "outputs": [],
   "source": [
    "from sklearn.preprocessing import StandardScaler\n",
    "scaler=StandardScaler()\n",
    "x=pd.DataFrame(scaler.fit_transform(x),columns=x.columns)\n",
    "x"
   ]
  },
  {
   "cell_type": "markdown",
   "id": "3993e1c7",
   "metadata": {},
   "source": [
    "# Checking Variance Inflation Factor(VIF"
   ]
  },
  {
   "cell_type": "code",
   "execution_count": null,
   "id": "b68bdcc6",
   "metadata": {},
   "outputs": [],
   "source": [
    "# Finding variance inflation factor in each scaled column\n",
    "\n",
    "from statsmodels.stats.outliers_influence import variance_inflation_factor\n",
    "vif=pd.DataFrame()\n",
    "vif[\"VIF values\"]=[variance_inflation_factor(x.values, i) for i in range(len(x.columns))]\n",
    "vif[\"Features\"]=x.columns\n",
    "\n",
    "vif"
   ]
  },
  {
   "cell_type": "markdown",
   "id": "0e0f0d31",
   "metadata": {},
   "source": [
    "By checking VIF values we can find the features causing multicollinearity problem.Here we can find the feature poutcome and pdays have VIF value greater than 5 and 4  which means they have high correlation with other features.We will drop one of the column first,if the same VIF value exist then remove columns with high VIF"
   ]
  },
  {
   "cell_type": "code",
   "execution_count": null,
   "id": "3abd3c6f",
   "metadata": {},
   "outputs": [],
   "source": [
    "# x.drop(\"poutcome\",inplace=True,axis=1)"
   ]
  },
  {
   "cell_type": "markdown",
   "id": "2bcbc1a5",
   "metadata": {},
   "source": [
    "As we have limited independent variable this step can also be used when big data is present"
   ]
  },
  {
   "cell_type": "code",
   "execution_count": null,
   "id": "2bfd11f4",
   "metadata": {},
   "outputs": [],
   "source": [
    "y.value_counts()"
   ]
  },
  {
   "cell_type": "markdown",
   "id": "670ab2af",
   "metadata": {},
   "source": [
    "Here we can observe that the data for target column is not balanced or biasness is present"
   ]
  },
  {
   "cell_type": "markdown",
   "id": "26578dd1",
   "metadata": {},
   "source": [
    "# Oversampling"
   ]
  },
  {
   "cell_type": "code",
   "execution_count": null,
   "id": "22b348d1",
   "metadata": {},
   "outputs": [],
   "source": [
    "from imblearn.over_sampling import SMOTE\n",
    "SM=SMOTE()\n",
    "x1,y1=SM.fit_resample(x,y)"
   ]
  },
  {
   "cell_type": "code",
   "execution_count": null,
   "id": "336e373b",
   "metadata": {},
   "outputs": [],
   "source": [
    "y1.value_counts()"
   ]
  },
  {
   "cell_type": "markdown",
   "id": "513f1c57",
   "metadata": {},
   "source": [
    "# Modelling"
   ]
  },
  {
   "cell_type": "code",
   "execution_count": null,
   "id": "6fe8c846",
   "metadata": {},
   "outputs": [],
   "source": [
    "#Finding the best random state\n",
    "from sklearn.model_selection import train_test_split\n",
    "from sklearn.ensemble import RandomForestClassifier\n",
    "from sklearn.metrics import accuracy_score\n",
    "\n",
    "maxAccu=0\n",
    "masRS=0\n",
    "\n",
    "for i in range(1,200):\n",
    "    x_train,x_test,y_train,y_test=train_test_split(x1,y1,test_size=0.2,random_state=i)\n",
    "    RFR = RandomForestClassifier()\n",
    "    RFR.fit(x_train,y_train)\n",
    "    predRFR=RFR.predict(x_test)\n",
    "    acc=accuracy_score(y_test,predRFR)\n",
    "    if acc>maxAccu:\n",
    "        maxAccu=acc\n",
    "        maxRS=i\n",
    "        \n",
    "print(\"Best accuracy is\",maxAccu,\"at random state\", maxRS)"
   ]
  },
  {
   "cell_type": "code",
   "execution_count": null,
   "id": "1046245d",
   "metadata": {},
   "outputs": [],
   "source": [
    "#Creating train test split \n",
    "\n",
    "x_train,x_test,y_train,y_test=train_test_split(x1,y1,test_size=0.20,random_state=maxRS)"
   ]
  },
  {
   "cell_type": "markdown",
   "id": "5fb429a9",
   "metadata": {},
   "source": [
    "# Classification Algorithms"
   ]
  },
  {
   "cell_type": "code",
   "execution_count": null,
   "id": "1b6a1de7",
   "metadata": {},
   "outputs": [],
   "source": [
    "from sklearn.ensemble import RandomForestClassifier,ExtraTreesClassifier\n",
    "from sklearn.linear_model import LogisticRegression\n",
    "from sklearn.svm import SVC\n",
    "from sklearn.ensemble import GradientBoostingClassifier,AdaBoostClassifier, BaggingClassifier\n",
    "from sklearn.metrics import classification_report,confusion_matrix,roc_curve,accuracy_score\n",
    "from sklearn.model_selection import cross_val_score\n"
   ]
  },
  {
   "cell_type": "markdown",
   "id": "72769b2a",
   "metadata": {},
   "source": [
    "# RandomForestClassifier"
   ]
  },
  {
   "cell_type": "code",
   "execution_count": null,
   "id": "604eb1b1",
   "metadata": {},
   "outputs": [],
   "source": [
    "#Checking accuracy for RandomForestClassifier\n",
    "RFC= RandomForestClassifier()\n",
    "RFC.fit(x_train,y_train)\n",
    "predRFC= RFC.predict(x_test)\n",
    "trainRFC=RFC.predict(x_train)\n",
    "print(accuracy_score(y_test,predRFC))\n",
    "print(accuracy_score(y_train,trainRFC))\n",
    "print(confusion_matrix(y_test,predRFC))\n",
    "print(classification_report(y_test,predRFC))"
   ]
  },
  {
   "cell_type": "code",
   "execution_count": null,
   "id": "a76e602c",
   "metadata": {},
   "outputs": [],
   "source": [
    "#Graphical confusion matrix for RandomForestClassifier\n",
    "\n",
    "cm=confusion_matrix(y_test,predRFC)\n",
    "\n",
    "x_axis_label=[\"0\",\"1\"]\n",
    "y_axis_label=[\"0\",\"1\"]\n",
    "\n",
    "fig,ax=plt.subplots(figsize=(7,7))\n",
    "sns.heatmap(cm, annot= True,linewidths = 0.2, linecolor=\"black\",fmt=\".0f\",ax=ax,xticklabels=x_axis_label,yticklabels=y_axis_label)\n",
    "\n",
    "plt.xlabel(\"Predicted Label\")\n",
    "plt.ylabel(\"True Label\")\n",
    "plt.title(\"Confusion Matrix for RandomForestClassifier\")\n",
    "plt.show()"
   ]
  },
  {
   "cell_type": "markdown",
   "id": "26e36f35",
   "metadata": {},
   "source": [
    "# LogisticRegression"
   ]
  },
  {
   "cell_type": "code",
   "execution_count": null,
   "id": "7a1031a3",
   "metadata": {},
   "outputs": [],
   "source": [
    "##Checking accuracy for LogisticRegression\n",
    "LR = LogisticRegression()\n",
    "LR.fit(x_train,y_train)\n",
    "predLR= LR.predict(x_test)\n",
    "trainLR=LR.predict(x_train)\n",
    "print(accuracy_score(y_test,predLR))\n",
    "print(accuracy_score(y_train,trainLR))\n",
    "print(confusion_matrix(y_test,predLR))\n",
    "print(classification_report(y_test,predLR))"
   ]
  },
  {
   "cell_type": "markdown",
   "id": "4ac69836",
   "metadata": {},
   "source": [
    "# Support Vector Machine Classifier"
   ]
  },
  {
   "cell_type": "code",
   "execution_count": null,
   "id": "36ae6d77",
   "metadata": {},
   "outputs": [],
   "source": [
    "#Checking accuracy for Support Vector Machine Classifier\n",
    "svc=SVC()\n",
    "svc.fit(x_train,y_train)\n",
    "predsvc= svc.predict(x_test)\n",
    "trainsvc=svc.predict(x_train)\n",
    "print(accuracy_score(y_test,predsvc))\n",
    "print(accuracy_score(y_train,trainsvc))\n",
    "print(confusion_matrix(y_test,predsvc))\n",
    "print(classification_report(y_test,predsvc))"
   ]
  },
  {
   "cell_type": "markdown",
   "id": "3bb9c1c1",
   "metadata": {},
   "source": [
    "# Gradient Boosting Classifier"
   ]
  },
  {
   "cell_type": "code",
   "execution_count": null,
   "id": "49578c50",
   "metadata": {},
   "outputs": [],
   "source": [
    "#Checking accuracy for Gradient Boosting Classifier\n",
    "GB=GradientBoostingClassifier()\n",
    "GB.fit(x_train,y_train)\n",
    "predGB= GB.predict(x_test)\n",
    "trainGB=GB.predict(x_train)\n",
    "print(accuracy_score(y_test,predGB))\n",
    "print(accuracy_score(y_train,trainGB))\n",
    "print(confusion_matrix(y_test,predGB))\n",
    "print(classification_report(y_test,predGB))"
   ]
  },
  {
   "cell_type": "markdown",
   "id": "47804821",
   "metadata": {},
   "source": [
    "# AdaBoostClassifier"
   ]
  },
  {
   "cell_type": "code",
   "execution_count": null,
   "id": "db00d0b3",
   "metadata": {},
   "outputs": [],
   "source": [
    "#Checking accuracy for AdaBoostClassifier\n",
    "ABC=AdaBoostClassifier()\n",
    "ABC.fit(x_train,y_train)\n",
    "predABC= ABC.predict(x_test)\n",
    "trainABC=ABC.predict(x_train)\n",
    "print(accuracy_score(y_test,predABC))\n",
    "print(accuracy_score(y_train,trainABC))\n",
    "print(confusion_matrix(y_test,predABC))\n",
    "print(classification_report(y_test,predABC))"
   ]
  },
  {
   "cell_type": "markdown",
   "id": "fcafb9b4",
   "metadata": {},
   "source": [
    "# BaggingClassifier"
   ]
  },
  {
   "cell_type": "code",
   "execution_count": null,
   "id": "d57a5cd3",
   "metadata": {},
   "outputs": [],
   "source": [
    "#Checking accuracy for BaggingClassifier\n",
    "BC=BaggingClassifier()\n",
    "BC.fit(x_train,y_train)\n",
    "predBC= BC.predict(x_test)\n",
    "trainBC=BC.predict(x_train)\n",
    "print(accuracy_score(y_test,predBC))\n",
    "print(accuracy_score(y_train,trainBC))\n",
    "print(confusion_matrix(y_test,predBC))\n",
    "print(classification_report(y_test,predBC))"
   ]
  },
  {
   "cell_type": "markdown",
   "id": "26dbebbf",
   "metadata": {},
   "source": [
    "# ExtraTreesClassifier"
   ]
  },
  {
   "cell_type": "code",
   "execution_count": null,
   "id": "3d1d81d9",
   "metadata": {},
   "outputs": [],
   "source": [
    "#Checking accuracy for ExtraTreesClassifier\n",
    "\n",
    "ET=ExtraTreesClassifier()\n",
    "ET.fit(x_train,y_train)\n",
    "predET= ET.predict(x_test)\n",
    "trainET=ET.predict(x_train)\n",
    "print(accuracy_score(y_test,predET))\n",
    "print(accuracy_score(y_train,trainET))\n",
    "print(confusion_matrix(y_test,predET))\n",
    "print(classification_report(y_test,predET))"
   ]
  },
  {
   "cell_type": "markdown",
   "id": "3276ed12",
   "metadata": {},
   "source": [
    "ExtraTree Model and Bagging shows best peformance on the bank dataset"
   ]
  },
  {
   "cell_type": "markdown",
   "id": "a42d92d2",
   "metadata": {},
   "source": [
    "# Cross validation Score"
   ]
  },
  {
   "cell_type": "code",
   "execution_count": null,
   "id": "c07cb676",
   "metadata": {},
   "outputs": [],
   "source": [
    "from sklearn.model_selection import cross_val_score "
   ]
  },
  {
   "cell_type": "code",
   "execution_count": null,
   "id": "33d996e3",
   "metadata": {},
   "outputs": [],
   "source": [
    "#checking cv score for random forest\n",
    "\n",
    "score=cross_val_score(RFC,x1,y1)\n",
    "print(score)\n",
    "print(score.mean())\n",
    "print(\"Difference between Accuracy score and cross validation score is\", accuracy_score(y_test,predRFC)-score.mean())"
   ]
  },
  {
   "cell_type": "code",
   "execution_count": null,
   "id": "dde52946",
   "metadata": {},
   "outputs": [],
   "source": [
    "#Checking cv score for Logistic classifier\n",
    "score1=cross_val_score(LR,x1,y1)\n",
    "print(score1)\n",
    "print(score1.mean())\n",
    "print(\"Difference between Accuracy score and Cross validation score is :\",accuracy_score(y_test,predLR)-score1.mean())"
   ]
  },
  {
   "cell_type": "code",
   "execution_count": null,
   "id": "bd8c49a5",
   "metadata": {},
   "outputs": [],
   "source": [
    "#Checking cv score for Bagging Classifier\n",
    "score2=cross_val_score(BC,x1,y1)\n",
    "print(score2)\n",
    "print(score2.mean())\n",
    "print(\"Difference between Accuracy score and Cross validation score is :\", accuracy_score(y_test, predBC)-score2.mean())"
   ]
  },
  {
   "cell_type": "code",
   "execution_count": null,
   "id": "7738fddf",
   "metadata": {},
   "outputs": [],
   "source": [
    "#Checking cv score for ExtraTrees classifier\n",
    "score3=cross_val_score(ET,x1,y1)\n",
    "print(score3)\n",
    "print(score3.mean())\n",
    "print(\"Difference between Accuracy score and Cross validation score is :\",accuracy_score(y_test,predET)-score3.mean())"
   ]
  },
  {
   "cell_type": "code",
   "execution_count": null,
   "id": "d02172dc",
   "metadata": {},
   "outputs": [],
   "source": [
    "# Checking cv score for GB classifier\n",
    "score4=cross_val_score(GB,x1,y1)\n",
    "print(score4)\n",
    "print(score4.mean())\n",
    "print(\"Difference between Accuracy score and Cross validation score is :\",accuracy_score(y_test,predGB)-score4.mean())"
   ]
  },
  {
   "cell_type": "code",
   "execution_count": null,
   "id": "a72cabc3",
   "metadata": {},
   "outputs": [],
   "source": [
    "#Checking cv score for support vector classifier\n",
    "score5=cross_val_score(svc,x1,y1)\n",
    "print(score5)\n",
    "print(score5.mean())\n",
    "print(\"Difference between Accuracy score and Cross validation score is :\",accuracy_score(y_test,predsvc)-score5.mean())"
   ]
  },
  {
   "cell_type": "markdown",
   "id": "96886c44",
   "metadata": {},
   "source": [
    "# Hyper Parameter Tuning"
   ]
  },
  {
   "cell_type": "code",
   "execution_count": null,
   "id": "2252ca24",
   "metadata": {},
   "outputs": [],
   "source": [
    "# ExtraTreesClassifier\n",
    "from sklearn.model_selection import GridSearchCV"
   ]
  },
  {
   "cell_type": "code",
   "execution_count": null,
   "id": "512da384",
   "metadata": {},
   "outputs": [],
   "source": [
    "parameters = {\"criterion\" : [\"gini\",\"entropy\"],\n",
    "             \"random_state\" : [10,50,1000],\n",
    "             \"max_depth\" : [None,10,20],\n",
    "             \"n_jobs\" : [-2,-1,1],\n",
    "             \"n_estimators\" : [50,100,200,300]}"
   ]
  },
  {
   "cell_type": "code",
   "execution_count": null,
   "id": "3dfc9b74",
   "metadata": {},
   "outputs": [],
   "source": [
    "GCV= GridSearchCV(ExtraTreesClassifier(),parameters, cv = 5)"
   ]
  },
  {
   "cell_type": "code",
   "execution_count": null,
   "id": "ec24ad4d",
   "metadata": {},
   "outputs": [],
   "source": [
    "GCV.fit(x_train,y_train)"
   ]
  },
  {
   "cell_type": "code",
   "execution_count": null,
   "id": "dbb2d29a",
   "metadata": {},
   "outputs": [],
   "source": [
    "GCV.best_params_"
   ]
  },
  {
   "cell_type": "code",
   "execution_count": null,
   "id": "219447be",
   "metadata": {},
   "outputs": [],
   "source": [
    "#checking the parameter tunning  random  not given by gridsearchCV\n",
    "ET_model=ExtraTreesClassifier(criterion = \"entropy\",max_depth = 20, n_jobs =-2, n_estimators= 200, random_state= 100)\n",
    "ET_model.fit(x_train,y_train)\n",
    "pred=ET_model.predict(x_test)\n",
    "acc=accuracy_score(y_test,pred)\n",
    "print(acc*100)\n",
    "print(confusion_matrix(y_test,pred))\n",
    "print(classification_report(y_test,pred))"
   ]
  },
  {
   "cell_type": "code",
   "execution_count": null,
   "id": "1774ec6f",
   "metadata": {},
   "outputs": [],
   "source": [
    "#checking the parameter tunning given by gridsearchCV\n",
    "ET_model=ExtraTreesClassifier(criterion = \"gini\",max_depth = None, n_jobs =-2, n_estimators= 200, random_state= 1000)\n",
    "ET_model.fit(x_train,y_train)\n",
    "pred=ET_model.predict(x_test)\n",
    "acc=accuracy_score(y_test,pred)\n",
    "print(acc*100)\n",
    "print(confusion_matrix(y_test,pred))\n",
    "print(classification_report(y_test,pred))"
   ]
  },
  {
   "cell_type": "markdown",
   "id": "f1086dd1",
   "metadata": {},
   "source": [
    "# AUC ROC CURVE"
   ]
  },
  {
   "cell_type": "code",
   "execution_count": null,
   "id": "6b0370bd",
   "metadata": {},
   "outputs": [],
   "source": [
    "#Checking AUC ROC for ET model\n",
    "\n",
    "from sklearn.metrics import roc_curve\n",
    "\n",
    "import matplotlib.pyplot as plt\n",
    "\n",
    "from sklearn.metrics import roc_auc_score"
   ]
  },
  {
   "cell_type": "code",
   "execution_count": null,
   "id": "9ea8673c",
   "metadata": {},
   "outputs": [],
   "source": [
    "y_pred_prob = ET_model.predict_proba(x_test)[:, 1]"
   ]
  },
  {
   "cell_type": "code",
   "execution_count": null,
   "id": "aacb470b",
   "metadata": {},
   "outputs": [],
   "source": [
    "y_pred_prob"
   ]
  },
  {
   "cell_type": "code",
   "execution_count": null,
   "id": "d80ffca1",
   "metadata": {},
   "outputs": [],
   "source": [
    "fpr,tpr,thresholds=roc_curve(y_test,y_pred_prob)"
   ]
  },
  {
   "cell_type": "code",
   "execution_count": null,
   "id": "78e29c14",
   "metadata": {},
   "outputs": [],
   "source": [
    "plt.plot([0,1],[0,1],\"k--\")\n",
    "plt.plot(fpr,tpr,label=\"ExtraTreeClassifier\")\n",
    "plt.xlabel(\"False postive rate\")\n",
    "plt.ylabel(\"True positive rate\")\n",
    "plt.title(\"confusion matrix\")\n",
    "plt.show()"
   ]
  },
  {
   "cell_type": "code",
   "execution_count": null,
   "id": "60342b2e",
   "metadata": {},
   "outputs": [],
   "source": [
    "auc_score=roc_auc_score(y_test,ET_model.predict(x_test))"
   ]
  },
  {
   "cell_type": "code",
   "execution_count": null,
   "id": "80d84c50",
   "metadata": {},
   "outputs": [],
   "source": [
    "print(auc_score)"
   ]
  },
  {
   "cell_type": "markdown",
   "id": "bc89b023",
   "metadata": {},
   "source": [
    "# Saving the model"
   ]
  },
  {
   "cell_type": "code",
   "execution_count": null,
   "id": "a656ba0c",
   "metadata": {},
   "outputs": [],
   "source": [
    "#Saving ET model using pickle\n",
    "import pickle\n",
    "filename=\"Bank_loan_identification.pkl\"\n",
    "pickle.dump(ET_model,open(filename,\"wb\")) "
   ]
  },
  {
   "cell_type": "code",
   "execution_count": null,
   "id": "8c22bddf",
   "metadata": {},
   "outputs": [],
   "source": [
    "load_model=pickle.load(open(\"Bank_loan_identification.pkl\",\"rb\"))\n",
    "result=load_model.score(x_test,y_test)\n",
    "print(result*100)"
   ]
  },
  {
   "cell_type": "code",
   "execution_count": null,
   "id": "5a88cbf6",
   "metadata": {},
   "outputs": [],
   "source": [
    "import pickle"
   ]
  },
  {
   "cell_type": "markdown",
   "id": "db179937",
   "metadata": {},
   "source": [
    "# BaggingClassifier"
   ]
  },
  {
   "cell_type": "code",
   "execution_count": null,
   "id": "7b2fe7e3",
   "metadata": {},
   "outputs": [],
   "source": [
    "parameters1 = {\"n_estimators\" : [10,20,30],\n",
    "             \"max_samples\" : [1.0,2.0,3.0],\n",
    "             \"max_features\" : [1.0,2.0,3.0],\n",
    "             \"bootstrap\" : [True,False],\n",
    "              \"n_jobs\": [1,-1,-2],\n",
    "              \"random_state\":[100,200,500,1000],\n",
    "              \"verbose\":[0,1,2]}"
   ]
  },
  {
   "cell_type": "code",
   "execution_count": null,
   "id": "d1b31b8b",
   "metadata": {},
   "outputs": [],
   "source": [
    "GCV1= GridSearchCV(BaggingClassifier(),parameters1, cv = 5)"
   ]
  },
  {
   "cell_type": "code",
   "execution_count": null,
   "id": "2e44c402",
   "metadata": {},
   "outputs": [],
   "source": [
    "GCV1.fit(x_train,y_train)"
   ]
  },
  {
   "cell_type": "code",
   "execution_count": null,
   "id": "6e0635fd",
   "metadata": {},
   "outputs": [],
   "source": [
    "GCV1.best_params_"
   ]
  },
  {
   "cell_type": "code",
   "execution_count": null,
   "id": "a7c03dc1",
   "metadata": {},
   "outputs": [],
   "source": [
    "BC_model=BaggingClassifier(n_estimators =10 , max_samples =1.0, max_features =1.0 ,bootstrap = True ,n_jobs=1 ,random_state=100 ,verbose=0)\n",
    "BC_model.fit(x_train,y_train)\n",
    "pred1=BC_model.predict(x_test)\n",
    "acc=accuracy_score(y_test,pred1)\n",
    "print(acc*100)\n",
    "print(confusion_matrix(y_test,pred1))\n",
    "print(classification_report(y_test,pred1))"
   ]
  },
  {
   "cell_type": "code",
   "execution_count": null,
   "id": "9b6df666",
   "metadata": {},
   "outputs": [],
   "source": [
    "# Importing raw dataset for saved  model performance for bank loan identification testing"
   ]
  },
  {
   "cell_type": "code",
   "execution_count": null,
   "id": "15661763",
   "metadata": {},
   "outputs": [],
   "source": [
    "url1=\"https://raw.githubusercontent.com/FlipRoboTechnologies/ML-Datasets/main/Bank%20Marketing/termdeposit_test.csv\"\n",
    "\n",
    "df_test=pd.read_csv(url1)"
   ]
  },
  {
   "cell_type": "code",
   "execution_count": null,
   "id": "e894da63",
   "metadata": {},
   "outputs": [],
   "source": [
    "# performing EDA and encoding with standardizing feature column before testing model performance\n",
    "\n"
   ]
  },
  {
   "cell_type": "code",
   "execution_count": null,
   "id": "80ea53c2",
   "metadata": {},
   "outputs": [],
   "source": [
    "df_test.shape"
   ]
  },
  {
   "cell_type": "code",
   "execution_count": null,
   "id": "4dc9a5f7",
   "metadata": {},
   "outputs": [],
   "source": [
    "df_test.columns.tolist()"
   ]
  },
  {
   "cell_type": "code",
   "execution_count": null,
   "id": "5f4f22c7",
   "metadata": {},
   "outputs": [],
   "source": [
    "#checking the datatypes of columns\n",
    "df_test.dtypes"
   ]
  },
  {
   "cell_type": "code",
   "execution_count": null,
   "id": "88097780",
   "metadata": {},
   "outputs": [],
   "source": [
    "#checking null values\n",
    "df_test.isnull().sum()"
   ]
  },
  {
   "cell_type": "code",
   "execution_count": null,
   "id": "d6c71281",
   "metadata": {},
   "outputs": [],
   "source": [
    "#checking number of unique values in bank dataset\n",
    "df_test.nunique().to_frame(\"No. of unique value\")"
   ]
  },
  {
   "cell_type": "code",
   "execution_count": null,
   "id": "256f6e0f",
   "metadata": {},
   "outputs": [],
   "source": [
    "df_test.drop(\"ID\",axis=1,inplace=True)"
   ]
  },
  {
   "cell_type": "markdown",
   "id": "f5b1b5f4",
   "metadata": {},
   "source": [
    "# Feature engineering"
   ]
  },
  {
   "cell_type": "code",
   "execution_count": null,
   "id": "e011c7b5",
   "metadata": {},
   "outputs": [],
   "source": [
    "from sklearn.preprocessing import LabelEncoder\n",
    "LE1=LabelEncoder()\n",
    "\n",
    "for i in df_test:\n",
    "    if df_test[i].dtypes==\"object\":\n",
    "        df_test[i]=LE1.fit_transform(df_test[i].values.reshape(-1,1))\n",
    "        \n",
    "        \n",
    "df_test"
   ]
  },
  {
   "cell_type": "code",
   "execution_count": null,
   "id": "19132176",
   "metadata": {},
   "outputs": [],
   "source": [
    "#lets check the outliers by plotting boxplot.\n",
    "\n",
    "\n",
    "plotnumber=1\n",
    "for var in df_test.columns:\n",
    "    if plotnumber<=17:\n",
    "        plt.subplot(3,6,plotnumber)\n",
    "        sns.boxplot(y=df_test[var], palette = \"Set2_r\")\n",
    "        plt.xlabel(var, fontsize = 5)\n",
    "        plt.yticks(rotation=2, fontsize =2)\n",
    "    plotnumber+=1\n",
    "    \n",
    "plt.tight_layout()\n",
    "plt.show()"
   ]
  },
  {
   "cell_type": "code",
   "execution_count": null,
   "id": "6b2dae85",
   "metadata": {},
   "outputs": [],
   "source": [
    "from scipy.stats import zscore\n",
    "out_features1=df_test.iloc[:,:]\n",
    "z1=np.abs(zscore(out_features1))\n",
    "z1"
   ]
  },
  {
   "cell_type": "code",
   "execution_count": null,
   "id": "85f216e1",
   "metadata": {},
   "outputs": [],
   "source": [
    "#threshold z>3\n",
    "np.where(z1>3)"
   ]
  },
  {
   "cell_type": "code",
   "execution_count": null,
   "id": "0ca7b1cf",
   "metadata": {},
   "outputs": [],
   "source": [
    "z1.iloc[1,0]"
   ]
  },
  {
   "cell_type": "code",
   "execution_count": null,
   "id": "b2dfd7b0",
   "metadata": {},
   "outputs": [],
   "source": [
    "z1.iloc[14,5]"
   ]
  },
  {
   "cell_type": "code",
   "execution_count": null,
   "id": "4e64f52a",
   "metadata": {},
   "outputs": [],
   "source": [
    "df_test1=df_test[(z1<3).all(axis=1)]"
   ]
  },
  {
   "cell_type": "code",
   "execution_count": null,
   "id": "fa3d27df",
   "metadata": {},
   "outputs": [],
   "source": [
    "df_test1.drop(\"default\",inplace=True,axis=1)"
   ]
  },
  {
   "cell_type": "code",
   "execution_count": null,
   "id": "ee9fdb0d",
   "metadata": {},
   "outputs": [],
   "source": [
    "t= df_test1.iloc[:,:]\n",
    "\n",
    "t"
   ]
  },
  {
   "cell_type": "code",
   "execution_count": null,
   "id": "802d8bd0",
   "metadata": {},
   "outputs": [],
   "source": [
    "from sklearn.preprocessing import StandardScaler\n",
    "scaler1=StandardScaler()\n",
    "t=pd.DataFrame(scaler1.fit_transform(t),columns=t.columns)\n",
    "t"
   ]
  },
  {
   "cell_type": "code",
   "execution_count": null,
   "id": "4cf72337",
   "metadata": {},
   "outputs": [],
   "source": [
    "t.skew()"
   ]
  },
  {
   "cell_type": "code",
   "execution_count": null,
   "id": "2464300c",
   "metadata": {},
   "outputs": [],
   "source": [
    "t.info()"
   ]
  },
  {
   "cell_type": "code",
   "execution_count": null,
   "id": "d83b0275",
   "metadata": {},
   "outputs": [],
   "source": [
    "conclusion =pd.DataFrame(load_model.predict(t))\n",
    "conclusion"
   ]
  },
  {
   "cell_type": "code",
   "execution_count": null,
   "id": "331afc89",
   "metadata": {},
   "outputs": [],
   "source": []
  },
  {
   "cell_type": "code",
   "execution_count": null,
   "id": "9b9e89ba",
   "metadata": {},
   "outputs": [],
   "source": []
  }
 ],
 "metadata": {
  "kernelspec": {
   "display_name": "Python 3 (ipykernel)",
   "language": "python",
   "name": "python3"
  },
  "language_info": {
   "codemirror_mode": {
    "name": "ipython",
    "version": 3
   },
   "file_extension": ".py",
   "mimetype": "text/x-python",
   "name": "python",
   "nbconvert_exporter": "python",
   "pygments_lexer": "ipython3",
   "version": "3.11.3"
  }
 },
 "nbformat": 4,
 "nbformat_minor": 5
}
