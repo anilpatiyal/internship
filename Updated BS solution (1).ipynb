{
 "cells": [
  {
   "cell_type": "code",
   "execution_count": null,
   "id": "c1cbb0e1",
   "metadata": {},
   "outputs": [],
   "source": [
    "from bs4 import BeautifulSoup\n",
    "import requests"
   ]
  },
  {
   "cell_type": "code",
   "execution_count": null,
   "id": "76f78b73",
   "metadata": {},
   "outputs": [],
   "source": [
    "page=requests.get(\"https://en.wikipedia.org/wiki/Main_Page\")"
   ]
  },
  {
   "cell_type": "code",
   "execution_count": null,
   "id": "a58bf007",
   "metadata": {},
   "outputs": [],
   "source": [
    "page"
   ]
  },
  {
   "cell_type": "code",
   "execution_count": null,
   "id": "0928ecdb",
   "metadata": {},
   "outputs": [],
   "source": [
    "soup=BeautifulSoup(page.content)"
   ]
  },
  {
   "cell_type": "code",
   "execution_count": null,
   "id": "1c87d695",
   "metadata": {},
   "outputs": [],
   "source": [
    "#Scrapping header"
   ]
  },
  {
   "cell_type": "code",
   "execution_count": null,
   "id": "3d4a931c",
   "metadata": {},
   "outputs": [],
   "source": [
    "#Write a python program to display all the header tags from wikipedia.org.\n",
    "\n",
    "from bs4 import BeautifulSoup\n",
    "import requests\n",
    "\n",
    "page=requests.get(\"https://en.wikipedia.org/wiki/Main_Page\")\n",
    "page\n",
    "\n",
    "soup=BeautifulSoup(page.content)\n",
    "\n",
    "header=[]\n",
    "\n",
    "for i in soup.find_all(['h1','h2','h3','h4','h5','h6'],class_=[\"firstHeading\",\"mp-h2\"]):\n",
    "    header.append(i.text)\n",
    "    \n",
    "header"
   ]
  },
  {
   "cell_type": "markdown",
   "id": "1c58000a",
   "metadata": {},
   "source": [
    "#Write a python program to display IMDB’s Top rated 100 movies’ data (i.e. name, rating, year of release) and make data frame."
   ]
  },
  {
   "cell_type": "code",
   "execution_count": null,
   "id": "565f619c",
   "metadata": {},
   "outputs": [],
   "source": [
    "file=requests.get(\"https://www.imdb.com/chart/top/\")\n",
    "file"
   ]
  },
  {
   "cell_type": "markdown",
   "id": "973d67b5",
   "metadata": {},
   "source": [
    "#Write a python program to scrape mentioned details from dineout.co.in : i) Restaurant name \n",
    "#ii) Cuisine iii) Location iv) Ratings v) Image URL."
   ]
  },
  {
   "cell_type": "code",
   "execution_count": null,
   "id": "66368cae",
   "metadata": {},
   "outputs": [],
   "source": [
    "page=requests.get(\"https://www.dineout.co.in/\")\n",
    "page"
   ]
  },
  {
   "cell_type": "code",
   "execution_count": null,
   "id": "ff2449f3",
   "metadata": {},
   "outputs": [],
   "source": [
    "soup=BeautifulSoup(page.content)\n",
    "soup"
   ]
  },
  {
   "cell_type": "code",
   "execution_count": null,
   "id": "cc1c207a",
   "metadata": {},
   "outputs": [],
   "source": [
    "from bs4 import BeautifulSoup\n",
    "import requests\n",
    "\n",
    "page=requests.get(\"https://www.dineout.co.in/delhi-restaurants/pedigree-sponsored\")\n",
    "soup=BeautifulSoup(page.content)\n",
    "\n",
    "name=[]\n",
    "\n",
    "for i in soup.find_all('div',class_=\"restnt-info cursor\"):\n",
    "                       name.append(i.text)\n",
    "                       \n",
    "                       \n",
    "name"
   ]
  },
  {
   "cell_type": "code",
   "execution_count": null,
   "id": "9f79f48f",
   "metadata": {},
   "outputs": [],
   "source": [
    "import re\n",
    "cuisine1=[]\n",
    "\n",
    "for i in soup.find_all('span',class_=\"double-line-ellipsis\"):\n",
    "    \n",
    "    cuisine1.append(i.text)\n",
    "    \n",
    "    \n",
    "cuisine1"
   ]
  },
  {
   "cell_type": "code",
   "execution_count": null,
   "id": "1e361107",
   "metadata": {},
   "outputs": [],
   "source": [
    "def exact_output(khana):\n",
    "    output=[]\n",
    "    for i in khana:\n",
    "        pattern=re.compile(r'\\|(.+)$')\n",
    "        result=re.findall(pattern,i)\n",
    "        output.append(result)\n",
    "    return output\n",
    "\n",
    "bread=exact_output(cuisine1)"
   ]
  },
  {
   "cell_type": "code",
   "execution_count": null,
   "id": "81ea6366",
   "metadata": {},
   "outputs": [],
   "source": [
    "location=[]\n",
    "\n",
    "for i in soup.find_all('div',class_=\"restnt-loc ellipsis\"):\n",
    "    location.append(i.text)\n",
    "\n",
    "location"
   ]
  },
  {
   "cell_type": "code",
   "execution_count": null,
   "id": "380bec72",
   "metadata": {},
   "outputs": [],
   "source": [
    "ratings=[]\n",
    "\n",
    "for i in soup.find_all('div',class_=[\"restnt-rating rating-4\",\"restnt-rating rating-3\",\"restnt-rating rating-5\"]):\n",
    "    ratings.append(i.text)\n",
    "    \n",
    "#define default missing value\n",
    "default_rating=\"NA\"\n",
    "\n",
    "#creating rating length variable\n",
    "rating_length=len(ratings)\n",
    "\n",
    "difference=14-rating_length\n",
    "\n",
    "if difference>0:\n",
    "    ratings.extend([default_rating]*difference)\n",
    "    "
   ]
  },
  {
   "cell_type": "code",
   "execution_count": null,
   "id": "623aada6",
   "metadata": {},
   "outputs": [],
   "source": [
    "images=[]\n",
    "\n",
    "for i in soup.find_all('img',class_=\"no-img\"):\n",
    "    images.append(i['data-src'])\n",
    "    \n",
    "images"
   ]
  },
  {
   "cell_type": "code",
   "execution_count": null,
   "id": "537b2286",
   "metadata": {},
   "outputs": [],
   "source": [
    "print(len(name),len(cuisine),len(location),len(ratings),len(images))"
   ]
  },
  {
   "cell_type": "code",
   "execution_count": null,
   "id": "2f339780",
   "metadata": {},
   "outputs": [],
   "source": [
    "import pandas as pd\n",
    "df=pd.DataFrame({\"name\":name,\"cuisine\":bread,\"location\":location,\"ratings\":ratings,\"image_url\":images})\n",
    "df"
   ]
  },
  {
   "cell_type": "markdown",
   "id": "de6e4b62",
   "metadata": {},
   "source": [
    "#Write s python program to display list of respected former finance minister of India(i.e. \n",
    "Name , Term of office) from https://presidentofindia.nic.in/former-presidents.htm and make \n",
    "data frame."
   ]
  },
  {
   "cell_type": "code",
   "execution_count": null,
   "id": "9718c764",
   "metadata": {},
   "outputs": [],
   "source": [
    "page=requests.get(\"https://presidentofindia.nic.in/former-presidents\")\n",
    "\n",
    "soup=BeautifulSoup(page.content)\n",
    "\n",
    "president_name=[]\n",
    "office_term=[]\n",
    "\n",
    "for item in soup.find_all('div',class_=\"desc-sec\"):\n",
    "    name=item.find('h3').text\n",
    "    president_name.append(name)\n",
    "    term=item.find('h5').text\n",
    "    office_term.append(term)\n",
    "    \n",
    "    \n",
    "df=pd.DataFrame({\"Former_president_name\":president_name,\"Term_of_office\":office_term})\n",
    "df\n"
   ]
  },
  {
   "cell_type": "code",
   "execution_count": null,
   "id": "6945dfa4",
   "metadata": {},
   "outputs": [],
   "source": [
    "page=requests.get(\"https://www.skyscanner.co.in/transport/flights/del/sin/240513/?adultsv2=2&cabinclass=economy&childrenv2=&inboundaltsenabled=false&outboundaltsenabled=false&preferdirects=false&ref=home&rtn=0\")"
   ]
  },
  {
   "cell_type": "code",
   "execution_count": null,
   "id": "5796a267",
   "metadata": {},
   "outputs": [],
   "source": [
    "page\n",
    "soup=BeautifulSoup(page.content,\"html.parser\")\n",
    "\n",
    "soup.find_all('p')"
   ]
  },
  {
   "cell_type": "code",
   "execution_count": null,
   "id": "80e5250d",
   "metadata": {},
   "outputs": [],
   "source": [
    "\n",
    "from bs4 import BeautifulSoup\n",
    "import requests\n",
    "\n",
    "page=requests.get(\"https://en.wikipedia.org/wiki/Main_Page\")\n",
    "page\n",
    "\n",
    "soup=BeautifulSoup(page.content)\n",
    "\n",
    "header=[]\n",
    "\n",
    "for i in soup.find_all(['h1','h2','h3','h4','h5','h6'],class_=[\"firstHeading\",\"mp-h2\"]):\n",
    "    header.append(i.text)\n",
    "    \n",
    "header"
   ]
  },
  {
   "cell_type": "code",
   "execution_count": null,
   "id": "a0b4b4fe",
   "metadata": {},
   "outputs": [],
   "source": [
    "soup.find_all('p')"
   ]
  },
  {
   "cell_type": "code",
   "execution_count": null,
   "id": "9d3fb81c",
   "metadata": {},
   "outputs": [],
   "source": [
    "soup.find('h1')"
   ]
  },
  {
   "cell_type": "code",
   "execution_count": null,
   "id": "12b43c06",
   "metadata": {},
   "outputs": [],
   "source": [
    "file=requests.get(\"https://en.wikipedia.org/wiki/Main_Page\")\n",
    "file\n",
    "\n",
    "soup=BeautifulSoup(file.content)\n",
    "soup"
   ]
  },
  {
   "cell_type": "code",
   "execution_count": null,
   "id": "b5489ca4",
   "metadata": {},
   "outputs": [],
   "source": [
    "soup1=BeautifulSoup(file.text)\n",
    "soup1"
   ]
  },
  {
   "cell_type": "code",
   "execution_count": null,
   "id": "66e53210",
   "metadata": {},
   "outputs": [],
   "source": [
    "header=[]\n",
    "\n",
    "for title in soup.find_all('span',class_=\"mw-headline\"):\n",
    "    header.append(title.text)\n",
    "    \n",
    "header"
   ]
  },
  {
   "cell_type": "code",
   "execution_count": null,
   "id": "8a5d990a",
   "metadata": {},
   "outputs": [],
   "source": [
    "page=requests.get(\"https://www.dineout.co.in/delhi-restaurants/happiest-hour\")\n",
    "page"
   ]
  },
  {
   "cell_type": "code",
   "execution_count": null,
   "id": "8b0dde15",
   "metadata": {},
   "outputs": [],
   "source": [
    "soup=BeautifulSoup(page.content)\n"
   ]
  },
  {
   "cell_type": "code",
   "execution_count": null,
   "id": "cbf36317",
   "metadata": {},
   "outputs": [],
   "source": [
    "name=[]\n",
    "\n",
    "for i in soup.find_all('div',class_=\"restnt-info cursor\"):\n",
    "                       name.append(i.text)\n",
    "                       \n",
    "name\n",
    "            "
   ]
  },
  {
   "cell_type": "code",
   "execution_count": null,
   "id": "1662fc85",
   "metadata": {},
   "outputs": [],
   "source": [
    "soup.find('h1')"
   ]
  },
  {
   "cell_type": "code",
   "execution_count": null,
   "id": "0ef0f3f1",
   "metadata": {},
   "outputs": [],
   "source": [
    "cuisine=[]\n",
    "for item in soup.find_all('span',class_=\"double-line-ellipsis\"):\n",
    "    cuisine.append(item.text)\n",
    "    \n",
    "cuisine"
   ]
  },
  {
   "cell_type": "code",
   "execution_count": null,
   "id": "5326c868",
   "metadata": {},
   "outputs": [],
   "source": [
    "\n",
    "\n",
    "\n",
    "def item_list(dish):\n",
    "    result_text=[]\n",
    "    for i in dish:\n",
    "        pattern=re.compile(r'\\|(.+)$')\n",
    "        find=re.findall(pattern,i)\n",
    "        result_text.append(find)\n",
    "    return result_text\n",
    "\n",
    "\n",
    "menu=item_list(cuisine)\n",
    "\n",
    "menu\n"
   ]
  },
  {
   "cell_type": "code",
   "execution_count": null,
   "id": "d1917129",
   "metadata": {},
   "outputs": [],
   "source": [
    "location=[]\n",
    "\n",
    "for i in soup.find_all('div',class_=\"restnt-loc ellipsis\"):\n",
    "                       location.append(i.text)\n",
    "\n",
    "location"
   ]
  },
  {
   "cell_type": "code",
   "execution_count": null,
   "id": "da2abd43",
   "metadata": {},
   "outputs": [],
   "source": [
    "print(len(name),len(menu),len(ratings),len(images),len(location))"
   ]
  },
  {
   "cell_type": "code",
   "execution_count": null,
   "id": "30b488fb",
   "metadata": {},
   "outputs": [],
   "source": [
    "ratings=[]\n",
    "\n",
    "for i in soup.find_all('div',class_=[\"restnt-rating rating-4\",\"restnt-rating rating-3\",\"restnt-rating rating-5\"]):\n",
    "                       ratings.append(i.text)\n",
    "\n",
    "ratings"
   ]
  },
  {
   "cell_type": "code",
   "execution_count": null,
   "id": "88d2e613",
   "metadata": {},
   "outputs": [],
   "source": [
    "images=[]\n",
    "\n",
    "for i in soup.find_all('img',class_=\"no-img\"):\n",
    "    images.append(i['data-src'])\n",
    "    \n",
    "images"
   ]
  },
  {
   "cell_type": "code",
   "execution_count": null,
   "id": "4da06bfb",
   "metadata": {},
   "outputs": [],
   "source": [
    "import pandas as pd \n",
    "\n",
    "df=pd.DataFrame({'Resto_name':name,'Location':location,'Cuisine':menu,\"Ratings\":ratings,\"Images_url\":images})\n",
    "\n",
    "df"
   ]
  },
  {
   "cell_type": "code",
   "execution_count": null,
   "id": "036abe55",
   "metadata": {},
   "outputs": [],
   "source": [
    "page=requests.get(\"https://presidentofindia.nic.in/former-presidents\")\n",
    "page"
   ]
  },
  {
   "cell_type": "code",
   "execution_count": null,
   "id": "a49e740f",
   "metadata": {},
   "outputs": [],
   "source": [
    "soup=BeautifulSoup(page.content)"
   ]
  },
  {
   "cell_type": "code",
   "execution_count": null,
   "id": "55bf89ed",
   "metadata": {},
   "outputs": [],
   "source": [
    "president_name=[]\n",
    "term_period=[]\n",
    "\n",
    "for item in soup.find_all('div',class_=\"desc-sec\"):\n",
    "    name=item.find('h3').text\n",
    "    president_name.append(name)\n",
    "    period=item.find('h5').text\n",
    "    term_period.append(period)\n",
    "\n",
    "df=pd.DataFrame({'Former_president_name':president_name,'Term_of_office':term_period})\n",
    "df"
   ]
  }
 ],
 "metadata": {
  "kernelspec": {
   "display_name": "Python 3 (ipykernel)",
   "language": "python",
   "name": "python3"
  },
  "language_info": {
   "codemirror_mode": {
    "name": "ipython",
    "version": 3
   },
   "file_extension": ".py",
   "mimetype": "text/x-python",
   "name": "python",
   "nbconvert_exporter": "python",
   "pygments_lexer": "ipython3",
   "version": "3.11.3"
  }
 },
 "nbformat": 4,
 "nbformat_minor": 5
}
