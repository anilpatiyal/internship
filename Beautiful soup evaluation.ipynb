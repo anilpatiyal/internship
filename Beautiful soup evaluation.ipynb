{
 "cells": [
  {
   "cell_type": "markdown",
   "id": "6efa3644",
   "metadata": {},
   "source": [
    "#1) Write a python program to display IMDB’s Top rated 100 Indian movies’ data \n",
    "https://www.imdb.com/list/ls056092300/ (i.e. name, rating, year ofrelease) and make data frame. \n"
   ]
  },
  {
   "cell_type": "code",
   "execution_count": null,
   "id": "0a724eea",
   "metadata": {},
   "outputs": [],
   "source": [
    "!pip install bs4\n",
    "!pip install requests"
   ]
  },
  {
   "cell_type": "code",
   "execution_count": 10,
   "id": "3c795416",
   "metadata": {},
   "outputs": [],
   "source": [
    "from bs4 import BeautifulSoup\n",
    "import requests\n",
    "\n",
    "page=requests.get(\"https://www.imdb.com/list/ls056092300/\")\n"
   ]
  },
  {
   "cell_type": "code",
   "execution_count": 11,
   "id": "5867ec81",
   "metadata": {},
   "outputs": [
    {
     "data": {
      "text/plain": [
       "<Response [200]>"
      ]
     },
     "execution_count": 11,
     "metadata": {},
     "output_type": "execute_result"
    }
   ],
   "source": [
    "page"
   ]
  },
  {
   "cell_type": "code",
   "execution_count": 12,
   "id": "f86192b8",
   "metadata": {},
   "outputs": [],
   "source": [
    "soup=BeautifulSoup(page.content)"
   ]
  },
  {
   "cell_type": "code",
   "execution_count": 13,
   "id": "73daa356",
   "metadata": {},
   "outputs": [
    {
     "data": {
      "text/plain": [
       "['1.Ship of Theseus(2012)',\n",
       " '2.Iruvar(1997)',\n",
       " '3.Kaagaz Ke Phool(1959)',\n",
       " '4.Lagaan: Once Upon a Time in India(2001)',\n",
       " '5.Pather Panchali(1955)',\n",
       " '6.Charulata(1964)',\n",
       " '7.Rang De Basanti(2006)',\n",
       " '8.Dev.D(2009)',\n",
       " '9.3 Idiots(2009)',\n",
       " '10.Awaara(1951)',\n",
       " '11.Nayakan(1987)',\n",
       " '12.Aparajito(1956)',\n",
       " '13.Pushpaka Vimana(1987)',\n",
       " '14.Pyaasa(1957)',\n",
       " '15.Ghatashraddha(1977)',\n",
       " '16.Sholay(1975)',\n",
       " '17.Aradhana(1969)',\n",
       " '18.Do Ankhen Barah Haath(1957)',\n",
       " '19.Bombay(1995)',\n",
       " '20.Neecha Nagar(1946)',\n",
       " '21.Do Bigha Zamin(1953)',\n",
       " '22.Garm Hava(1974)',\n",
       " '23.Piravi(1989)',\n",
       " '24.Mughal-E-Azam(1960)',\n",
       " '25.Amma Ariyan(1986)',\n",
       " '26.Madhumati(1958)',\n",
       " '27.Goopy Gyne Bagha Byne(1969)',\n",
       " '28.Gangs of Wasseypur(2012)',\n",
       " '29.Guide(1965)',\n",
       " '30.Satya(1998)',\n",
       " '31.Roja(1992)',\n",
       " '32.Mr. India(1987)',\n",
       " '33.The Cloud-Capped Star(1960)',\n",
       " '34.Harishchandrachi Factory(2009)',\n",
       " '35.Masoom(1983)',\n",
       " '36.Agneepath(1990)',\n",
       " '37.Tabarana Kathe(1986)',\n",
       " '38.Zakhm(1998)',\n",
       " '39.Dil Chahta Hai(2001)',\n",
       " '40.Bhaag Milkha Bhaag(2013)',\n",
       " '41.Chupke Chupke(1975)',\n",
       " '42.Dilwale Dulhania Le Jayenge(1995)',\n",
       " '43.Taare Zameen Par(2007)',\n",
       " '44.Ardh Satya(1983)',\n",
       " '45.Bhumika(1977)',\n",
       " '46.Enthiran(2010)',\n",
       " '47.Sadma(1983)',\n",
       " '48.Shwaas(2004)',\n",
       " '49.Lamhe(1991)',\n",
       " '50.Haqeeqat(1964)',\n",
       " '51.Shree 420(1955)',\n",
       " '52.Kannathil Muthamittal(2002)',\n",
       " '53.Hum Aapke Hain Koun..!(1994)',\n",
       " '54.Ustad Hotel(2012)',\n",
       " '55.Bandit Queen(1994)',\n",
       " '56.Lakshya(2004)',\n",
       " '57.Black Friday(2004)',\n",
       " '58.Manthan(1976)',\n",
       " '59.Apoorva Raagangal(1975)',\n",
       " '60.English Vinglish(2012)',\n",
       " '61.Jewel Thief(1967)',\n",
       " '62.Pakeezah(1972)',\n",
       " '63.Maqbool(2003)',\n",
       " '64.Jis Desh Men Ganga Behti Hai(1960)',\n",
       " '65.Sahib Bibi Aur Ghulam(1962)',\n",
       " '66.Shatranj Ke Khilari(1977)',\n",
       " '67.Narthanasala(1963)',\n",
       " '68.Chandni Bar(2001)',\n",
       " '69.Vaaranam Aayiram(2008)',\n",
       " '70.Mr. and Mrs. Iyer(2002)',\n",
       " '71.Chandni(1989)',\n",
       " '72.English, August(1994)',\n",
       " '73.Celluloid(2013)',\n",
       " '74.Sagara Sangamam(1983)',\n",
       " '75.Munna Bhai M.B.B.S.(2003)',\n",
       " '76.Saaransh(1984)',\n",
       " '77.Guddi(1971)',\n",
       " '78.Vanaja(2006)',\n",
       " '79.Vazhakku Enn 18/9(2012)',\n",
       " '80.Gangaajal(2003)',\n",
       " '81.Angoor(1982)',\n",
       " '82.Guru(2007)',\n",
       " '83.Andaz Apna Apna(1994)',\n",
       " '84.Sangam(I) (1964)',\n",
       " '85.Oka Oori Katha(1978)',\n",
       " '86.Bhuvan Shome(1969)',\n",
       " '87.Border(I) (1997)',\n",
       " '88.Parineeta(2005)',\n",
       " '89.Devdas(1955)',\n",
       " '90.Abohomaan(2009)',\n",
       " '91.Kuch Kuch Hota Hai(1998)',\n",
       " '92.Pithamagan(2003)',\n",
       " '93.Veyyil(2006)',\n",
       " '94.Chemmeen(1965)',\n",
       " '95.Jaane Bhi Do Yaaro(1983)',\n",
       " '96.Apur Sansar(1959)',\n",
       " '97.Kanchivaram(2008)',\n",
       " '98.Monsoon Wedding(2001)',\n",
       " '99.Black(2005)',\n",
       " '100.Deewaar(1975)']"
      ]
     },
     "execution_count": 13,
     "metadata": {},
     "output_type": "execute_result"
    }
   ],
   "source": [
    "movie_name=[]\n",
    "\n",
    "for i in soup.find_all('h3',class_=\"lister-item-header\"):\n",
    "      movie_name.append(i.text.replace(\"\\n\",''))\n",
    "    \n",
    "    \n",
    "    \n",
    "  \n",
    "    \n",
    "    \n",
    "    \n",
    "    \n",
    "movie_name"
   ]
  },
  {
   "cell_type": "code",
   "execution_count": 15,
   "id": "11534ff4",
   "metadata": {},
   "outputs": [
    {
     "data": {
      "text/plain": [
       "[['Ship', 'of', 'Theseus'],\n",
       " ['Iruvar'],\n",
       " ['Kaagaz', 'Ke', 'Phool'],\n",
       " ['Lagaan', 'Once', 'Upon', 'a', 'Time', 'in', 'India'],\n",
       " ['Pather', 'Panchali'],\n",
       " ['Charulata'],\n",
       " ['Rang', 'De', 'Basanti'],\n",
       " ['Dev', 'D'],\n",
       " ['Idiots'],\n",
       " ['Awaara'],\n",
       " ['Nayakan'],\n",
       " ['Aparajito'],\n",
       " ['Pushpaka', 'Vimana'],\n",
       " ['Pyaasa'],\n",
       " ['Ghatashraddha'],\n",
       " ['Sholay'],\n",
       " ['Aradhana'],\n",
       " ['Do', 'Ankhen', 'Barah', 'Haath'],\n",
       " ['Bombay'],\n",
       " ['Neecha', 'Nagar'],\n",
       " ['Do', 'Bigha', 'Zamin'],\n",
       " ['Garm', 'Hava'],\n",
       " ['Piravi'],\n",
       " ['Mughal', 'E', 'Azam'],\n",
       " ['Amma', 'Ariyan'],\n",
       " ['Madhumati'],\n",
       " ['Goopy', 'Gyne', 'Bagha', 'Byne'],\n",
       " ['Gangs', 'of', 'Wasseypur'],\n",
       " ['Guide'],\n",
       " ['Satya'],\n",
       " ['Roja'],\n",
       " ['Mr', 'India'],\n",
       " ['The', 'Cloud', 'Capped', 'Star'],\n",
       " ['Harishchandrachi', 'Factory'],\n",
       " ['Masoom'],\n",
       " ['Agneepath'],\n",
       " ['Tabarana', 'Kathe'],\n",
       " ['Zakhm'],\n",
       " ['Dil', 'Chahta', 'Hai'],\n",
       " ['Bhaag', 'Milkha', 'Bhaag'],\n",
       " ['Chupke', 'Chupke'],\n",
       " ['Dilwale', 'Dulhania', 'Le', 'Jayenge'],\n",
       " ['Taare', 'Zameen', 'Par'],\n",
       " ['Ardh', 'Satya'],\n",
       " ['Bhumika'],\n",
       " ['Enthiran'],\n",
       " ['Sadma'],\n",
       " ['Shwaas'],\n",
       " ['Lamhe'],\n",
       " ['Haqeeqat'],\n",
       " ['Shree'],\n",
       " ['Kannathil', 'Muthamittal'],\n",
       " ['Hum', 'Aapke', 'Hain', 'Koun'],\n",
       " ['Ustad', 'Hotel'],\n",
       " ['Bandit', 'Queen'],\n",
       " ['Lakshya'],\n",
       " ['Black', 'Friday'],\n",
       " ['Manthan'],\n",
       " ['Apoorva', 'Raagangal'],\n",
       " ['English', 'Vinglish'],\n",
       " ['Jewel', 'Thief'],\n",
       " ['Pakeezah'],\n",
       " ['Maqbool'],\n",
       " ['Jis', 'Desh', 'Men', 'Ganga', 'Behti', 'Hai'],\n",
       " ['Sahib', 'Bibi', 'Aur', 'Ghulam'],\n",
       " ['Shatranj', 'Ke', 'Khilari'],\n",
       " ['Narthanasala'],\n",
       " ['Chandni', 'Bar'],\n",
       " ['Vaaranam', 'Aayiram'],\n",
       " ['Mr', 'and', 'Mrs', 'Iyer'],\n",
       " ['Chandni'],\n",
       " ['English', 'August'],\n",
       " ['Celluloid'],\n",
       " ['Sagara', 'Sangamam'],\n",
       " ['Munna', 'Bhai', 'M', 'B', 'B', 'S'],\n",
       " ['Saaransh'],\n",
       " ['Guddi'],\n",
       " ['Vanaja'],\n",
       " ['Vazhakku', 'Enn'],\n",
       " ['Gangaajal'],\n",
       " ['Angoor'],\n",
       " ['Guru'],\n",
       " ['Andaz', 'Apna', 'Apna'],\n",
       " ['Sangam', 'I'],\n",
       " ['Oka', 'Oori', 'Katha'],\n",
       " ['Bhuvan', 'Shome'],\n",
       " ['Border', 'I'],\n",
       " ['Parineeta'],\n",
       " ['Devdas'],\n",
       " ['Abohomaan'],\n",
       " ['Kuch', 'Kuch', 'Hota', 'Hai'],\n",
       " ['Pithamagan'],\n",
       " ['Veyyil'],\n",
       " ['Chemmeen'],\n",
       " ['Jaane', 'Bhi', 'Do', 'Yaaro'],\n",
       " ['Apur', 'Sansar'],\n",
       " ['Kanchivaram'],\n",
       " ['Monsoon', 'Wedding'],\n",
       " ['Black'],\n",
       " ['Deewaar']]"
      ]
     },
     "execution_count": 15,
     "metadata": {},
     "output_type": "execute_result"
    }
   ],
   "source": [
    "import re\n",
    "\n",
    "def film_name(film):\n",
    "    picture=[]\n",
    "    for i in film:\n",
    "        pattern=re.compile(r\"\\b[A-Za-z]+\")\n",
    "        find=re.findall(pattern,i)\n",
    "        picture.append(find)\n",
    "    return picture\n",
    "    \n",
    "\n",
    "title=film_name(movie_name)\n",
    "title"
   ]
  },
  {
   "cell_type": "code",
   "execution_count": null,
   "id": "914eb0f3",
   "metadata": {},
   "outputs": [],
   "source": [
    "release_date=[]\n",
    "\n",
    "for i in soup.find_all('span',class_=\"lister-item-year text-muted unbold\"):\n",
    "    release_date.append(i.text)\n",
    "    \n",
    "release_date"
   ]
  },
  {
   "cell_type": "code",
   "execution_count": null,
   "id": "37dd1faa",
   "metadata": {},
   "outputs": [],
   "source": [
    "ratings=[]\n",
    "\n",
    "\n",
    "for i in soup.find_all('div',class_=\"ipl-rating-star small\"):\n",
    "    ratings.append(i.text.replace(\"\\n\",\"\"))\n",
    "    \n",
    "ratings"
   ]
  },
  {
   "cell_type": "code",
   "execution_count": null,
   "id": "e50b7d62",
   "metadata": {},
   "outputs": [],
   "source": [
    "print(len(movie_name),len(release_date),len(ratings))"
   ]
  },
  {
   "cell_type": "code",
   "execution_count": null,
   "id": "3a253c2d",
   "metadata": {},
   "outputs": [],
   "source": [
    "import pandas as pd\n",
    "\n",
    "df=pd.DataFrame({\"Name\":title,\"Ratings\":ratings,\"Year_of_release\":release_date})\n",
    "df"
   ]
  },
  {
   "cell_type": "markdown",
   "id": "61f72dce",
   "metadata": {},
   "source": [
    "#) Write a python program to scrape product name, price and discounts from \n",
    "https://www.meesho.com/bags-ladies/pl/3jo?page=1 \n"
   ]
  },
  {
   "cell_type": "code",
   "execution_count": 42,
   "id": "a3df6a0a",
   "metadata": {},
   "outputs": [
    {
     "data": {
      "text/plain": [
       "<Response [200]>"
      ]
     },
     "execution_count": 42,
     "metadata": {},
     "output_type": "execute_result"
    }
   ],
   "source": [
    "page1=requests.get(\"https://peachmode.com/search?q=bags\")\n",
    "page1"
   ]
  },
  {
   "cell_type": "code",
   "execution_count": 43,
   "id": "c6842c91",
   "metadata": {},
   "outputs": [],
   "source": [
    "soup1=BeautifulSoup(page1.content)\n"
   ]
  },
  {
   "cell_type": "code",
   "execution_count": 96,
   "id": "fc2efb3b",
   "metadata": {},
   "outputs": [
    {
     "data": {
      "text/plain": [
       "['\\n\\n\\n\\n\\n\\n\\nSold Out\\nSAVE ${item.discount}$%\\n\\n\\n\\n\\n\\n\\n\\n\\n\\n\\n\\n\\n\\n\\n${ item.title }$\\n\\n\\n\\n\\nFrom \\n${currency }$${ numberWithComa(item.activeDiscountedPrice) }$\\n${ currency }$${numberWithComa(item.activePrice) }$\\n\\n\\n\\n\\n${currency }$${ numberWithComa(item.activeDiscountedPrice) }$\\n\\n${getTotalQuantity(item.variants)}$ in Stock\\n\\n\\n\\n\\n\\n\\n\\n\\n']"
      ]
     },
     "execution_count": 96,
     "metadata": {},
     "output_type": "execute_result"
    }
   ],
   "source": [
    "page1=requests.get(\"https://peachmode.com/search?q=bags\")\n",
    "page1\n",
    "\n",
    "soup1=BeautifulSoup(page1.content)\n",
    "\n",
    "product_name = []\n",
    "\n",
    "for item in soup1.find_all('div', class_=\"st-product st-col-xs-6 st-col-sm-3 st-col-md-3\"):\n",
    "    product_name.append(item.text)\n",
    "\n",
    "product_name\n",
    " \n"
   ]
  },
  {
   "cell_type": "markdown",
   "id": "46b53b89",
   "metadata": {},
   "source": [
    "#) Write a python program to scrape cricket rankings from icc-cricket.com. You have to scrape: \n",
    "a) Top 10 ODI teams in men’s cricket along with the records for matches, points and rating. \n",
    "b) Top 10 ODI Batsmen along with the records of their team and rating. \n",
    "c) Top 10 ODI bowlers along with the records of their team and rating. \n"
   ]
  },
  {
   "cell_type": "code",
   "execution_count": 55,
   "id": "fddbe584",
   "metadata": {},
   "outputs": [
    {
     "data": {
      "text/plain": [
       "<Response [200]>"
      ]
     },
     "execution_count": 55,
     "metadata": {},
     "output_type": "execute_result"
    }
   ],
   "source": [
    "from bs4 import BeautifulSoup\n",
    "import requests\n",
    "pg=requests.get(\"https://www.icc-cricket.com/rankings/team-rankings/mens/odi\")\n",
    "pg\n",
    "\n"
   ]
  },
  {
   "cell_type": "code",
   "execution_count": 68,
   "id": "57594f46",
   "metadata": {},
   "outputs": [
    {
     "data": {
      "text/plain": [
       "[]"
      ]
     },
     "execution_count": 68,
     "metadata": {},
     "output_type": "execute_result"
    }
   ],
   "source": [
    "from bs4 import BeautifulSoup\n",
    "import requests\n",
    "pg=requests.get(\"https://www.icc-cricket.com/rankings/team-rankings/mens/odi\")\n",
    "pg\n",
    "\n",
    "soup1=BeautifulSoup(pg.content)\n",
    "\n",
    "\n",
    "team=[]\n",
    "\n",
    "\n",
    "for con in soup1.find_all(\"h3\",class_=\"si-team-name\"):\n",
    "    team.append(con.text)\n",
    "\n",
    "    \n",
    "team"
   ]
  },
  {
   "cell_type": "code",
   "execution_count": 61,
   "id": "4fb8a24f",
   "metadata": {},
   "outputs": [
    {
     "data": {
      "text/plain": [
       "[]"
      ]
     },
     "execution_count": 61,
     "metadata": {},
     "output_type": "execute_result"
    }
   ],
   "source": [
    "team=[]\n",
    "\n",
    "\n",
    "for i in soup.find_all('span',class_=\"u-hide-phablet\"):\n",
    "    \n",
    "    team.append(i.text)\n",
    "team"
   ]
  },
  {
   "cell_type": "code",
   "execution_count": null,
   "id": "34467eb9",
   "metadata": {},
   "outputs": [],
   "source": [
    "pg"
   ]
  },
  {
   "cell_type": "code",
   "execution_count": null,
   "id": "a156e066",
   "metadata": {},
   "outputs": [],
   "source": [
    "h=soup.find('h2')\n",
    "h"
   ]
  },
  {
   "cell_type": "code",
   "execution_count": null,
   "id": "f48e4750",
   "metadata": {},
   "outputs": [],
   "source": [
    "first_title=soup1.find(\"span\",class_=\"si-sname si-text\")"
   ]
  },
  {
   "cell_type": "markdown",
   "id": "37f3b0fe",
   "metadata": {},
   "source": [
    "#6) Write a python program to scrape first 10 product details which include product name , price , Image URL from \n",
    "https://www.bewakoof.com/bestseller?sort=popular .\n"
   ]
  },
  {
   "cell_type": "code",
   "execution_count": 97,
   "id": "358304dc",
   "metadata": {},
   "outputs": [
    {
     "data": {
      "text/plain": [
       "[\"Women's Blue Round in Bugs Graphic Printed Oversized Short Top\",\n",
       " \"Men's Black T-shirt\",\n",
       " \"Men's Jet Black Vest\",\n",
       " \"Men's Black Batman Outline Logo T-shirt\",\n",
       " \"Men's Blue Rider Vroom Panda Graphic Printed T-shirt\",\n",
       " \"Men's White T-shirt\",\n",
       " \"Women's Red Boyfriend T-shirt\",\n",
       " \"Women's Black Boyfriend T-shirt\",\n",
       " \"Women's Black Lost In The Mountains Boyfriend T-shirt\",\n",
       " \"Men's Black Batman Outline Logo (BML) Printed T-shirt\"]"
      ]
     },
     "execution_count": 97,
     "metadata": {},
     "output_type": "execute_result"
    }
   ],
   "source": [
    "from bs4 import BeautifulSoup\n",
    "import requests\n",
    "page=requests.get(\"https://www.bewakoof.com/bestseller?sort=popular\")\n",
    "\n",
    "soup=BeautifulSoup(page.content)\n",
    "\n",
    "item_name=[]\n",
    "\n",
    "for i in soup.find_all('h2',class_=\"clr-shade4 h3-p-name undefined false\"):\n",
    "    item_name.append(i.text)\n",
    "    \n",
    "item_name"
   ]
  },
  {
   "cell_type": "code",
   "execution_count": 98,
   "id": "072cdc29",
   "metadata": {},
   "outputs": [
    {
     "data": {
      "text/plain": [
       "['₹487',\n",
       " '₹499',\n",
       " '₹384',\n",
       " '₹399',\n",
       " '₹444',\n",
       " '₹449',\n",
       " '₹349',\n",
       " '₹399',\n",
       " '₹599',\n",
       " '₹499']"
      ]
     },
     "execution_count": 98,
     "metadata": {},
     "output_type": "execute_result"
    }
   ],
   "source": [
    "rate=[]\n",
    "\n",
    "for i in soup.find_all('div',class_=\"discountedPriceText clr-p-black false\"):\n",
    "    rate.append(i.text)\n",
    "    \n",
    "rate"
   ]
  },
  {
   "cell_type": "code",
   "execution_count": 99,
   "id": "ee11b853",
   "metadata": {},
   "outputs": [
    {
     "data": {
      "text/plain": [
       "['https://images.bewakoof.com/t640/women-s-blue-round-in-bugs-graphic-printed-oversized-short-top-589789-1707221362-1.jpg',\n",
       " 'https://images.bewakoof.com/t640/men-s-black-t-shirt-106-1701423878-1.jpg',\n",
       " 'https://images.bewakoof.com/t640/jet-black-vest-210687-1659522825-1.jpg',\n",
       " 'https://images.bewakoof.com/t640/men-s-black-batman-outline-logo-t-shirt-283889-1701423873-1.jpg',\n",
       " 'https://images.bewakoof.com/t640/men-s-blue-rider-vroom-panda-graphic-printed-t-shirt-387282-1705996206-1.jpg',\n",
       " 'https://images.bewakoof.com/t640/men-s-white-t-shirt-105-1702967985-1.jpg',\n",
       " 'https://images.bewakoof.com/t640/women-s-red-boyfriend-t-shirt-170465-1658918677-1.jpg',\n",
       " 'https://images.bewakoof.com/t640/women-s-black-boyfriend-t-shirt-103943-1655747735-1.jpg',\n",
       " 'https://images.bewakoof.com/t640/women-s-black-lost-in-the-mountains-boyfriend-t-shirt-272013-1661352831-1.jpg',\n",
       " 'https://images.bewakoof.com/t640/men-s-black-batman-outline-logo-bml-printed-t-shirt-283891-1708356281-1.jpg']"
      ]
     },
     "execution_count": 99,
     "metadata": {},
     "output_type": "execute_result"
    }
   ],
   "source": [
    "image_url=[]\n",
    "\n",
    "\n",
    "\n",
    "for i in soup.find_all('div',class_=\"productCardImg false\"):\n",
    "    src=i.find('img')['src']\n",
    "    image_url.append(src)\n",
    "    \n",
    "    \n",
    "image_url"
   ]
  },
  {
   "cell_type": "code",
   "execution_count": 101,
   "id": "15ddc871",
   "metadata": {},
   "outputs": [
    {
     "ename": "KeyError",
     "evalue": "'img-src'",
     "output_type": "error",
     "traceback": [
      "\u001b[1;31m---------------------------------------------------------------------------\u001b[0m",
      "\u001b[1;31mKeyError\u001b[0m                                  Traceback (most recent call last)",
      "Cell \u001b[1;32mIn[101], line 6\u001b[0m\n\u001b[0;32m      1\u001b[0m image_url\u001b[38;5;241m=\u001b[39m[]\n\u001b[0;32m      5\u001b[0m \u001b[38;5;28;01mfor\u001b[39;00m i \u001b[38;5;129;01min\u001b[39;00m soup\u001b[38;5;241m.\u001b[39mfind_all(\u001b[38;5;124m'\u001b[39m\u001b[38;5;124mdiv\u001b[39m\u001b[38;5;124m'\u001b[39m,class_\u001b[38;5;241m=\u001b[39m\u001b[38;5;124m\"\u001b[39m\u001b[38;5;124mproductCardImg false\u001b[39m\u001b[38;5;124m\"\u001b[39m):\n\u001b[1;32m----> 6\u001b[0m     image_url\u001b[38;5;241m.\u001b[39mappend(i[\u001b[38;5;124m'\u001b[39m\u001b[38;5;124mimg-src\u001b[39m\u001b[38;5;124m'\u001b[39m])\n\u001b[0;32m      9\u001b[0m image_url\n",
      "File \u001b[1;32m~\\anaconda3\\Lib\\site-packages\\bs4\\element.py:1573\u001b[0m, in \u001b[0;36mTag.__getitem__\u001b[1;34m(self, key)\u001b[0m\n\u001b[0;32m   1570\u001b[0m \u001b[38;5;28;01mdef\u001b[39;00m \u001b[38;5;21m__getitem__\u001b[39m(\u001b[38;5;28mself\u001b[39m, key):\n\u001b[0;32m   1571\u001b[0m \u001b[38;5;250m    \u001b[39m\u001b[38;5;124;03m\"\"\"tag[key] returns the value of the 'key' attribute for the Tag,\u001b[39;00m\n\u001b[0;32m   1572\u001b[0m \u001b[38;5;124;03m    and throws an exception if it's not there.\"\"\"\u001b[39;00m\n\u001b[1;32m-> 1573\u001b[0m     \u001b[38;5;28;01mreturn\u001b[39;00m \u001b[38;5;28mself\u001b[39m\u001b[38;5;241m.\u001b[39mattrs[key]\n",
      "\u001b[1;31mKeyError\u001b[0m: 'img-src'"
     ]
    }
   ],
   "source": [
    "image_url=[]\n",
    "\n",
    "\n",
    "\n",
    "for i in soup.find_all('div',class_=\"productCardImg false\"):\n",
    "    image_url.append(i['img-src'])\n",
    "    \n",
    "    \n",
    "image_url"
   ]
  },
  {
   "cell_type": "code",
   "execution_count": null,
   "id": "81c5c2c9",
   "metadata": {},
   "outputs": [],
   "source": [
    "print(len(item_name),len(rate),len(image_url))"
   ]
  },
  {
   "cell_type": "code",
   "execution_count": null,
   "id": "338109f8",
   "metadata": {},
   "outputs": [],
   "source": [
    "import pandas as pd\n",
    "\n",
    "df=pd.DataFrame({\"Product_name\":item_name,\"Price\":rate,\"Image_url\":image_url})\n",
    "df"
   ]
  },
  {
   "cell_type": "markdown",
   "id": "050d5da3",
   "metadata": {},
   "source": [
    "#5) Write a python program to scrape house details from mentioned URL. It should include house title, location, \n",
    "area, EMI and price from https://www.nobroker.in/ .Enter three localities which are Indira Nagar, Jayanagar, \n",
    "Rajaji Nagar. \n"
   ]
  },
  {
   "cell_type": "code",
   "execution_count": null,
   "id": "fdca90fa",
   "metadata": {},
   "outputs": [],
   "source": [
    "from bs4 import BeautifulSoup\n",
    "import requests\n",
    "\n",
    "page=requests.get(\"https://www.nobroker.in/property/sale/delhi/Indira%20Nagar,%20Adarsh%20Nagar?searchParam=W3sibGF0IjoyOC43MTczMDkxLCJsb24iOjc3LjE3MTM0MzEsInBsYWNlSWQiOiJDaElKa2ROcHNvd0JEVGtSRTQ0ZVNPbjlMY00iLCJwbGFjZU5hbWUiOiJJbmRpcmEgTmFnYXIsIEFkYXJzaCBOYWdhciJ9XQ==&radius=2.0&city=delhi&locality=Indira%20Nagar,%20Adarsh%20Nagar\")"
   ]
  },
  {
   "cell_type": "code",
   "execution_count": null,
   "id": "15cca371",
   "metadata": {},
   "outputs": [],
   "source": [
    "page"
   ]
  },
  {
   "cell_type": "code",
   "execution_count": null,
   "id": "a3dc409b",
   "metadata": {},
   "outputs": [],
   "source": [
    "soup=BeautifulSoup(page.content)\n"
   ]
  },
  {
   "cell_type": "code",
   "execution_count": null,
   "id": "6cd2cc6b",
   "metadata": {},
   "outputs": [],
   "source": [
    "title=[]\n",
    "\n",
    "for i in soup.find_all('h2',class_=\"heading-6 flex items-center font-semi-bold m-0\"):\n",
    "    title.append(i.text)\n",
    "    \n",
    "title"
   ]
  },
  {
   "cell_type": "code",
   "execution_count": null,
   "id": "808abc97",
   "metadata": {},
   "outputs": [],
   "source": [
    "location=[]\n",
    "\n",
    "for i in soup.find_all('div',class_=\"mt-0.5p overflow-hidden overflow-ellipsis whitespace-nowrap max-w-70 text-gray-light leading-4 po:mb-0.1p po:max-w-95\"):\n",
    "                       location.append(i.text)\n",
    "                       \n",
    "                       \n",
    "location"
   ]
  },
  {
   "cell_type": "code",
   "execution_count": null,
   "id": "eeaded64",
   "metadata": {},
   "outputs": [],
   "source": [
    "area=[]\n",
    "\n",
    "for i in soup.find_all('div',class_=\"flex flex-col w-33pe items-center tp:w-half po:w-full\"):\n",
    "    area.append(i.text.replace(\"sqftBuiltup\",\"sqft\"))\n",
    "   \n",
    "    \n",
    "    \n",
    "area\n"
   ]
  },
  {
   "cell_type": "code",
   "execution_count": null,
   "id": "fe9739bf",
   "metadata": {},
   "outputs": [],
   "source": [
    "price=[]\n",
    "\n",
    "for i in soup.find_all('div',class_=\"p-1.5p flex border-b border-b-solid border-cardbordercolor tp:py-1p tp:px-1.5p tp:border-b-0\"): \n",
    "     price.append(i.text.split(\"₹\")[2])\n",
    "\n",
    "        \n",
    "        \n",
    "price"
   ]
  },
  {
   "cell_type": "code",
   "execution_count": null,
   "id": "e128e2ed",
   "metadata": {},
   "outputs": [],
   "source": [
    "emi=[]\n",
    "\n",
    "for i in soup.find_all('div',class_=\"p-1.5p flex border-b border-b-solid border-cardbordercolor tp:py-1p tp:px-1.5p tp:border-b-0\"): \n",
    "     emi.append(i.text.split('₹')[4].replace(\"/MonthEstimated\",\"\"))\n",
    "\n",
    "        \n",
    "        \n",
    "emi"
   ]
  },
  {
   "cell_type": "code",
   "execution_count": null,
   "id": "4af2f26e",
   "metadata": {},
   "outputs": [],
   "source": [
    "import pandas as pd \n",
    "\n",
    "df=pd.DataFrame({\"Title\":title,\"Location\":location,\"sqrt_area\":area,\"Rate\":price,\"EMI\":emi})"
   ]
  },
  {
   "cell_type": "code",
   "execution_count": null,
   "id": "b5bbe506",
   "metadata": {},
   "outputs": [],
   "source": [
    "df"
   ]
  },
  {
   "cell_type": "code",
   "execution_count": null,
   "id": "8ac4792b",
   "metadata": {},
   "outputs": [],
   "source": [
    "from bs4 import BeautifulSoup\n",
    "import requests\n",
    "\n",
    "page=requests.get(\"https://www.nobroker.in/property/sale/bangalore/Rajajinagar?searchParam=W3sibGF0IjoxMi45OTgxNzMyLCJsb24iOjc3LjU1MzA0NDU5OTk5OTk5LCJwbGFjZUlkIjoiQ2hJSnhmVzREUE05cmpzUktzTlRHLTVwX1FRIiwicGxhY2VOYW1lIjoiUmFqYWppbmFnYXIifV0=&radius=2.0&city=bangalore&locality=Rajajinagar\")\n",
    "page\n",
    "\n",
    "soup=BeautifulSoup(page.content)\n",
    "\n",
    "title=[]\n",
    "\n",
    "for i in soup.find_all('a',class_=\"overflow-hidden overflow-ellipsis whitespace-nowrap max-w-80pe po:max-w-full\"):\n",
    "    title.append(i.text)\n",
    "    \n",
    "title\n",
    "\n",
    "location=[]\n",
    "\n",
    "for i in soup.find_all('div',class_=\"mt-0.5p overflow-hidden overflow-ellipsis whitespace-nowrap max-w-70 text-gray-light leading-4 po:mb-0.1p po:max-w-95\"):\n",
    "    location.append(i.text)\n",
    "    \n",
    "location\n",
    "\n",
    "price=[]\n",
    "\n",
    "for i in soup.find_all(\"div\",class_=\"p-1.5p flex border-b border-b-solid border-cardbordercolor tp:py-1p tp:px-1.5p tp:border-b-0\"):\n",
    "    price.append(i.text.split(\"₹\")[2])\n",
    "    \n",
    "price\n",
    "\n",
    "emi=[]\n",
    "\n",
    "for i in soup.find_all(\"div\",class_=\"p-1.5p flex border-b border-b-solid border-cardbordercolor tp:py-1p tp:px-1.5p tp:border-b-0\"):\n",
    "    emi.append(i.text.split(\"₹\")[4].replace(\"sqftBuiltup\",\"\"))\n",
    "    \n",
    "emi\n",
    "\n",
    "area=[]\n",
    "\n",
    "for i in soup.find_all(\"div\",class_=\"flex flex-col w-33pe items-center tp:w-half po:w-full\"):\n",
    "    area.append(i.text.replace(\"sqftBuiltup\",\"\"))\n",
    "\n",
    "    \n",
    "area\n",
    "\n",
    "import pandas as pd\n",
    "\n",
    "df=pd.DataFrame({\"Title\":title,\"Price\":price,\"Location\":location,\"area\":area,\"emi\":emi})\n",
    "\n",
    "df"
   ]
  },
  {
   "cell_type": "code",
   "execution_count": null,
   "id": "a7b2b9e2",
   "metadata": {},
   "outputs": [],
   "source": [
    "from bs4 import BeautifulSoup\n",
    "import requests\n",
    "\n",
    "page=requests.get(\"https://www.nobroker.in/property/sale/bangalore/Jayanagar?searchParam=W3sibGF0IjoxMi45MzA3NzM1LCJsb24iOjc3LjU4MzgzMDIsInBsYWNlSWQiOiJDaElKMmRkbFo1Z1ZyanNSaDFCT0FhZi1vcnMiLCJwbGFjZU5hbWUiOiJKYXlhbmFnYXIiLCJzaG93TWFwIjpmYWxzZX1d&radius=2.0&city=bangalore&locality=Rajajinagar&isMetro=false\")\n",
    "page\n",
    "\n",
    "soup=BeautifulSoup(page.content)\n",
    "\n",
    "title=[]\n",
    "\n",
    "for i in soup.find_all('a',class_=\"overflow-hidden overflow-ellipsis whitespace-nowrap max-w-80pe po:max-w-full\"):\n",
    "    title.append(i.text)\n",
    "    \n",
    "title\n",
    "\n",
    "location=[]\n",
    "\n",
    "for i in soup.find_all('div',class_=\"mt-0.5p overflow-hidden overflow-ellipsis whitespace-nowrap max-w-70 text-gray-light leading-4 po:mb-0.1p po:max-w-95\"):\n",
    "    location.append(i.text)\n",
    "    \n",
    "location\n",
    "\n",
    "price=[]\n",
    "\n",
    "for i in soup.find_all(\"div\",class_=\"p-1.5p flex border-b border-b-solid border-cardbordercolor tp:py-1p tp:px-1.5p tp:border-b-0\"):\n",
    "    price.append(i.text.split(\"₹\")[2])\n",
    "    \n",
    "price\n",
    "\n",
    "emi=[]\n",
    "\n",
    "for i in soup.find_all(\"div\",class_=\"p-1.5p flex border-b border-b-solid border-cardbordercolor tp:py-1p tp:px-1.5p tp:border-b-0\"):\n",
    "    emi.append(i.text.split(\"₹\")[4].replace(\"sqftBuiltup\",\"\"))\n",
    "    \n",
    "emi\n",
    "\n",
    "area=[]\n",
    "\n",
    "for i in soup.find_all(\"div\",class_=\"flex flex-col w-33pe items-center tp:w-half po:w-full\"):\n",
    "    area.append(i.text.replace(\"sqftBuiltup\",\"\"))\n",
    "\n",
    "    \n",
    "area\n",
    "\n",
    "import pandas as pd\n",
    "\n",
    "df=pd.DataFrame({\"Title\":title,\"Price\":price,\"Location\":location,\"area\":area,\"emi\":emi})\n",
    "\n",
    "df"
   ]
  },
  {
   "cell_type": "markdown",
   "id": "89ef91ab",
   "metadata": {},
   "source": [
    "#4) Write a python program to scrape details of all the posts from https://www.patreon.com/coreyms .Scrape the \n",
    "heading, date, content and the likes for the video from the link for the youtube video from the post\n"
   ]
  },
  {
   "cell_type": "code",
   "execution_count": 54,
   "id": "ccbada7a",
   "metadata": {},
   "outputs": [
    {
     "data": {
      "text/plain": [
       "[]"
      ]
     },
     "execution_count": 54,
     "metadata": {},
     "output_type": "execute_result"
    }
   ],
   "source": [
    "from bs4 import BeautifulSoup\n",
    "import requests\n",
    "\n",
    "page = requests.get(\"https://www.patreon.com/coreyms\")\n",
    "soup = BeautifulSoup(page.content)\n",
    "\n",
    "heading = []\n",
    "\n",
    "for post_title in soup.find_all('div',class_=\"sc-d4f3hw-3 fPpudi\"):\n",
    "    heading.append(post_title.text)\n",
    "\n",
    "heading\n"
   ]
  },
  {
   "cell_type": "code",
   "execution_count": 56,
   "id": "5e945bf7",
   "metadata": {},
   "outputs": [
    {
     "data": {
      "text/plain": [
       "[]"
      ]
     },
     "execution_count": 56,
     "metadata": {},
     "output_type": "execute_result"
    }
   ],
   "source": [
    "from bs4 import BeautifulSoup\n",
    "import requests\n",
    "\n",
    "page = requests.get(\"https://www.patreon.com/coreyms\")\n",
    "soup = BeautifulSoup(page.content)\n",
    "\n",
    "heading = []\n",
    "\n",
    "for post_title in soup.find_all('div',class_=\"sc-dlVxhl gJYudr\"):\n",
    "    heading.append(post_title.text)\n",
    "\n",
    "heading\n"
   ]
  },
  {
   "cell_type": "markdown",
   "id": "b70d105f",
   "metadata": {},
   "source": [
    "#Q1-Please visit https://www.cnbc.com/world/?region=world and scrap-\n",
    "\n",
    "a) headings\n",
    "\n",
    "b) date\n",
    "\n",
    "c) News link\n",
    "\n"
   ]
  },
  {
   "cell_type": "code",
   "execution_count": 114,
   "id": "78e78061",
   "metadata": {},
   "outputs": [
    {
     "data": {
      "text/plain": [
       "[\"OpenAI says in memo that Musk's claims ‘stem from Elon’s regrets’ that he's gone\",\n",
       " 'Waymo wins approval to expand robotaxi service in Los Angeles, San Francisco Peninsula',\n",
       " 'CEO explains why RadNet is piloting mammogram screenings in Walmart stores',\n",
       " \"Cramer's Lightning Round: 'Not recommending' Global Net Lease\",\n",
       " \"Cramer's week ahead: Watch for earnings from Target, CrowdStrike, Kroger and more\",\n",
       " 'Super Micro joining S&P 500 after stock price soars more than 20-fold in 2 years',\n",
       " 'Change Healthcare sets up a new electronic prescription service and funding program',\n",
       " 'Lockheed Martin looks to acquire spacecraft maker Terran Orbital for $600M',\n",
       " 'Google Gemini head removes social media profiles after AI product launch',\n",
       " 'Reddit seeking a valuation of up to $6.5 billion in IPO',\n",
       " 'NASA shuts down satellite refueling project after Maxar is cited for poor performance',\n",
       " 'Fed Chair Powell and jobs data take center stage next week on Wall Street',\n",
       " 'Here are the Nasdaq’s most beloved stocks that are expected to rally',\n",
       " \"What worked and didn't work this week from AI and cyber to consumer and gaming\",\n",
       " 'Judge rejects AstraZeneca’s challenge to Medicare drug price negotiations',\n",
       " 'What to know about this hot AI stock up nearly 800% in the past year',\n",
       " 'Dell shares have best day since return to stock market in 2018',\n",
       " \"Appliances don't last like they used to, experts say. Consider this before getting repair\",\n",
       " 'Co-defendant in Sen. Bob Menendez corruption case pleads guilty',\n",
       " 'Stocks making the biggest moves midday: Spirit AeroSystems, Zscaler and more',\n",
       " 'These are the most overbought stocks with the market at a record',\n",
       " \"AI startup Cohere says some rivals build Bugatti sports cars, 'We make F150s'\",\n",
       " 'CVS and Walgreens to start selling abortion pill mifepristone this month\\xa0',\n",
       " '7 places to retire abroad and live comfortably on as little as $1,000/month',\n",
       " 'Couple earns up to $70,000 a month, but still feels stressed about money',\n",
       " \"Wall Street is worried about NYCB's loan losses and deposits as stock sinks \",\n",
       " 'This dividend strategy is swapping out chip stock winner for Starbucks',\n",
       " 'The U.S. national debt is rising by $1 trillion about every 100 days',\n",
       " 'An analyst call on red-hot Broadcom indicates a possible buying opportunity ahead',\n",
       " 'Trump lawyers urge judge to schedule classified documents trial after election']"
      ]
     },
     "execution_count": 114,
     "metadata": {},
     "output_type": "execute_result"
    }
   ],
   "source": [
    "from bs4 import BeautifulSoup\n",
    "import requests\n",
    "\n",
    "page1=requests.get(\"https://www.cnbc.com/world/?region=world\")\n",
    "\n",
    "soup1=BeautifulSoup(page1.content)\n",
    "\n",
    "headings=[]\n",
    "\n",
    "for i in soup1.find_all('a',class_=\"LatestNews-headline\"):\n",
    "    headings.append(i.text)\n",
    "    \n",
    "headings\n",
    "\n"
   ]
  },
  {
   "cell_type": "code",
   "execution_count": 119,
   "id": "50c61a18",
   "metadata": {},
   "outputs": [
    {
     "data": {
      "text/plain": [
       "['https://www.cnbc.com/2024/03/01/openai-says-musk-claims-in-lawsuit-stem-from-elons-regrets-hes-out.html',\n",
       " 'https://www.cnbc.com/2024/03/01/waymo-approved-to-expand-robotaxi-service-in-los-angeles-sf-peninsula.html',\n",
       " 'https://www.cnbc.com/2024/03/01/ceo-explains-why-radnet-is-piloting-mammogram-screenings-in-walmart-stores.html',\n",
       " 'https://www.cnbc.com/2024/03/01/cramers-lightning-round-not-recommending-global-net-lease.html',\n",
       " 'https://www.cnbc.com/2024/03/01/cramers-week-ahead-earnings-from-target-crowdstrike-and-kroger.html',\n",
       " 'https://www.cnbc.com/2024/03/01/super-micro-joining-sp-500-after-20-fold-jump-in-stock-in-two-years.html',\n",
       " 'https://www.cnbc.com/2024/03/01/change-healthcare-new-electronic-prescription-tool-amid-cyberattack.html',\n",
       " 'https://www.cnbc.com/2024/03/01/lockheed-martin-looks-to-acquire-terran-orbital-for-about-600-million.html',\n",
       " 'https://www.cnbc.com/2024/03/01/google-gemini-head-removes-social-media-profiles-after-product-launch.html',\n",
       " 'https://www.cnbc.com/2024/03/01/reddit-seeking-a-valuation-of-up-to-6point5-billion-in-ipo.html',\n",
       " 'https://www.cnbc.com/2024/03/01/nasa-shuts-down-maxar-led-osam-1-satellite-refueling-project.html',\n",
       " 'https://www.cnbc.com/2024/03/01/fed-chair-powell-and-jobs-data-take-center-stage-next-week-on-wall-street.html',\n",
       " 'https://www.cnbc.com/2024/03/01/the-nasdaqs-most-beloved-stocks-that-are-expected-to-rally.html',\n",
       " 'https://www.cnbc.com/2024/03/01/what-worked-didnt-work-this-week-salesforce-palo-alto-and-apple-wynn.html',\n",
       " 'https://www.cnbc.com/2024/03/01/medicare-drug-price-negotiations-judge-rejects-astrazeneca-challenge.html',\n",
       " 'https://www.cnbc.com/2024/03/01/people-didnt-see-it-coming-what-to-know-about-this-hot-ai-stock-up-nearly-800percent-in-the-past-year.html',\n",
       " 'https://www.cnbc.com/2024/03/01/dell-shares-have-best-day-since-return-to-stock-market-in-2018.html',\n",
       " 'https://www.cnbc.com/2024/03/01/household-appliances-cost-more-but-dont-last-like-they-used-to.html',\n",
       " 'https://www.cnbc.com/2024/03/01/co-defendant-in-sen-bob-menendez-corruption-case-pleads-guilty.html',\n",
       " 'https://www.cnbc.com/2024/03/01/stocks-making-the-biggest-moves-midday-spr-zs-dell-amd-and-more.html',\n",
       " 'https://www.cnbc.com/2024/03/01/these-are-the-most-overbought-stocks-with-the-market-at-a-record-including-general-electric.html',\n",
       " 'https://www.cnbc.com/2024/03/01/cohere-says-rivals-are-building-bugatti-sports-cars-we-make-f150s.html',\n",
       " 'https://www.cnbc.com/2024/03/01/cvs-walgreens-to-start-selling-abortion-pill-mifepristone-this-month-.html',\n",
       " 'https://www.cnbc.com/2024/03/01/us-news-world-report-most-affordable-places-retire-abroad.html',\n",
       " 'https://www.cnbc.com/2024/03/01/why-couple-worth-1point3-million-dollars-still-feels-broke.html',\n",
       " 'https://www.cnbc.com/2024/03/01/wall-street-worries-about-nycbs-loan-losses-and-deposit-levels.html',\n",
       " 'https://www.cnbc.com/2024/03/01/this-dividend-strategy-is-swapping-out-a-chip-stock-winner-for-starbucks-heres-why.html',\n",
       " 'https://www.cnbc.com/2024/03/01/the-us-national-debt-is-rising-by-1-trillion-about-every-100-days.html',\n",
       " 'https://www.cnbc.com/2024/03/01/an-analyst-call-on-red-hot-broadcom-indicates-a-possible-buying-opportunity-ahead.html',\n",
       " 'https://www.cnbc.com/2024/03/01/trump-lawyers-want-classified-documents-trial-after-election.html']"
      ]
     },
     "execution_count": 119,
     "metadata": {},
     "output_type": "execute_result"
    }
   ],
   "source": [
    "time_str=[]\n",
    "\n",
    "for i in soup1.find_all('time',class_=\"LatestNews-timestamp\"):\n",
    "    time_str.append(i.text)\n",
    "    \n",
    "time_str\n",
    "\n",
    "news_link=[]\n",
    "\n",
    "for i in soup1.find_all('a',class_=\"LatestNews-headline\"):\n",
    "    news_link.append(i['href'])\n",
    "    \n",
    "news_link"
   ]
  },
  {
   "cell_type": "code",
   "execution_count": 120,
   "id": "c97da7b1",
   "metadata": {},
   "outputs": [
    {
     "name": "stdout",
     "output_type": "stream",
     "text": [
      "30 30 30\n"
     ]
    }
   ],
   "source": [
    "print(len(headings),len(time_str),len(news_link))"
   ]
  },
  {
   "cell_type": "code",
   "execution_count": 128,
   "id": "06f77e89",
   "metadata": {},
   "outputs": [
    {
     "name": "stdout",
     "output_type": "stream",
     "text": [
      "2024-03-02\n",
      "2024-03-02\n",
      "2024-03-02\n",
      "2024-03-02\n",
      "2024-03-02\n",
      "2024-03-02\n",
      "2024-03-02\n",
      "2024-03-02\n",
      "2024-03-02\n",
      "2024-03-02\n",
      "2024-03-02\n",
      "2024-03-02\n",
      "2024-03-02\n",
      "2024-03-02\n",
      "2024-03-02\n",
      "2024-03-02\n",
      "2024-03-01\n",
      "2024-03-01\n",
      "2024-03-01\n",
      "2024-03-01\n",
      "2024-03-01\n",
      "2024-03-01\n",
      "2024-03-01\n",
      "2024-03-01\n",
      "2024-03-01\n",
      "2024-03-01\n",
      "2024-03-01\n",
      "2024-03-01\n",
      "2024-03-01\n",
      "2024-03-01\n"
     ]
    }
   ],
   "source": [
    "from datetime import datetime,timedelta\n",
    "\n",
    "time_frame=['7 Hours Ago',\n",
    " '11 Hours Ago',\n",
    " '11 Hours Ago',\n",
    " '11 Hours Ago',\n",
    " '11 Hours Ago',\n",
    " '12 Hours Ago',\n",
    " '12 Hours Ago',\n",
    " '12 Hours Ago',\n",
    " '13 Hours Ago',\n",
    " '14 Hours Ago',\n",
    " '15 Hours Ago',\n",
    " '15 Hours Ago',\n",
    " '16 Hours Ago',\n",
    " '16 Hours Ago',\n",
    " '16 Hours Ago',\n",
    " '16 Hours Ago',\n",
    " '17 Hours Ago',\n",
    " '17 Hours Ago',\n",
    " '17 Hours Ago',\n",
    " '17 Hours Ago',\n",
    " '17 Hours Ago',\n",
    " '17 Hours Ago',\n",
    " '18 Hours Ago',\n",
    " '18 Hours Ago',\n",
    " '18 Hours Ago',\n",
    " '18 Hours Ago',\n",
    " '18 Hours Ago',\n",
    " '18 Hours Ago',\n",
    " '18 Hours Ago',\n",
    " '18 Hours Ago']\n",
    "\n",
    "def convert_time_date(timestring):\n",
    "    hours_ago=int(timestring.split()[0])\n",
    "    dt=datetime.now()-timedelta(hours=hours_ago)\n",
    "    return dt.date()\n",
    "\n",
    "date=[convert_time_date(timestring) for timestring in time_frame]\n",
    "\n",
    "for dates in date:\n",
    "    print(dates)\n",
    "\n"
   ]
  },
  {
   "cell_type": "code",
   "execution_count": 129,
   "id": "4e4b0bb8",
   "metadata": {},
   "outputs": [
    {
     "data": {
      "text/html": [
       "<div>\n",
       "<style scoped>\n",
       "    .dataframe tbody tr th:only-of-type {\n",
       "        vertical-align: middle;\n",
       "    }\n",
       "\n",
       "    .dataframe tbody tr th {\n",
       "        vertical-align: top;\n",
       "    }\n",
       "\n",
       "    .dataframe thead th {\n",
       "        text-align: right;\n",
       "    }\n",
       "</style>\n",
       "<table border=\"1\" class=\"dataframe\">\n",
       "  <thead>\n",
       "    <tr style=\"text-align: right;\">\n",
       "      <th></th>\n",
       "      <th>Headings</th>\n",
       "      <th>Date</th>\n",
       "      <th>News_url</th>\n",
       "    </tr>\n",
       "  </thead>\n",
       "  <tbody>\n",
       "    <tr>\n",
       "      <th>0</th>\n",
       "      <td>OpenAI says in memo that Musk's claims ‘stem f...</td>\n",
       "      <td>2024-03-02</td>\n",
       "      <td>https://www.cnbc.com/2024/03/01/openai-says-mu...</td>\n",
       "    </tr>\n",
       "    <tr>\n",
       "      <th>1</th>\n",
       "      <td>Waymo wins approval to expand robotaxi service...</td>\n",
       "      <td>2024-03-02</td>\n",
       "      <td>https://www.cnbc.com/2024/03/01/waymo-approved...</td>\n",
       "    </tr>\n",
       "    <tr>\n",
       "      <th>2</th>\n",
       "      <td>CEO explains why RadNet is piloting mammogram ...</td>\n",
       "      <td>2024-03-02</td>\n",
       "      <td>https://www.cnbc.com/2024/03/01/ceo-explains-w...</td>\n",
       "    </tr>\n",
       "    <tr>\n",
       "      <th>3</th>\n",
       "      <td>Cramer's Lightning Round: 'Not recommending' G...</td>\n",
       "      <td>2024-03-02</td>\n",
       "      <td>https://www.cnbc.com/2024/03/01/cramers-lightn...</td>\n",
       "    </tr>\n",
       "    <tr>\n",
       "      <th>4</th>\n",
       "      <td>Cramer's week ahead: Watch for earnings from T...</td>\n",
       "      <td>2024-03-02</td>\n",
       "      <td>https://www.cnbc.com/2024/03/01/cramers-week-a...</td>\n",
       "    </tr>\n",
       "    <tr>\n",
       "      <th>5</th>\n",
       "      <td>Super Micro joining S&amp;P 500 after stock price ...</td>\n",
       "      <td>2024-03-02</td>\n",
       "      <td>https://www.cnbc.com/2024/03/01/super-micro-jo...</td>\n",
       "    </tr>\n",
       "    <tr>\n",
       "      <th>6</th>\n",
       "      <td>Change Healthcare sets up a new electronic pre...</td>\n",
       "      <td>2024-03-02</td>\n",
       "      <td>https://www.cnbc.com/2024/03/01/change-healthc...</td>\n",
       "    </tr>\n",
       "    <tr>\n",
       "      <th>7</th>\n",
       "      <td>Lockheed Martin looks to acquire spacecraft ma...</td>\n",
       "      <td>2024-03-02</td>\n",
       "      <td>https://www.cnbc.com/2024/03/01/lockheed-marti...</td>\n",
       "    </tr>\n",
       "    <tr>\n",
       "      <th>8</th>\n",
       "      <td>Google Gemini head removes social media profil...</td>\n",
       "      <td>2024-03-02</td>\n",
       "      <td>https://www.cnbc.com/2024/03/01/google-gemini-...</td>\n",
       "    </tr>\n",
       "    <tr>\n",
       "      <th>9</th>\n",
       "      <td>Reddit seeking a valuation of up to $6.5 billi...</td>\n",
       "      <td>2024-03-02</td>\n",
       "      <td>https://www.cnbc.com/2024/03/01/reddit-seeking...</td>\n",
       "    </tr>\n",
       "    <tr>\n",
       "      <th>10</th>\n",
       "      <td>NASA shuts down satellite refueling project af...</td>\n",
       "      <td>2024-03-02</td>\n",
       "      <td>https://www.cnbc.com/2024/03/01/nasa-shuts-dow...</td>\n",
       "    </tr>\n",
       "    <tr>\n",
       "      <th>11</th>\n",
       "      <td>Fed Chair Powell and jobs data take center sta...</td>\n",
       "      <td>2024-03-02</td>\n",
       "      <td>https://www.cnbc.com/2024/03/01/fed-chair-powe...</td>\n",
       "    </tr>\n",
       "    <tr>\n",
       "      <th>12</th>\n",
       "      <td>Here are the Nasdaq’s most beloved stocks that...</td>\n",
       "      <td>2024-03-02</td>\n",
       "      <td>https://www.cnbc.com/2024/03/01/the-nasdaqs-mo...</td>\n",
       "    </tr>\n",
       "    <tr>\n",
       "      <th>13</th>\n",
       "      <td>What worked and didn't work this week from AI ...</td>\n",
       "      <td>2024-03-02</td>\n",
       "      <td>https://www.cnbc.com/2024/03/01/what-worked-di...</td>\n",
       "    </tr>\n",
       "    <tr>\n",
       "      <th>14</th>\n",
       "      <td>Judge rejects AstraZeneca’s challenge to Medic...</td>\n",
       "      <td>2024-03-02</td>\n",
       "      <td>https://www.cnbc.com/2024/03/01/medicare-drug-...</td>\n",
       "    </tr>\n",
       "    <tr>\n",
       "      <th>15</th>\n",
       "      <td>What to know about this hot AI stock up nearly...</td>\n",
       "      <td>2024-03-02</td>\n",
       "      <td>https://www.cnbc.com/2024/03/01/people-didnt-s...</td>\n",
       "    </tr>\n",
       "    <tr>\n",
       "      <th>16</th>\n",
       "      <td>Dell shares have best day since return to stoc...</td>\n",
       "      <td>2024-03-01</td>\n",
       "      <td>https://www.cnbc.com/2024/03/01/dell-shares-ha...</td>\n",
       "    </tr>\n",
       "    <tr>\n",
       "      <th>17</th>\n",
       "      <td>Appliances don't last like they used to, exper...</td>\n",
       "      <td>2024-03-01</td>\n",
       "      <td>https://www.cnbc.com/2024/03/01/household-appl...</td>\n",
       "    </tr>\n",
       "    <tr>\n",
       "      <th>18</th>\n",
       "      <td>Co-defendant in Sen. Bob Menendez corruption c...</td>\n",
       "      <td>2024-03-01</td>\n",
       "      <td>https://www.cnbc.com/2024/03/01/co-defendant-i...</td>\n",
       "    </tr>\n",
       "    <tr>\n",
       "      <th>19</th>\n",
       "      <td>Stocks making the biggest moves midday: Spirit...</td>\n",
       "      <td>2024-03-01</td>\n",
       "      <td>https://www.cnbc.com/2024/03/01/stocks-making-...</td>\n",
       "    </tr>\n",
       "    <tr>\n",
       "      <th>20</th>\n",
       "      <td>These are the most overbought stocks with the ...</td>\n",
       "      <td>2024-03-01</td>\n",
       "      <td>https://www.cnbc.com/2024/03/01/these-are-the-...</td>\n",
       "    </tr>\n",
       "    <tr>\n",
       "      <th>21</th>\n",
       "      <td>AI startup Cohere says some rivals build Bugat...</td>\n",
       "      <td>2024-03-01</td>\n",
       "      <td>https://www.cnbc.com/2024/03/01/cohere-says-ri...</td>\n",
       "    </tr>\n",
       "    <tr>\n",
       "      <th>22</th>\n",
       "      <td>CVS and Walgreens to start selling abortion pi...</td>\n",
       "      <td>2024-03-01</td>\n",
       "      <td>https://www.cnbc.com/2024/03/01/cvs-walgreens-...</td>\n",
       "    </tr>\n",
       "    <tr>\n",
       "      <th>23</th>\n",
       "      <td>7 places to retire abroad and live comfortably...</td>\n",
       "      <td>2024-03-01</td>\n",
       "      <td>https://www.cnbc.com/2024/03/01/us-news-world-...</td>\n",
       "    </tr>\n",
       "    <tr>\n",
       "      <th>24</th>\n",
       "      <td>Couple earns up to $70,000 a month, but still ...</td>\n",
       "      <td>2024-03-01</td>\n",
       "      <td>https://www.cnbc.com/2024/03/01/why-couple-wor...</td>\n",
       "    </tr>\n",
       "    <tr>\n",
       "      <th>25</th>\n",
       "      <td>Wall Street is worried about NYCB's loan losse...</td>\n",
       "      <td>2024-03-01</td>\n",
       "      <td>https://www.cnbc.com/2024/03/01/wall-street-wo...</td>\n",
       "    </tr>\n",
       "    <tr>\n",
       "      <th>26</th>\n",
       "      <td>This dividend strategy is swapping out chip st...</td>\n",
       "      <td>2024-03-01</td>\n",
       "      <td>https://www.cnbc.com/2024/03/01/this-dividend-...</td>\n",
       "    </tr>\n",
       "    <tr>\n",
       "      <th>27</th>\n",
       "      <td>The U.S. national debt is rising by $1 trillio...</td>\n",
       "      <td>2024-03-01</td>\n",
       "      <td>https://www.cnbc.com/2024/03/01/the-us-nationa...</td>\n",
       "    </tr>\n",
       "    <tr>\n",
       "      <th>28</th>\n",
       "      <td>An analyst call on red-hot Broadcom indicates ...</td>\n",
       "      <td>2024-03-01</td>\n",
       "      <td>https://www.cnbc.com/2024/03/01/an-analyst-cal...</td>\n",
       "    </tr>\n",
       "    <tr>\n",
       "      <th>29</th>\n",
       "      <td>Trump lawyers urge judge to schedule classifie...</td>\n",
       "      <td>2024-03-01</td>\n",
       "      <td>https://www.cnbc.com/2024/03/01/trump-lawyers-...</td>\n",
       "    </tr>\n",
       "  </tbody>\n",
       "</table>\n",
       "</div>"
      ],
      "text/plain": [
       "                                             Headings        Date  \\\n",
       "0   OpenAI says in memo that Musk's claims ‘stem f...  2024-03-02   \n",
       "1   Waymo wins approval to expand robotaxi service...  2024-03-02   \n",
       "2   CEO explains why RadNet is piloting mammogram ...  2024-03-02   \n",
       "3   Cramer's Lightning Round: 'Not recommending' G...  2024-03-02   \n",
       "4   Cramer's week ahead: Watch for earnings from T...  2024-03-02   \n",
       "5   Super Micro joining S&P 500 after stock price ...  2024-03-02   \n",
       "6   Change Healthcare sets up a new electronic pre...  2024-03-02   \n",
       "7   Lockheed Martin looks to acquire spacecraft ma...  2024-03-02   \n",
       "8   Google Gemini head removes social media profil...  2024-03-02   \n",
       "9   Reddit seeking a valuation of up to $6.5 billi...  2024-03-02   \n",
       "10  NASA shuts down satellite refueling project af...  2024-03-02   \n",
       "11  Fed Chair Powell and jobs data take center sta...  2024-03-02   \n",
       "12  Here are the Nasdaq’s most beloved stocks that...  2024-03-02   \n",
       "13  What worked and didn't work this week from AI ...  2024-03-02   \n",
       "14  Judge rejects AstraZeneca’s challenge to Medic...  2024-03-02   \n",
       "15  What to know about this hot AI stock up nearly...  2024-03-02   \n",
       "16  Dell shares have best day since return to stoc...  2024-03-01   \n",
       "17  Appliances don't last like they used to, exper...  2024-03-01   \n",
       "18  Co-defendant in Sen. Bob Menendez corruption c...  2024-03-01   \n",
       "19  Stocks making the biggest moves midday: Spirit...  2024-03-01   \n",
       "20  These are the most overbought stocks with the ...  2024-03-01   \n",
       "21  AI startup Cohere says some rivals build Bugat...  2024-03-01   \n",
       "22  CVS and Walgreens to start selling abortion pi...  2024-03-01   \n",
       "23  7 places to retire abroad and live comfortably...  2024-03-01   \n",
       "24  Couple earns up to $70,000 a month, but still ...  2024-03-01   \n",
       "25  Wall Street is worried about NYCB's loan losse...  2024-03-01   \n",
       "26  This dividend strategy is swapping out chip st...  2024-03-01   \n",
       "27  The U.S. national debt is rising by $1 trillio...  2024-03-01   \n",
       "28  An analyst call on red-hot Broadcom indicates ...  2024-03-01   \n",
       "29  Trump lawyers urge judge to schedule classifie...  2024-03-01   \n",
       "\n",
       "                                             News_url  \n",
       "0   https://www.cnbc.com/2024/03/01/openai-says-mu...  \n",
       "1   https://www.cnbc.com/2024/03/01/waymo-approved...  \n",
       "2   https://www.cnbc.com/2024/03/01/ceo-explains-w...  \n",
       "3   https://www.cnbc.com/2024/03/01/cramers-lightn...  \n",
       "4   https://www.cnbc.com/2024/03/01/cramers-week-a...  \n",
       "5   https://www.cnbc.com/2024/03/01/super-micro-jo...  \n",
       "6   https://www.cnbc.com/2024/03/01/change-healthc...  \n",
       "7   https://www.cnbc.com/2024/03/01/lockheed-marti...  \n",
       "8   https://www.cnbc.com/2024/03/01/google-gemini-...  \n",
       "9   https://www.cnbc.com/2024/03/01/reddit-seeking...  \n",
       "10  https://www.cnbc.com/2024/03/01/nasa-shuts-dow...  \n",
       "11  https://www.cnbc.com/2024/03/01/fed-chair-powe...  \n",
       "12  https://www.cnbc.com/2024/03/01/the-nasdaqs-mo...  \n",
       "13  https://www.cnbc.com/2024/03/01/what-worked-di...  \n",
       "14  https://www.cnbc.com/2024/03/01/medicare-drug-...  \n",
       "15  https://www.cnbc.com/2024/03/01/people-didnt-s...  \n",
       "16  https://www.cnbc.com/2024/03/01/dell-shares-ha...  \n",
       "17  https://www.cnbc.com/2024/03/01/household-appl...  \n",
       "18  https://www.cnbc.com/2024/03/01/co-defendant-i...  \n",
       "19  https://www.cnbc.com/2024/03/01/stocks-making-...  \n",
       "20  https://www.cnbc.com/2024/03/01/these-are-the-...  \n",
       "21  https://www.cnbc.com/2024/03/01/cohere-says-ri...  \n",
       "22  https://www.cnbc.com/2024/03/01/cvs-walgreens-...  \n",
       "23  https://www.cnbc.com/2024/03/01/us-news-world-...  \n",
       "24  https://www.cnbc.com/2024/03/01/why-couple-wor...  \n",
       "25  https://www.cnbc.com/2024/03/01/wall-street-wo...  \n",
       "26  https://www.cnbc.com/2024/03/01/this-dividend-...  \n",
       "27  https://www.cnbc.com/2024/03/01/the-us-nationa...  \n",
       "28  https://www.cnbc.com/2024/03/01/an-analyst-cal...  \n",
       "29  https://www.cnbc.com/2024/03/01/trump-lawyers-...  "
      ]
     },
     "execution_count": 129,
     "metadata": {},
     "output_type": "execute_result"
    }
   ],
   "source": [
    "df1=pd.DataFrame({\"Headings\":headings,\"Date\":date,\"News_url\":news_link})\n",
    "df1"
   ]
  },
  {
   "cell_type": "markdown",
   "id": "36c7d82e",
   "metadata": {},
   "source": [
    "#Q2-Please visit https://www.keaipublishing.com/en/journals/artificial-intelligence-in-agriculture/most-downloaded-articles/ and scrap-\n",
    "\n",
    "a) Paper title\n",
    "\n",
    "b) date\n",
    "\n",
    "c) Author"
   ]
  },
  {
   "cell_type": "code",
   "execution_count": 130,
   "id": "ac09693e",
   "metadata": {},
   "outputs": [
    {
     "data": {
      "text/plain": [
       "[' Tanha Talaviya |  Dhara Shah |  Nivedita Patel |  Hiteshri Yagnik |  Manan Shah',\n",
       " ' Jinyuan Xu |  Baoxing Gu |  Guangzhao Tian',\n",
       " ' Kirtan Jha |  Aalap Doshi |  Poojan Patel |  Manan Shah',\n",
       " ' A. Subeesh |  C.R. Mehta',\n",
       " ' Juzhong Tan |  Jie Xu',\n",
       " ' Matteo Rizzo |  Matteo Marcuzzo |  Alessandro Zangari |  Andrea Gasparetto |  Andrea Albarelli',\n",
       " ' Vijai Singh |  Namita Sharma |  Shikha Singh',\n",
       " ' V.G. Dhanya |  A. Subeesh |  N.L. Kushwaha |  Dinesh Kumar Vishwakarma |  T. Nagesh Kumar |  G. Ritika |  A.N. Singh',\n",
       " ' Md Taimur Ahad |  Yan Li |  Bo Song |  Touhid Bhuiyan',\n",
       " ' Ananda S. Paymode |  Vandana B. Malode',\n",
       " ' Punam Bedi |  Pushkar Gole',\n",
       " ' Oumnia Ennaji |  Leonardus Vergütz |  Achraf El Allali',\n",
       " ' P. Isaac Ritharson |  Kumudha Raimond |  X. Anitha Mary |  Jennifer Eunice Robert |  Andrew J',\n",
       " ' Vilani Sachithra |  L.D.C.S. Subhashini',\n",
       " ' Filbert H. Juwono |  W.K. Wong |  Seema Verma |  Neha Shekhawat |  Basil Andy Lease |  Catur Apriono',\n",
       " ' Abderahman Rejeb |  Karim Rejeb |  Suhaiza Zailani |  John G. Keogh |  Andrea Appolloni',\n",
       " ' A. Subeesh |  S. Bhole |  K. Singh |  N.S. Chandel |  Y.A. Rajwade |  K.V.R. Rao |  S.P. Kumar |  D. Jat',\n",
       " ' Md Ekramul Hossain |  Muhammad Ashad Kabir |  Lihong Zheng |  Dave L. Swain |  Shawn McGrath |  Jonathan Medway',\n",
       " ' Cedric Okinda |  Innocent Nyalala |  Tchalla Korohou |  Celestine Okinda |  Jintao Wang |  Tracy Achieng |  Patrick Wamalwa |  Tai Mang |  Mingxia Shen',\n",
       " ' R. Abbasi |  P. Martinez |  R. Ahmad',\n",
       " ' Misbah Pathan |  Nivedita Patel |  Hiteshri Yagnik |  Manan Shah',\n",
       " ' Masahiro Ryo',\n",
       " ' Jie Xu |  Shuang Guo |  David Xie |  Yaxuan Yan',\n",
       " ' Zaiqin Zhang |  Hang Zhang |  Tonghai Liu',\n",
       " ' Galib Muhammad Shahriar Himel |  Md. Masudul Islam |  Mijanur Rahaman']"
      ]
     },
     "execution_count": 130,
     "metadata": {},
     "output_type": "execute_result"
    }
   ],
   "source": [
    "from bs4 import BeautifulSoup\n",
    "import requests\n",
    "\n",
    "page2=requests.get(\"https://www.keaipublishing.com/en/journals/artificial-intelligence-in-agriculture/most-downloaded-articles/\")\n",
    "\n",
    "page2\n",
    "\n",
    "soup2=BeautifulSoup(page2.content)\n",
    "\n",
    "paper_title=[]\n",
    "\n",
    "    \n",
    "for i in soup2.find_all('h2', class_=\"h5 article-title\"):\n",
    "    paper_title.append(i.text.replace('\\n', '').replace('\\r', ''))\n",
    "\n",
    "paper_title\n",
    "\n",
    "date=[]\n",
    "\n",
    "for i in soup2.find_all('p',class_=\"article-date\"):\n",
    "    date.append(i.text)\n",
    "    \n",
    "date\n",
    "\n",
    "author=[]\n",
    "\n",
    "for i in soup2.find_all('p',class_=\"article-authors\"):\n",
    "    author.append(i.text)\n",
    "    \n",
    "author\n",
    "\n"
   ]
  },
  {
   "cell_type": "code",
   "execution_count": 131,
   "id": "bd428846",
   "metadata": {},
   "outputs": [
    {
     "name": "stdout",
     "output_type": "stream",
     "text": [
      "25 25 25\n"
     ]
    }
   ],
   "source": [
    "print(len(paper_title),len(date),len(author))"
   ]
  },
  {
   "cell_type": "code",
   "execution_count": 132,
   "id": "f3775f33",
   "metadata": {},
   "outputs": [
    {
     "data": {
      "text/plain": [
       "['                    Implementation of artificial intelligence in agriculture for optimisation of irrigation and application of pesticides and herbicides                ',\n",
       " '                    Review of agricultural IoT technology                ',\n",
       " '                    A comprehensive review on automation in agriculture using artificial intelligence                ',\n",
       " '                    Automation and digitization of agriculture using artificial intelligence and internet of things                ',\n",
       " '                    Applications of electronic nose (e-nose) and electronic tongue (e-tongue) in food quality-related properties determination: A review                ',\n",
       " '                    Fruit ripeness classification: A survey                ',\n",
       " '                    A review of imaging techniques for plant disease detection                ',\n",
       " '                    Deep learning based computer vision approaches for smart agricultural applications                ',\n",
       " '                    Comparison of CNN-based deep learning architectures for rice diseases classification                ',\n",
       " '                    Transfer Learning for Multi-Crop Leaf Disease Image Classification using Convolutional Neural Network VGG                ',\n",
       " '                    Plant disease detection using hybrid model based on convolutional autoencoder and convolutional neural network                ',\n",
       " '                    Machine learning in nutrient management: A review                ',\n",
       " '                    DeepRice: A deep learning and deep feature based classification of Rice leaf disease subtypes                ',\n",
       " '                    How artificial intelligence uses to achieve the agriculture sustainability: Systematic review                ',\n",
       " '                    Machine learning for weed–plant discrimination in agriculture 5.0: An in-depth review                ',\n",
       " '                    Examining the interplay between artificial intelligence and the agri-food industry                ',\n",
       " '                    Deep convolutional neural network models for weed detection in polyhouse grown bell peppers                ',\n",
       " '                    A systematic review of machine learning techniques for cattle identification: Datasets, methods and future directions                ',\n",
       " '                    A review on computer vision systems in monitoring of poultry: A welfare perspective                ',\n",
       " '                    Crop diagnostic system: A robust disease detection and management system for leafy green crops grown in an aquaponics facility                ',\n",
       " '                    Artificial cognition for applications in smart agriculture: A comprehensive review                ',\n",
       " '                    Explainable artificial intelligence and interpretable machine learning for agricultural data analysis                ',\n",
       " '                    Blockchain: A new safeguard for agri-foods                ',\n",
       " '                    Study on body temperature detection of pig based on infrared technology: A review                ',\n",
       " '                    Vision Intelligence for Smart Sheep Farming: Applying Ensemble Learning to Detect Sheep Breeds                ']"
      ]
     },
     "execution_count": 132,
     "metadata": {},
     "output_type": "execute_result"
    }
   ],
   "source": [
    "paper_title"
   ]
  },
  {
   "cell_type": "code",
   "execution_count": 55,
   "id": "de796f70",
   "metadata": {},
   "outputs": [
    {
     "data": {
      "text/html": [
       "<div>\n",
       "<style scoped>\n",
       "    .dataframe tbody tr th:only-of-type {\n",
       "        vertical-align: middle;\n",
       "    }\n",
       "\n",
       "    .dataframe tbody tr th {\n",
       "        vertical-align: top;\n",
       "    }\n",
       "\n",
       "    .dataframe thead th {\n",
       "        text-align: right;\n",
       "    }\n",
       "</style>\n",
       "<table border=\"1\" class=\"dataframe\">\n",
       "  <thead>\n",
       "    <tr style=\"text-align: right;\">\n",
       "      <th></th>\n",
       "      <th>Paper_title</th>\n",
       "      <th>Date</th>\n",
       "      <th>Author</th>\n",
       "    </tr>\n",
       "  </thead>\n",
       "  <tbody>\n",
       "    <tr>\n",
       "      <th>0</th>\n",
       "      <td>Implementation of artifici...</td>\n",
       "      <td>2020</td>\n",
       "      <td>Tanha Talaviya |  Dhara Shah |  Nivedita Pate...</td>\n",
       "    </tr>\n",
       "    <tr>\n",
       "      <th>1</th>\n",
       "      <td>Review of agricultural IoT...</td>\n",
       "      <td>2022</td>\n",
       "      <td>Jinyuan Xu |  Baoxing Gu |  Guangzhao Tian</td>\n",
       "    </tr>\n",
       "    <tr>\n",
       "      <th>2</th>\n",
       "      <td>A comprehensive review on ...</td>\n",
       "      <td>June 2019</td>\n",
       "      <td>Kirtan Jha |  Aalap Doshi |  Poojan Patel |  ...</td>\n",
       "    </tr>\n",
       "    <tr>\n",
       "      <th>3</th>\n",
       "      <td>Automation and digitizatio...</td>\n",
       "      <td>2021</td>\n",
       "      <td>A. Subeesh |  C.R. Mehta</td>\n",
       "    </tr>\n",
       "    <tr>\n",
       "      <th>4</th>\n",
       "      <td>Applications of electronic...</td>\n",
       "      <td>2020</td>\n",
       "      <td>Juzhong Tan |  Jie Xu</td>\n",
       "    </tr>\n",
       "    <tr>\n",
       "      <th>5</th>\n",
       "      <td>Fruit ripeness classificat...</td>\n",
       "      <td>March 2023</td>\n",
       "      <td>Matteo Rizzo |  Matteo Marcuzzo |  Alessandro...</td>\n",
       "    </tr>\n",
       "    <tr>\n",
       "      <th>6</th>\n",
       "      <td>A review of imaging techni...</td>\n",
       "      <td>2020</td>\n",
       "      <td>Vijai Singh |  Namita Sharma |  Shikha Singh</td>\n",
       "    </tr>\n",
       "    <tr>\n",
       "      <th>7</th>\n",
       "      <td>Deep learning based comput...</td>\n",
       "      <td>2022</td>\n",
       "      <td>V.G. Dhanya |  A. Subeesh |  N.L. Kushwaha | ...</td>\n",
       "    </tr>\n",
       "    <tr>\n",
       "      <th>8</th>\n",
       "      <td>Comparison of CNN-based de...</td>\n",
       "      <td>September 2023</td>\n",
       "      <td>Md Taimur Ahad |  Yan Li |  Bo Song |  Touhid...</td>\n",
       "    </tr>\n",
       "    <tr>\n",
       "      <th>9</th>\n",
       "      <td>Transfer Learning for Mult...</td>\n",
       "      <td>2022</td>\n",
       "      <td>Ananda S. Paymode |  Vandana B. Malode</td>\n",
       "    </tr>\n",
       "    <tr>\n",
       "      <th>10</th>\n",
       "      <td>Plant disease detection us...</td>\n",
       "      <td>2021</td>\n",
       "      <td>Punam Bedi |  Pushkar Gole</td>\n",
       "    </tr>\n",
       "    <tr>\n",
       "      <th>11</th>\n",
       "      <td>Machine learning in nutrie...</td>\n",
       "      <td>September 2023</td>\n",
       "      <td>Oumnia Ennaji |  Leonardus Vergütz |  Achraf ...</td>\n",
       "    </tr>\n",
       "    <tr>\n",
       "      <th>12</th>\n",
       "      <td>DeepRice: A deep learning ...</td>\n",
       "      <td>March 2024</td>\n",
       "      <td>P. Isaac Ritharson |  Kumudha Raimond |  X. A...</td>\n",
       "    </tr>\n",
       "    <tr>\n",
       "      <th>13</th>\n",
       "      <td>How artificial intelligenc...</td>\n",
       "      <td>June 2023</td>\n",
       "      <td>Vilani Sachithra |  L.D.C.S. Subhashini</td>\n",
       "    </tr>\n",
       "    <tr>\n",
       "      <th>14</th>\n",
       "      <td>Machine learning for weed–...</td>\n",
       "      <td>December 2023</td>\n",
       "      <td>Filbert H. Juwono |  W.K. Wong |  Seema Verma...</td>\n",
       "    </tr>\n",
       "    <tr>\n",
       "      <th>15</th>\n",
       "      <td>Examining the interplay be...</td>\n",
       "      <td>2022</td>\n",
       "      <td>Abderahman Rejeb |  Karim Rejeb |  Suhaiza Za...</td>\n",
       "    </tr>\n",
       "    <tr>\n",
       "      <th>16</th>\n",
       "      <td>Deep convolutional neural ...</td>\n",
       "      <td>2022</td>\n",
       "      <td>A. Subeesh |  S. Bhole |  K. Singh |  N.S. Ch...</td>\n",
       "    </tr>\n",
       "    <tr>\n",
       "      <th>17</th>\n",
       "      <td>A systematic review of mac...</td>\n",
       "      <td>2022</td>\n",
       "      <td>Md Ekramul Hossain |  Muhammad Ashad Kabir | ...</td>\n",
       "    </tr>\n",
       "    <tr>\n",
       "      <th>18</th>\n",
       "      <td>A review on computer visio...</td>\n",
       "      <td>2020</td>\n",
       "      <td>Cedric Okinda |  Innocent Nyalala |  Tchalla ...</td>\n",
       "    </tr>\n",
       "    <tr>\n",
       "      <th>19</th>\n",
       "      <td>Crop diagnostic system: A ...</td>\n",
       "      <td>December 2023</td>\n",
       "      <td>R. Abbasi |  P. Martinez |  R. Ahmad</td>\n",
       "    </tr>\n",
       "    <tr>\n",
       "      <th>20</th>\n",
       "      <td>Artificial cognition for a...</td>\n",
       "      <td>2020</td>\n",
       "      <td>Misbah Pathan |  Nivedita Patel |  Hiteshri Y...</td>\n",
       "    </tr>\n",
       "    <tr>\n",
       "      <th>21</th>\n",
       "      <td>Explainable artificial int...</td>\n",
       "      <td>2022</td>\n",
       "      <td>Masahiro Ryo</td>\n",
       "    </tr>\n",
       "    <tr>\n",
       "      <th>22</th>\n",
       "      <td>Blockchain: A new safeguar...</td>\n",
       "      <td>2020</td>\n",
       "      <td>Jie Xu |  Shuang Guo |  David Xie |  Yaxuan Yan</td>\n",
       "    </tr>\n",
       "    <tr>\n",
       "      <th>23</th>\n",
       "      <td>Study on body temperature ...</td>\n",
       "      <td>March 2019</td>\n",
       "      <td>Zaiqin Zhang |  Hang Zhang |  Tonghai Liu</td>\n",
       "    </tr>\n",
       "    <tr>\n",
       "      <th>24</th>\n",
       "      <td>Vision Intelligence for Sm...</td>\n",
       "      <td>March 2024</td>\n",
       "      <td>Galib Muhammad Shahriar Himel |  Md. Masudul ...</td>\n",
       "    </tr>\n",
       "  </tbody>\n",
       "</table>\n",
       "</div>"
      ],
      "text/plain": [
       "                                          Paper_title            Date  \\\n",
       "0                       Implementation of artifici...            2020   \n",
       "1                       Review of agricultural IoT...            2022   \n",
       "2                       A comprehensive review on ...       June 2019   \n",
       "3                       Automation and digitizatio...            2021   \n",
       "4                       Applications of electronic...            2020   \n",
       "5                       Fruit ripeness classificat...      March 2023   \n",
       "6                       A review of imaging techni...            2020   \n",
       "7                       Deep learning based comput...            2022   \n",
       "8                       Comparison of CNN-based de...  September 2023   \n",
       "9                       Transfer Learning for Mult...            2022   \n",
       "10                      Plant disease detection us...            2021   \n",
       "11                      Machine learning in nutrie...  September 2023   \n",
       "12                      DeepRice: A deep learning ...      March 2024   \n",
       "13                      How artificial intelligenc...       June 2023   \n",
       "14                      Machine learning for weed–...   December 2023   \n",
       "15                      Examining the interplay be...            2022   \n",
       "16                      Deep convolutional neural ...            2022   \n",
       "17                      A systematic review of mac...            2022   \n",
       "18                      A review on computer visio...            2020   \n",
       "19                      Crop diagnostic system: A ...   December 2023   \n",
       "20                      Artificial cognition for a...            2020   \n",
       "21                      Explainable artificial int...            2022   \n",
       "22                      Blockchain: A new safeguar...            2020   \n",
       "23                      Study on body temperature ...      March 2019   \n",
       "24                      Vision Intelligence for Sm...      March 2024   \n",
       "\n",
       "                                               Author  \n",
       "0    Tanha Talaviya |  Dhara Shah |  Nivedita Pate...  \n",
       "1          Jinyuan Xu |  Baoxing Gu |  Guangzhao Tian  \n",
       "2    Kirtan Jha |  Aalap Doshi |  Poojan Patel |  ...  \n",
       "3                            A. Subeesh |  C.R. Mehta  \n",
       "4                               Juzhong Tan |  Jie Xu  \n",
       "5    Matteo Rizzo |  Matteo Marcuzzo |  Alessandro...  \n",
       "6        Vijai Singh |  Namita Sharma |  Shikha Singh  \n",
       "7    V.G. Dhanya |  A. Subeesh |  N.L. Kushwaha | ...  \n",
       "8    Md Taimur Ahad |  Yan Li |  Bo Song |  Touhid...  \n",
       "9              Ananda S. Paymode |  Vandana B. Malode  \n",
       "10                         Punam Bedi |  Pushkar Gole  \n",
       "11   Oumnia Ennaji |  Leonardus Vergütz |  Achraf ...  \n",
       "12   P. Isaac Ritharson |  Kumudha Raimond |  X. A...  \n",
       "13            Vilani Sachithra |  L.D.C.S. Subhashini  \n",
       "14   Filbert H. Juwono |  W.K. Wong |  Seema Verma...  \n",
       "15   Abderahman Rejeb |  Karim Rejeb |  Suhaiza Za...  \n",
       "16   A. Subeesh |  S. Bhole |  K. Singh |  N.S. Ch...  \n",
       "17   Md Ekramul Hossain |  Muhammad Ashad Kabir | ...  \n",
       "18   Cedric Okinda |  Innocent Nyalala |  Tchalla ...  \n",
       "19               R. Abbasi |  P. Martinez |  R. Ahmad  \n",
       "20   Misbah Pathan |  Nivedita Patel |  Hiteshri Y...  \n",
       "21                                       Masahiro Ryo  \n",
       "22    Jie Xu |  Shuang Guo |  David Xie |  Yaxuan Yan  \n",
       "23          Zaiqin Zhang |  Hang Zhang |  Tonghai Liu  \n",
       "24   Galib Muhammad Shahriar Himel |  Md. Masudul ...  "
      ]
     },
     "execution_count": 55,
     "metadata": {},
     "output_type": "execute_result"
    }
   ],
   "source": [
    "import pandas as pd\n",
    "\n",
    "df2=pd.DataFrame({'Paper_title':paper_title,'Date':date,'Author':author})\n",
    "\n",
    "df2"
   ]
  }
 ],
 "metadata": {
  "kernelspec": {
   "display_name": "Python 3 (ipykernel)",
   "language": "python",
   "name": "python3"
  },
  "language_info": {
   "codemirror_mode": {
    "name": "ipython",
    "version": 3
   },
   "file_extension": ".py",
   "mimetype": "text/x-python",
   "name": "python",
   "nbconvert_exporter": "python",
   "pygments_lexer": "ipython3",
   "version": "3.11.3"
  }
 },
 "nbformat": 4,
 "nbformat_minor": 5
}
